{
 "cells": [
  {
   "cell_type": "markdown",
   "id": "f2c53d69",
   "metadata": {},
   "source": [
    "# Configuração dos dados para detecção de celulas - Projeto tireoide"
   ]
  },
  {
   "cell_type": "code",
   "execution_count": null,
   "id": "8cff6c7f",
   "metadata": {},
   "outputs": [],
   "source": [
    "from pacote import utils\n",
    "from pacote.convert_image_to_jpeg import convert_image_to_jpeg\n",
    "from pacote.annotation_functions import parse_name_txt\n",
    "from pacote.annotation_functions import visualize_txt_annotations\n",
    "from pacote.annotation_functions import TxtToOther\n",
    "import os"
   ]
  },
  {
   "cell_type": "code",
   "execution_count": null,
   "id": "1834524b",
   "metadata": {},
   "outputs": [],
   "source": [
    "#Pasta de trabalho\n",
    "path = \"C:/Users/Joelp/OneDrive/Imagens/tireoide/object-detection/copia\"\n",
    "os.listdir(path)"
   ]
  },
  {
   "cell_type": "markdown",
   "id": "c677b4ad",
   "metadata": {},
   "source": [
    "*Converter todas as imagens para jpg e renomear todos os arquivos*"
   ]
  },
  {
   "cell_type": "code",
   "execution_count": null,
   "id": "3b3d4fed",
   "metadata": {},
   "outputs": [],
   "source": [
    "#renomear para tirar caractere especial. Converter para jpg para evitar erros\n",
    "for sub in os.listdir(path):\n",
    "    p = path+\"/\"+sub\n",
    "    convert_image_to_jpeg(p,p)\n",
    "    utils.rename_all(p)"
   ]
  },
  {
   "cell_type": "markdown",
   "id": "42696dba",
   "metadata": {},
   "source": [
    "**Limitar as classes para apenas \"benigno\" e \"malino\"**"
   ]
  },
  {
   "cell_type": "code",
   "execution_count": null,
   "id": "9b476008",
   "metadata": {},
   "outputs": [],
   "source": [
    "#As classes anotadas são todas malignas\n",
    "for sub in os.listdir(path):\n",
    "    parse_name_txt(path+\"/\"+sub, \"m\")"
   ]
  },
  {
   "cell_type": "markdown",
   "id": "1d1245fd",
   "metadata": {},
   "source": [
    "**Mover para pasta em comum** (manualmente)"
   ]
  },
  {
   "cell_type": "code",
   "execution_count": null,
   "id": "0b0bdacf",
   "metadata": {},
   "outputs": [],
   "source": [
    "\n",
    "visualize_txt_annotations(path+\"/data\")"
   ]
  },
  {
   "cell_type": "markdown",
   "id": "810ca6fd",
   "metadata": {},
   "source": [
    "**Configurações para gerar tfrecord**"
   ]
  },
  {
   "cell_type": "code",
   "execution_count": null,
   "id": "afc2158b",
   "metadata": {},
   "outputs": [],
   "source": [
    "label_map = {\n",
    "    \"m\": 1\n",
    "}\n",
    "classes = [\n",
    "    \"undefined\"\n",
    "    \"m\"\n",
    "    \"m\"\n",
    "]"
   ]
  },
  {
   "cell_type": "markdown",
   "id": "2017a8d1",
   "metadata": {},
   "source": [
    "**Renomear a pasta que contém todas os arquivos de treino para \"train\"**"
   ]
  },
  {
   "cell_type": "code",
   "execution_count": null,
   "id": "49cef814",
   "metadata": {},
   "outputs": [],
   "source": [
    "utils.split_data(path+\"/train\", path+\"/validation\")"
   ]
  },
  {
   "cell_type": "code",
   "execution_count": null,
   "id": "c8467e0c",
   "metadata": {},
   "outputs": [],
   "source": [
    "#gerar csv\n",
    "txt_to_other = TxtToOther()\n",
    "txt_to_other.txt_to_csv(path+\"/train\", path+\"/train.csv\", classes, \"jpg\")\n",
    "txt_to_other.txt_to_csv(path+\"/validation\", path+\"/validation.csv\", classes, \"jpg\")"
   ]
  },
  {
   "cell_type": "code",
   "execution_count": null,
   "id": "be5c7f05",
   "metadata": {},
   "outputs": [],
   "source": [
    "\n",
    "# run\n",
    "main(\"../data/images/train.csv\",\"../data/images/train\",\"../data/images/train.tfrecord\",label_map)\n",
    "\n",
    "\"\"\"\n",
    "Dados de validação\n",
    "\"\"\"\n",
    "# run\n",
    "main(\"../data/images/validation.csv\",\"../data/images/validation\",\"../data/images/validation.tfrecord\",label_map)"
   ]
  }
 ],
 "metadata": {
  "kernelspec": {
   "display_name": "Python 3",
   "language": "python",
   "name": "python3"
  },
  "language_info": {
   "codemirror_mode": {
    "name": "ipython",
    "version": 3
   },
   "file_extension": ".py",
   "mimetype": "text/x-python",
   "name": "python",
   "nbconvert_exporter": "python",
   "pygments_lexer": "ipython3",
   "version": "3.7.0"
  }
 },
 "nbformat": 4,
 "nbformat_minor": 5
}
