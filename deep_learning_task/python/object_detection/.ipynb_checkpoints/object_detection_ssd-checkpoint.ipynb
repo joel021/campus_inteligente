{
 "cells": [
  {
   "cell_type": "code",
   "execution_count": null,
   "metadata": {
    "id": "JYOXSfyjJQLI"
   },
   "outputs": [],
   "source": [
    "!pip install tensorflow-gpu"
   ]
  },
  {
   "cell_type": "code",
   "execution_count": null,
   "metadata": {
    "colab": {
     "base_uri": "https://localhost:8080/"
    },
    "id": "Hd45j5TEj9BP",
    "outputId": "c7b51147-57f2-4a25-d179-55f0499aca2d"
   },
   "outputs": [
    {
     "name": "stdout",
     "output_type": "stream",
     "text": [
      "\n",
      "'sup!'\n",
      "nvcc: NVIDIA (R) Cuda compiler driver\n",
      "Copyright (c) 2005-2020 NVIDIA Corporation\n",
      "Built on Wed_Jul_22_19:09:09_PDT_2020\n",
      "Cuda compilation tools, release 11.0, V11.0.221\n",
      "Build cuda_11.0_bu.TC445_37.28845127_0\n"
     ]
    }
   ],
   "source": [
    "import tensorflow as tf\n",
    "\n",
    "device_name = tf.test.gpu_device_name()\n",
    "print(device_name)\n",
    "print(\"'sup!'\")\n",
    "\n",
    "!/usr/local/cuda/bin/nvcc --version"
   ]
  },
  {
   "cell_type": "code",
   "execution_count": null,
   "metadata": {
    "id": "GzviBCPoKS-1"
   },
   "outputs": [],
   "source": [
    "#baixar a api\n",
    "%cd /content/\n",
    "\n",
    "!wget https://github.com/tensorflow/models/archive/refs/heads/master.zip  #baixar a API mais recete disponibilizada pela TensorFlow\n",
    "!unzip master.zip\n",
    "!shred -u -z -n 20 master.zip #deletar o arquivo"
   ]
  },
  {
   "cell_type": "code",
   "execution_count": null,
   "metadata": {
    "id": "MhNNEe2SN0--"
   },
   "outputs": [],
   "source": [
    "#por indicações do tensor flow\n",
    "%cd /content/models-master/research\n",
    "# Compile protos.\n",
    "!protoc ./object_detection/protos/*.proto --python_out=.\n",
    "# Install TensorFlow Object Detection API.\n",
    "!cp ./object_detection/packages/tf2/setup.py .\n",
    "!python -m pip install .\n",
    "\n",
    "\"\"\"\n",
    "#instalar a api\n",
    "\n",
    "%cd /content/models-master/research\n",
    "\n",
    "#This creates a name_pb2.py file from every name.proto file in the \\object_detection\\protos folder\n",
    "!protoc --python_out=. ./object_detection/protos/anchor_generator.proto ./object_detection/protos/argmax_matcher.proto ./object_detection/protos/bipartite_matcher.proto ./object_detection/protos/box_coder.proto ./object_detection/protos/box_predictor.proto ./object_detection/protos/eval.proto ./object_detection/protos/faster_rcnn.proto ./object_detection/protos/faster_rcnn_box_coder.proto ./object_detection/protos/grid_anchor_generator.proto ./object_detection/protos/hyperparams.proto ./object_detection/protos/image_resizer.proto ./object_detection/protos/input_reader.proto ./object_detection/protos/losses.proto ./object_detection/protos/matcher.proto ./object_detection/protos/mean_stddev_box_coder.proto ./object_detection/protos/model.proto ./object_detection/protos/optimizer.proto ./object_detection/protos/pipeline.proto ./object_detection/protos/post_processing.proto ./object_detection/protos/preprocessor.proto ./object_detection/protos/region_similarity_calculator.proto ./object_detection/protos/square_box_coder.proto ./object_detection/protos/ssd.proto ./object_detection/protos/ssd_anchor_generator.proto ./object_detection/protos/string_int_label_map.proto ./object_detection/protos/train.proto ./object_detection/protos/keypoint_box_coder.proto ./object_detection/protos/multiscale_anchor_generator.proto ./object_detection/protos/graph_rewriter.proto ./object_detection/protos/calibration.proto ./object_detection/protos/flexible_grid_anchor_generator.proto\n",
    "object_detection/protos/ssd.proto --python_out=.\n",
    "#na mesma pasta, research:\n",
    "!python setup.py build\n",
    "!python setup.py install\n",
    "\"\"\""
   ]
  },
  {
   "cell_type": "code",
   "execution_count": null,
   "metadata": {
    "colab": {
     "base_uri": "https://localhost:8080/"
    },
    "id": "kJ00F8AiNuHI",
    "outputId": "0cd08985-fe70-412e-9324-f163471b76fa"
   },
   "outputs": [
    {
     "name": "stdout",
     "output_type": "stream",
     "text": [
      "/content/drive/MyDrive/blocos_UFRB/object-detection\n",
      "/content\n"
     ]
    }
   ],
   "source": [
    "#ecolher o modelo a ser treinado\n",
    "\n",
    "#baixar o arquivo para a pasta \"models/object_detection\"\n",
    "\n",
    "#!wget http://download.tensorflow.org/models/object_detection/ssd_mobilenet_v3_small_coco_2020_01_14.tar.gz #320x320\n",
    "#!wget http://download.tensorflow.org/models/object_detection/ssd_mobilenet_v2_quantized_300x300_coco_2019_01_03.tar.gz #300x300\n",
    "\n",
    "#!tar -zxvf ssd_mobilenet_v2_quantized_300x300_coco_2019_01_03.tar.gz\n",
    "#!shred -u -z -n 20 ssd_mobilenet_v2_quantized_300x300_coco_2019_01_03.tar.gz #deletar o arquivo\n",
    "\n",
    "#copiar a configuração desse modelo da pasta samples da api\n",
    "%cd /content/\n",
    "!cp /content/models-master/research/object_detection/configs/tf2/ssd_efficientdet_d0_512x512_coco17_tpu-8.config /content/drive/MyDrive/blocos_UFRB/object-detection/training/\n"
   ]
  },
  {
   "cell_type": "code",
   "execution_count": 9,
   "metadata": {
    "colab": {
     "base_uri": "https://localhost:8080/"
    },
    "id": "lTNer2DTVgRW",
    "outputId": "882c7f21-0058-4ee9-ef0c-9ddad5f89d47"
   },
   "outputs": [
    {
     "name": "stdout",
     "output_type": "stream",
     "text": [
      "/content/models-master/research/object_detection\n",
      "2021-04-16 16:47:22.416945: I tensorflow/stream_executor/platform/default/dso_loader.cc:49] Successfully opened dynamic library libcudart.so.11.0\n",
      "Traceback (most recent call last):\n",
      "  File \"/usr/lib/python3.7/urllib/request.py\", line 1350, in do_open\n",
      "    encode_chunked=req.has_header('Transfer-encoding'))\n",
      "  File \"/usr/lib/python3.7/http/client.py\", line 1277, in request\n",
      "    self._send_request(method, url, body, headers, encode_chunked)\n",
      "  File \"/usr/lib/python3.7/http/client.py\", line 1323, in _send_request\n",
      "    self.endheaders(body, encode_chunked=encode_chunked)\n",
      "  File \"/usr/lib/python3.7/http/client.py\", line 1272, in endheaders\n",
      "    self._send_output(message_body, encode_chunked=encode_chunked)\n",
      "  File \"/usr/lib/python3.7/http/client.py\", line 1032, in _send_output\n",
      "    self.send(msg)\n",
      "  File \"/usr/lib/python3.7/http/client.py\", line 972, in send\n",
      "    self.connect()\n",
      "  File \"/usr/lib/python3.7/http/client.py\", line 944, in connect\n",
      "    (self.host,self.port), self.timeout, self.source_address)\n",
      "  File \"/usr/lib/python3.7/socket.py\", line 728, in create_connection\n",
      "    raise err\n",
      "  File \"/usr/lib/python3.7/socket.py\", line 716, in create_connection\n",
      "    sock.connect(sa)\n",
      "TimeoutError: [Errno 110] Connection timed out\n",
      "\n",
      "During handling of the above exception, another exception occurred:\n",
      "\n",
      "Traceback (most recent call last):\n",
      "  File \"model_main_tf2.py\", line 113, in <module>\n",
      "    tf.compat.v1.app.run()\n",
      "  File \"/usr/local/lib/python3.7/dist-packages/tensorflow/python/platform/app.py\", line 40, in run\n",
      "    _run(main=main, argv=argv, flags_parser=_parse_flags_tolerate_undef)\n",
      "  File \"/usr/local/lib/python3.7/dist-packages/absl/app.py\", line 303, in run\n",
      "    _run_main(main, args)\n",
      "  File \"/usr/local/lib/python3.7/dist-packages/absl/app.py\", line 251, in _run_main\n",
      "    sys.exit(main(argv))\n",
      "  File \"model_main_tf2.py\", line 94, in main\n",
      "    FLAGS.tpu_name)\n",
      "  File \"/usr/local/lib/python3.7/dist-packages/tensorflow/python/distribute/cluster_resolver/tpu/tpu_cluster_resolver.py\", line 207, in __init__\n",
      "    discovery_url=discovery_url)\n",
      "  File \"/usr/local/lib/python3.7/dist-packages/tensorflow/python/tpu/client/client.py\", line 164, in __init__\n",
      "    self._project = _request_compute_metadata('project/project-id')\n",
      "  File \"/usr/local/lib/python3.7/dist-packages/tensorflow/python/tpu/client/client.py\", line 82, in _request_compute_metadata\n",
      "    resp = request.urlopen(req)\n",
      "  File \"/usr/lib/python3.7/urllib/request.py\", line 222, in urlopen\n",
      "    return opener.open(url, data, timeout)\n",
      "  File \"/usr/lib/python3.7/urllib/request.py\", line 525, in open\n",
      "    response = self._open(req, data)\n",
      "  File \"/usr/lib/python3.7/urllib/request.py\", line 543, in _open\n",
      "    '_open', req)\n",
      "  File \"/usr/lib/python3.7/urllib/request.py\", line 503, in _call_chain\n",
      "    result = func(*args)\n",
      "  File \"/usr/lib/python3.7/urllib/request.py\", line 1378, in http_open\n",
      "    return self.do_open(http.client.HTTPConnection, req)\n",
      "  File \"/usr/lib/python3.7/urllib/request.py\", line 1352, in do_open\n",
      "    raise URLError(err)\n",
      "urllib.error.URLError: <urlopen error [Errno 110] Connection timed out>\n"
     ]
    }
   ],
   "source": [
    "%cd /content/models-master/research/object_detection/\n",
    "\n",
    "!python model_main_tf2.py \\\n",
    "        --logtostderr \\\n",
    "        --use_tpu = False \\\n",
    "        --tpu_name = None \\\n",
    "        --train_steps=20000 \\\n",
    "        --model_dir = /content/drive/MyDrive/blocos_UFRB/object-detection/ssd_efficientdet_d0_512x512_coco17_tpu-8 \\\n",
    "        --train_dir=/content/drive/MyDrive/blocos_UFRB/object-detection/training/ \\\n",
    "        --pipeline_config_path=/content/drive/MyDrive/blocos_UFRB/object-detection/training/ssd_efficientdet_d0_512x512_coco17_tpu-8.config"
   ]
  },
  {
   "cell_type": "code",
   "execution_count": null,
   "metadata": {
    "id": "sbhmTUBtR14n"
   },
   "outputs": [],
   "source": []
  }
 ],
 "metadata": {
  "accelerator": "TPU",
  "colab": {
   "collapsed_sections": [],
   "name": "tutorial-object-detetiion-ssd-mobile-net.ipynb",
   "provenance": []
  },
  "kernelspec": {
   "display_name": "Python 3",
   "language": "python",
   "name": "python3"
  },
  "language_info": {
   "codemirror_mode": {
    "name": "ipython",
    "version": 3
   },
   "file_extension": ".py",
   "mimetype": "text/x-python",
   "name": "python",
   "nbconvert_exporter": "python",
   "pygments_lexer": "ipython3",
   "version": "3.8.5"
  }
 },
 "nbformat": 4,
 "nbformat_minor": 1
}
