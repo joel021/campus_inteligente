{
 "cells": [
  {
   "cell_type": "markdown",
   "metadata": {
    "id": "gZp-5Jh4hTq1"
   },
   "source": [
    "tutorial: https://github.com/EdjeElectronics/TensorFlow-Lite-Object-Detection-on-Android-and-Raspberry-Pi\n",
    "\n",
    "**Go to runtime-->change runtime type--> GPU**   \n",
    "\n",
    "(change to GPU if it is none)\n",
    "\n",
    "* working on support for tensorboard"
   ]
  },
  {
   "cell_type": "code",
   "execution_count": null,
   "metadata": {
    "id": "aSu4I1Pee0Ii"
   },
   "outputs": [],
   "source": [
    "!pip install git+https://github.com/tensorflow/models/tree/master/research/object_detection"
   ]
  },
  {
   "cell_type": "code",
   "execution_count": 1,
   "metadata": {
    "colab": {
     "base_uri": "https://localhost:8080/"
    },
    "executionInfo": {
     "elapsed": 25086,
     "status": "ok",
     "timestamp": 1618570980010,
     "user": {
      "displayName": "Joel Pires",
      "photoUrl": "",
      "userId": "04104313084458887080"
     },
     "user_tz": 180
    },
    "id": "upu6k7e7Oumi",
    "outputId": "4fb7030b-e9cf-46d1-88a6-4f701b75eb2c"
   },
   "outputs": [
    {
     "name": "stdout",
     "output_type": "stream",
     "text": [
      "Mounted at /content/drive\n"
     ]
    }
   ],
   "source": [
    "# mount drive with colab\n",
    "from google.colab import drive\n",
    "drive.mount('/content/drive',force_remount=True)"
   ]
  },
  {
   "cell_type": "markdown",
   "metadata": {
    "id": "xG7TGvd5Ht_z"
   },
   "source": [
    "#Preparação do ambiente"
   ]
  },
  {
   "cell_type": "code",
   "execution_count": null,
   "metadata": {
    "colab": {
     "base_uri": "https://localhost:8080/"
    },
    "executionInfo": {
     "elapsed": 17614,
     "status": "ok",
     "timestamp": 1618495754976,
     "user": {
      "displayName": "Joel Pires",
      "photoUrl": "https://lh3.googleusercontent.com/a-/AOh14GjrkaLfiKiet0e-o_oXvTKF-XtZ2WaMxUJ8jf5BZw=s64",
      "userId": "05624030019219650428"
     },
     "user_tz": 180
    },
    "id": "WWb3u4ZBIbKC",
    "outputId": "15c82b8f-dc0b-4558-a12d-c0e0240252c4"
   },
   "outputs": [
    {
     "name": "stdout",
     "output_type": "stream",
     "text": [
      "/content/drive/MyDrive/blocos_UFRB/object-detection/dados\n"
     ]
    }
   ],
   "source": [
    "%cd /content/drive/MyDrive/blocos_UFRB/object-detection/dados\n",
    "#extrair imagens para a pasta\n",
    "import zipfile\n",
    "#with zipfile.ZipFile(\"train.zip\", 'r') as zip_ref:\n",
    "#    #zip_ref.extractall(\"\")\n",
    "\n",
    "with zipfile.ZipFile(\"test.zip\", 'r') as zip_ref:\n",
    "    zip_ref.extractall(\"\")\n"
   ]
  },
  {
   "cell_type": "code",
   "execution_count": null,
   "metadata": {
    "colab": {
     "base_uri": "https://localhost:8080/"
    },
    "executionInfo": {
     "elapsed": 149916,
     "status": "ok",
     "timestamp": 1618499222860,
     "user": {
      "displayName": "Joel Pires",
      "photoUrl": "https://lh3.googleusercontent.com/a-/AOh14GjrkaLfiKiet0e-o_oXvTKF-XtZ2WaMxUJ8jf5BZw=s64",
      "userId": "05624030019219650428"
     },
     "user_tz": 180
    },
    "id": "MycYUOICJDVK",
    "outputId": "0006bcb9-2293-4acd-b5f0-89e8bcbcd416"
   },
   "outputs": [
    {
     "name": "stdout",
     "output_type": "stream",
     "text": [
      "/content/drive/MyDrive/blocos_UFRB/object-detection/pacote\n",
      "Gerando dados de treino\n",
      ".Successfully created the TFRecords: ../dados/train.record\n"
     ]
    }
   ],
   "source": [
    "#gerar os arquivos train.record e test.record na pasta dados\n",
    "%cd /content/drive/MyDrive/blocos_UFRB/object-detection/pacote/\n",
    "!python generate_tfrecord.py #modificar este arquivo antes de executar para configurar as pastas de forma correta."
   ]
  },
  {
   "cell_type": "markdown",
   "metadata": {
    "id": "ZADmHK2CoJYU"
   },
   "source": [
    "**Usar tensorflow com a mesma versão do tutorial usado, caso ocorrerem erros relacionados a versão**"
   ]
  },
  {
   "cell_type": "code",
   "execution_count": null,
   "metadata": {
    "id": "4t5F1c3a0PM3"
   },
   "outputs": [],
   "source": [
    "!pip uninstall tensorflow-object-detection-api "
   ]
  },
  {
   "cell_type": "code",
   "execution_count": null,
   "metadata": {
    "id": "TRcYpP0pnu1-"
   },
   "outputs": [],
   "source": [
    "!pip install tensorflow-gpu==1.15.0 #deve-se usar esta versão para poder usar o extrador v3."
   ]
  },
  {
   "cell_type": "code",
   "execution_count": null,
   "metadata": {
    "id": "97wm_NF9cmXw"
   },
   "outputs": [],
   "source": [
    "!pip install tensorflow==1.15.0"
   ]
  },
  {
   "cell_type": "code",
   "execution_count": null,
   "metadata": {
    "id": "Fvop8Gpl26tu"
   },
   "outputs": [],
   "source": [
    "!pip install tf-slim==1.0.0"
   ]
  },
  {
   "cell_type": "code",
   "execution_count": null,
   "metadata": {
    "colab": {
     "base_uri": "https://localhost:8080/"
    },
    "executionInfo": {
     "elapsed": 4676,
     "status": "ok",
     "timestamp": 1618526334071,
     "user": {
      "displayName": "Joel Pires",
      "photoUrl": "",
      "userId": "04104313084458887080"
     },
     "user_tz": 180
    },
    "id": "RvtJYRMJFMdE",
    "outputId": "f8c9ca5d-4abf-4c94-b67c-b226f80e0a85"
   },
   "outputs": [
    {
     "name": "stdout",
     "output_type": "stream",
     "text": [
      "2021-04-15 22:38:53.534010: I tensorflow/stream_executor/platform/default/dso_loader.cc:49] Successfully opened dynamic library libcudart.so.11.0\n",
      "2.4.1\n"
     ]
    }
   ],
   "source": [
    "!python3 -c 'import tensorflow as tf; print(tf.__version__)'  # for Python 3"
   ]
  },
  {
   "cell_type": "code",
   "execution_count": null,
   "metadata": {
    "colab": {
     "base_uri": "https://localhost:8080/"
    },
    "executionInfo": {
     "elapsed": 4049,
     "status": "ok",
     "timestamp": 1618505454483,
     "user": {
      "displayName": "Joel Pires",
      "photoUrl": "https://lh3.googleusercontent.com/a-/AOh14GjrkaLfiKiet0e-o_oXvTKF-XtZ2WaMxUJ8jf5BZw=s64",
      "userId": "05624030019219650428"
     },
     "user_tz": 180
    },
    "id": "PzM68IfXZ87H",
    "outputId": "eea1cc3d-817b-4f83-f874-3c84fdec1554"
   },
   "outputs": [
    {
     "name": "stdout",
     "output_type": "stream",
     "text": [
      "/device:GPU:0\n",
      "'sup!'\n",
      "nvcc: NVIDIA (R) Cuda compiler driver\n",
      "Copyright (c) 2005-2020 NVIDIA Corporation\n",
      "Built on Wed_Jul_22_19:09:09_PDT_2020\n",
      "Cuda compilation tools, release 11.0, V11.0.221\n",
      "Build cuda_11.0_bu.TC445_37.28845127_0\n"
     ]
    }
   ],
   "source": [
    "import tensorflow as tf\n",
    "device_name = tf.test.gpu_device_name()\n",
    "print(device_name)\n",
    "\n",
    "print(\"'sup!'\")\n",
    "\n",
    "!/usr/local/cuda/bin/nvcc --version"
   ]
  },
  {
   "cell_type": "code",
   "execution_count": null,
   "metadata": {
    "id": "g5ygVAQIAHTB"
   },
   "outputs": [],
   "source": [
    "#trabalhar na pasta object-detection.\n",
    "%cd /content/drive/MyDrive/blocos_UFRB/object-detection\n",
    "\n",
    "!wget https://github.com/tensorflow/models/archive/master.zip #baixar a API mais recete disponibilizada pela TensorFlow\n",
    "!unzip master.zip\n",
    "!shred -u -z -n 20 master.zip #deletar o arquivo\n",
    "\n",
    "#renomear a pasta \"models-master\" para \"models\""
   ]
  },
  {
   "cell_type": "code",
   "execution_count": null,
   "metadata": {
    "id": "MZrMx5OkBGEx",
    "scrolled": true
   },
   "outputs": [],
   "source": [
    "#baixar o arquivo para a pasta \"models/object_detection\"\n",
    "%cd /content/drive/MyDrive/blocos_UFRB/object-detection/models/research/object_detection/\n",
    "\n",
    "#!wget http://download.tensorflow.org/models/object_detection/ssd_mobilenet_v3_small_coco_2020_01_14.tar.gz #320x320\n",
    "#!wget http://download.tensorflow.org/models/object_detection/ssd_mobilenet_v2_quantized_300x300_coco_2019_01_03.tar.gz #300x300\n",
    "\n",
    "!tar -zxvf ssd_mobilenet_v2_quantized_300x300_coco_2019_01_03.tar.gz\n",
    "!shred -u -z -n 20 ssd_mobilenet_v2_quantized_300x300_coco_2019_01_03.tar.gz #deletar o arquivo"
   ]
  },
  {
   "cell_type": "code",
   "execution_count": 1,
   "metadata": {},
   "outputs": [
    {
     "name": "stdout",
     "output_type": "stream",
     "text": [
      "'Cópia de tensorflow2-object-detection.ipynb'   models-master\r\n",
      " data\t\t\t\t\t        pacote\r\n",
      " geracao_e_balanceamento.ipynb\t\t        testes.py\r\n",
      " InserirMetadataNoTFLITE.ipynb\t\t        Untitled.ipynb\r\n",
      " links.txt\r\n"
     ]
    }
   ],
   "source": [
    "!ls"
   ]
  },
  {
   "cell_type": "markdown",
   "metadata": {
    "id": "HHUKZSiHfC--"
   },
   "source": [
    "**Instalação do object-detection-api e Configurar arquivos protos**"
   ]
  },
  {
   "cell_type": "code",
   "execution_count": 12,
   "metadata": {
    "colab": {
     "base_uri": "https://localhost:8080/"
    },
    "executionInfo": {
     "elapsed": 12112,
     "status": "ok",
     "timestamp": 1618572810731,
     "user": {
      "displayName": "Joel Pires",
      "photoUrl": "",
      "userId": "04104313084458887080"
     },
     "user_tz": 180
    },
    "id": "Gpf783SFklyb",
    "outputId": "811aa6dc-e636-4451-a650-318357f0805e"
   },
   "outputs": [
    {
     "name": "stdout",
     "output_type": "stream",
     "text": [
      "/content/drive/MyDrive/blocos_UFRB/object-detection/models/research\n",
      "Processing /content/drive/My Drive/blocos_UFRB/object-detection/models/research\n",
      "\u001b[31mERROR: Operation cancelled by user\u001b[0m\n"
     ]
    }
   ],
   "source": [
    "#por indicações do tensor flow\n",
    "%cd /models-master/research\n",
    "# Compile protos.\n",
    "!protoc ./object_detection/protos/*.proto --python_out=.\n",
    "# Install TensorFlow Object Detection API.\n",
    "!cp ./object_detection/packages/tf2/setup.py .\n",
    "!python -m pip install ."
   ]
  },
  {
   "cell_type": "code",
   "execution_count": null,
   "metadata": {
    "id": "7aNXFEmZZKr9"
   },
   "outputs": [],
   "source": [
    "!python setup.py build\n",
    "!python setup.py install"
   ]
  },
  {
   "cell_type": "code",
   "execution_count": 15,
   "metadata": {
    "colab": {
     "base_uri": "https://localhost:8080/"
    },
    "executionInfo": {
     "elapsed": 28422,
     "status": "ok",
     "timestamp": 1618572901508,
     "user": {
      "displayName": "Joel Pires",
      "photoUrl": "",
      "userId": "04104313084458887080"
     },
     "user_tz": 180
    },
    "id": "sFtzvnVZfGG2",
    "outputId": "dbcbc9d0-9ebb-4914-882b-e3db3646b9c0"
   },
   "outputs": [
    {
     "name": "stdout",
     "output_type": "stream",
     "text": [
      "/content/drive/MyDrive/blocos_UFRB/object-detection/models/research\n",
      "running build\n",
      "running build_py\n",
      "copying object_detection/protos/anchor_generator_pb2.py -> build/lib/object_detection/protos\n",
      "copying object_detection/protos/argmax_matcher_pb2.py -> build/lib/object_detection/protos\n",
      "copying object_detection/protos/box_coder_pb2.py -> build/lib/object_detection/protos\n",
      "copying object_detection/protos/box_predictor_pb2.py -> build/lib/object_detection/protos\n",
      "copying object_detection/protos/bipartite_matcher_pb2.py -> build/lib/object_detection/protos\n",
      "copying object_detection/protos/calibration_pb2.py -> build/lib/object_detection/protos\n",
      "copying object_detection/protos/flexible_grid_anchor_generator_pb2.py -> build/lib/object_detection/protos\n",
      "copying object_detection/protos/eval_pb2.py -> build/lib/object_detection/protos\n",
      "copying object_detection/protos/faster_rcnn_pb2.py -> build/lib/object_detection/protos\n",
      "copying object_detection/protos/faster_rcnn_box_coder_pb2.py -> build/lib/object_detection/protos\n",
      "copying object_detection/protos/grid_anchor_generator_pb2.py -> build/lib/object_detection/protos\n",
      "copying object_detection/protos/hyperparams_pb2.py -> build/lib/object_detection/protos\n",
      "copying object_detection/protos/image_resizer_pb2.py -> build/lib/object_detection/protos\n",
      "copying object_detection/protos/keypoint_box_coder_pb2.py -> build/lib/object_detection/protos\n",
      "copying object_detection/protos/input_reader_pb2.py -> build/lib/object_detection/protos\n",
      "copying object_detection/protos/losses_pb2.py -> build/lib/object_detection/protos\n",
      "copying object_detection/protos/matcher_pb2.py -> build/lib/object_detection/protos\n",
      "copying object_detection/protos/mean_stddev_box_coder_pb2.py -> build/lib/object_detection/protos\n",
      "copying object_detection/protos/optimizer_pb2.py -> build/lib/object_detection/protos\n",
      "copying object_detection/protos/model_pb2.py -> build/lib/object_detection/protos\n",
      "copying object_detection/protos/multiscale_anchor_generator_pb2.py -> build/lib/object_detection/protos\n",
      "copying object_detection/protos/graph_rewriter_pb2.py -> build/lib/object_detection/protos\n",
      "copying object_detection/protos/pipeline_pb2.py -> build/lib/object_detection/protos\n",
      "copying object_detection/protos/post_processing_pb2.py -> build/lib/object_detection/protos\n",
      "copying object_detection/protos/preprocessor_pb2.py -> build/lib/object_detection/protos\n",
      "copying object_detection/protos/region_similarity_calculator_pb2.py -> build/lib/object_detection/protos\n",
      "copying object_detection/protos/ssd_anchor_generator_pb2.py -> build/lib/object_detection/protos\n",
      "copying object_detection/protos/ssd_pb2.py -> build/lib/object_detection/protos\n",
      "copying object_detection/protos/string_int_label_map_pb2.py -> build/lib/object_detection/protos\n",
      "copying object_detection/protos/square_box_coder_pb2.py -> build/lib/object_detection/protos\n",
      "copying object_detection/protos/train_pb2.py -> build/lib/object_detection/protos\n",
      "running egg_info\n",
      "writing object_detection.egg-info/PKG-INFO\n",
      "writing dependency_links to object_detection.egg-info/dependency_links.txt\n",
      "writing requirements to object_detection.egg-info/requires.txt\n",
      "writing top-level names to object_detection.egg-info/top_level.txt\n",
      "reading manifest file 'object_detection.egg-info/SOURCES.txt'\n",
      "writing manifest file 'object_detection.egg-info/SOURCES.txt'\n",
      "running install\n",
      "running bdist_egg\n",
      "running egg_info\n",
      "writing object_detection.egg-info/PKG-INFO\n",
      "writing dependency_links to object_detection.egg-info/dependency_links.txt\n",
      "writing requirements to object_detection.egg-info/requires.txt\n",
      "writing top-level names to object_detection.egg-info/top_level.txt\n",
      "reading manifest file 'object_detection.egg-info/SOURCES.txt'\n",
      "writing manifest file 'object_detection.egg-info/SOURCES.txt'\n",
      "installing library code to build/bdist.linux-x86_64/egg\n",
      "running install_lib\n",
      "running build_py\n",
      "creating build/bdist.linux-x86_64/egg\n",
      "creating build/bdist.linux-x86_64/egg/object_detection\n",
      "copying build/lib/object_detection/export_tflite_graph_tf2.py -> build/bdist.linux-x86_64/egg/object_detection\n",
      "copying build/lib/object_detection/export_tflite_graph_lib_tf2_test.py -> build/bdist.linux-x86_64/egg/object_detection\n",
      "copying build/lib/object_detection/exporter_main_v2.py -> build/bdist.linux-x86_64/egg/object_detection\n",
      "copying build/lib/object_detection/inputs.py -> build/bdist.linux-x86_64/egg/object_detection\n",
      "copying build/lib/object_detection/exporter_tf1_test.py -> build/bdist.linux-x86_64/egg/object_detection\n",
      "copying build/lib/object_detection/eval_util_test.py -> build/bdist.linux-x86_64/egg/object_detection\n",
      "copying build/lib/object_detection/export_tflite_ssd_graph_lib.py -> build/bdist.linux-x86_64/egg/object_detection\n",
      "copying build/lib/object_detection/model_lib_tf1_test.py -> build/bdist.linux-x86_64/egg/object_detection\n",
      "copying build/lib/object_detection/exporter.py -> build/bdist.linux-x86_64/egg/object_detection\n",
      "copying build/lib/object_detection/export_tflite_ssd_graph.py -> build/bdist.linux-x86_64/egg/object_detection\n",
      "copying build/lib/object_detection/model_tpu_main.py -> build/bdist.linux-x86_64/egg/object_detection\n",
      "copying build/lib/object_detection/export_tflite_graph_lib_tf2.py -> build/bdist.linux-x86_64/egg/object_detection\n",
      "copying build/lib/object_detection/model_hparams.py -> build/bdist.linux-x86_64/egg/object_detection\n",
      "copying build/lib/object_detection/model_lib_v2.py -> build/bdist.linux-x86_64/egg/object_detection\n",
      "copying build/lib/object_detection/export_inference_graph.py -> build/bdist.linux-x86_64/egg/object_detection\n",
      "copying build/lib/object_detection/__init__.py -> build/bdist.linux-x86_64/egg/object_detection\n",
      "copying build/lib/object_detection/inputs_test.py -> build/bdist.linux-x86_64/egg/object_detection\n",
      "copying build/lib/object_detection/exporter_lib_v2.py -> build/bdist.linux-x86_64/egg/object_detection\n",
      "copying build/lib/object_detection/model_lib_tf2_test.py -> build/bdist.linux-x86_64/egg/object_detection\n",
      "copying build/lib/object_detection/exporter_lib_tf2_test.py -> build/bdist.linux-x86_64/egg/object_detection\n",
      "copying build/lib/object_detection/export_tflite_ssd_graph_lib_tf1_test.py -> build/bdist.linux-x86_64/egg/object_detection\n",
      "creating build/bdist.linux-x86_64/egg/object_detection/anchor_generators\n",
      "copying build/lib/object_detection/anchor_generators/__init__.py -> build/bdist.linux-x86_64/egg/object_detection/anchor_generators\n",
      "copying build/lib/object_detection/anchor_generators/flexible_grid_anchor_generator.py -> build/bdist.linux-x86_64/egg/object_detection/anchor_generators\n",
      "copying build/lib/object_detection/anchor_generators/multiscale_grid_anchor_generator.py -> build/bdist.linux-x86_64/egg/object_detection/anchor_generators\n",
      "copying build/lib/object_detection/anchor_generators/grid_anchor_generator.py -> build/bdist.linux-x86_64/egg/object_detection/anchor_generators\n",
      "copying build/lib/object_detection/anchor_generators/grid_anchor_generator_test.py -> build/bdist.linux-x86_64/egg/object_detection/anchor_generators\n",
      "copying build/lib/object_detection/anchor_generators/multiple_grid_anchor_generator_test.py -> build/bdist.linux-x86_64/egg/object_detection/anchor_generators\n",
      "copying build/lib/object_detection/anchor_generators/flexible_grid_anchor_generator_test.py -> build/bdist.linux-x86_64/egg/object_detection/anchor_generators\n",
      "copying build/lib/object_detection/anchor_generators/multiscale_grid_anchor_generator_test.py -> build/bdist.linux-x86_64/egg/object_detection/anchor_generators\n",
      "copying build/lib/object_detection/anchor_generators/multiple_grid_anchor_generator.py -> build/bdist.linux-x86_64/egg/object_detection/anchor_generators\n",
      "creating build/bdist.linux-x86_64/egg/object_detection/box_coders\n",
      "copying build/lib/object_detection/box_coders/__init__.py -> build/bdist.linux-x86_64/egg/object_detection/box_coders\n",
      "copying build/lib/object_detection/box_coders/keypoint_box_coder_test.py -> build/bdist.linux-x86_64/egg/object_detection/box_coders\n",
      "copying build/lib/object_detection/box_coders/mean_stddev_box_coder_test.py -> build/bdist.linux-x86_64/egg/object_detection/box_coders\n",
      "copying build/lib/object_detection/box_coders/faster_rcnn_box_coder_test.py -> build/bdist.linux-x86_64/egg/object_detection/box_coders\n",
      "copying build/lib/object_detection/box_coders/faster_rcnn_box_coder.py -> build/bdist.linux-x86_64/egg/object_detection/box_coders\n",
      "copying build/lib/object_detection/box_coders/square_box_coder_test.py -> build/bdist.linux-x86_64/egg/object_detection/box_coders\n",
      "copying build/lib/object_detection/box_coders/square_box_coder.py -> build/bdist.linux-x86_64/egg/object_detection/box_coders\n",
      "copying build/lib/object_detection/box_coders/mean_stddev_box_coder.py -> build/bdist.linux-x86_64/egg/object_detection/box_coders\n",
      "copying build/lib/object_detection/box_coders/keypoint_box_coder.py -> build/bdist.linux-x86_64/egg/object_detection/box_coders\n",
      "creating build/bdist.linux-x86_64/egg/object_detection/builders\n",
      "copying build/lib/object_detection/builders/calibration_builder_test.py -> build/bdist.linux-x86_64/egg/object_detection/builders\n",
      "copying build/lib/object_detection/builders/decoder_builder_test.py -> build/bdist.linux-x86_64/egg/object_detection/builders\n",
      "copying build/lib/object_detection/builders/dataset_builder.py -> build/bdist.linux-x86_64/egg/object_detection/builders\n",
      "copying build/lib/object_detection/builders/hyperparams_builder.py -> build/bdist.linux-x86_64/egg/object_detection/builders\n",
      "copying build/lib/object_detection/builders/model_builder_tf2_test.py -> build/bdist.linux-x86_64/egg/object_detection/builders\n",
      "copying build/lib/object_detection/builders/box_predictor_builder_test.py -> build/bdist.linux-x86_64/egg/object_detection/builders\n",
      "copying build/lib/object_detection/builders/optimizer_builder_tf1_test.py -> build/bdist.linux-x86_64/egg/object_detection/builders\n",
      "copying build/lib/object_detection/builders/target_assigner_builder.py -> build/bdist.linux-x86_64/egg/object_detection/builders\n",
      "copying build/lib/object_detection/builders/hyperparams_builder_test.py -> build/bdist.linux-x86_64/egg/object_detection/builders\n",
      "copying build/lib/object_detection/builders/model_builder_test.py -> build/bdist.linux-x86_64/egg/object_detection/builders\n",
      "copying build/lib/object_detection/builders/model_builder_tf1_test.py -> build/bdist.linux-x86_64/egg/object_detection/builders\n",
      "copying build/lib/object_detection/builders/region_similarity_calculator_builder.py -> build/bdist.linux-x86_64/egg/object_detection/builders\n",
      "copying build/lib/object_detection/builders/box_coder_builder_test.py -> build/bdist.linux-x86_64/egg/object_detection/builders\n",
      "copying build/lib/object_detection/builders/input_reader_builder_tf1_test.py -> build/bdist.linux-x86_64/egg/object_detection/builders\n",
      "copying build/lib/object_detection/builders/post_processing_builder.py -> build/bdist.linux-x86_64/egg/object_detection/builders\n",
      "copying build/lib/object_detection/builders/target_assigner_builder_test.py -> build/bdist.linux-x86_64/egg/object_detection/builders\n",
      "copying build/lib/object_detection/builders/box_coder_builder.py -> build/bdist.linux-x86_64/egg/object_detection/builders\n",
      "copying build/lib/object_detection/builders/calibration_builder.py -> build/bdist.linux-x86_64/egg/object_detection/builders\n",
      "copying build/lib/object_detection/builders/region_similarity_calculator_builder_test.py -> build/bdist.linux-x86_64/egg/object_detection/builders\n",
      "copying build/lib/object_detection/builders/decoder_builder.py -> build/bdist.linux-x86_64/egg/object_detection/builders\n",
      "copying build/lib/object_detection/builders/image_resizer_builder.py -> build/bdist.linux-x86_64/egg/object_detection/builders\n",
      "copying build/lib/object_detection/builders/anchor_generator_builder.py -> build/bdist.linux-x86_64/egg/object_detection/builders\n",
      "copying build/lib/object_detection/builders/input_reader_builder.py -> build/bdist.linux-x86_64/egg/object_detection/builders\n",
      "copying build/lib/object_detection/builders/image_resizer_builder_test.py -> build/bdist.linux-x86_64/egg/object_detection/builders\n",
      "copying build/lib/object_detection/builders/losses_builder_test.py -> build/bdist.linux-x86_64/egg/object_detection/builders\n",
      "copying build/lib/object_detection/builders/model_builder.py -> build/bdist.linux-x86_64/egg/object_detection/builders\n",
      "copying build/lib/object_detection/builders/matcher_builder.py -> build/bdist.linux-x86_64/egg/object_detection/builders\n",
      "copying build/lib/object_detection/builders/preprocessor_builder.py -> build/bdist.linux-x86_64/egg/object_detection/builders\n",
      "copying build/lib/object_detection/builders/optimizer_builder_tf2_test.py -> build/bdist.linux-x86_64/egg/object_detection/builders\n",
      "copying build/lib/object_detection/builders/graph_rewriter_builder.py -> build/bdist.linux-x86_64/egg/object_detection/builders\n",
      "copying build/lib/object_detection/builders/box_predictor_builder.py -> build/bdist.linux-x86_64/egg/object_detection/builders\n",
      "copying build/lib/object_detection/builders/graph_rewriter_builder_tf1_test.py -> build/bdist.linux-x86_64/egg/object_detection/builders\n",
      "copying build/lib/object_detection/builders/dataset_builder_test.py -> build/bdist.linux-x86_64/egg/object_detection/builders\n",
      "copying build/lib/object_detection/builders/optimizer_builder.py -> build/bdist.linux-x86_64/egg/object_detection/builders\n",
      "copying build/lib/object_detection/builders/losses_builder.py -> build/bdist.linux-x86_64/egg/object_detection/builders\n",
      "copying build/lib/object_detection/builders/__init__.py -> build/bdist.linux-x86_64/egg/object_detection/builders\n",
      "copying build/lib/object_detection/builders/preprocessor_builder_test.py -> build/bdist.linux-x86_64/egg/object_detection/builders\n",
      "copying build/lib/object_detection/builders/matcher_builder_test.py -> build/bdist.linux-x86_64/egg/object_detection/builders\n",
      "copying build/lib/object_detection/builders/post_processing_builder_test.py -> build/bdist.linux-x86_64/egg/object_detection/builders\n",
      "copying build/lib/object_detection/builders/anchor_generator_builder_test.py -> build/bdist.linux-x86_64/egg/object_detection/builders\n",
      "creating build/bdist.linux-x86_64/egg/object_detection/core\n",
      "copying build/lib/object_detection/core/preprocessor_test.py -> build/bdist.linux-x86_64/egg/object_detection/core\n",
      "copying build/lib/object_detection/core/box_list_ops.py -> build/bdist.linux-x86_64/egg/object_detection/core\n",
      "copying build/lib/object_detection/core/preprocessor.py -> build/bdist.linux-x86_64/egg/object_detection/core\n",
      "copying build/lib/object_detection/core/batcher_tf1_test.py -> build/bdist.linux-x86_64/egg/object_detection/core\n",
      "copying build/lib/object_detection/core/box_list_ops_test.py -> build/bdist.linux-x86_64/egg/object_detection/core\n",
      "copying build/lib/object_detection/core/model_test.py -> build/bdist.linux-x86_64/egg/object_detection/core\n",
      "copying build/lib/object_detection/core/minibatch_sampler_test.py -> build/bdist.linux-x86_64/egg/object_detection/core\n",
      "copying build/lib/object_detection/core/matcher.py -> build/bdist.linux-x86_64/egg/object_detection/core\n",
      "copying build/lib/object_detection/core/box_predictor.py -> build/bdist.linux-x86_64/egg/object_detection/core\n",
      "copying build/lib/object_detection/core/minibatch_sampler.py -> build/bdist.linux-x86_64/egg/object_detection/core\n",
      "copying build/lib/object_detection/core/target_assigner.py -> build/bdist.linux-x86_64/egg/object_detection/core\n",
      "copying build/lib/object_detection/core/post_processing.py -> build/bdist.linux-x86_64/egg/object_detection/core\n",
      "copying build/lib/object_detection/core/losses.py -> build/bdist.linux-x86_64/egg/object_detection/core\n",
      "copying build/lib/object_detection/core/__init__.py -> build/bdist.linux-x86_64/egg/object_detection/core\n",
      "copying build/lib/object_detection/core/matcher_test.py -> build/bdist.linux-x86_64/egg/object_detection/core\n",
      "copying build/lib/object_detection/core/densepose_ops_test.py -> build/bdist.linux-x86_64/egg/object_detection/core\n",
      "copying build/lib/object_detection/core/preprocessor_cache.py -> build/bdist.linux-x86_64/egg/object_detection/core\n",
      "copying build/lib/object_detection/core/anchor_generator.py -> build/bdist.linux-x86_64/egg/object_detection/core\n",
      "copying build/lib/object_detection/core/model.py -> build/bdist.linux-x86_64/egg/object_detection/core\n",
      "copying build/lib/object_detection/core/densepose_ops.py -> build/bdist.linux-x86_64/egg/object_detection/core\n",
      "copying build/lib/object_detection/core/keypoint_ops.py -> build/bdist.linux-x86_64/egg/object_detection/core\n",
      "copying build/lib/object_detection/core/box_coder_test.py -> build/bdist.linux-x86_64/egg/object_detection/core\n",
      "copying build/lib/object_detection/core/batcher.py -> build/bdist.linux-x86_64/egg/object_detection/core\n",
      "copying build/lib/object_detection/core/freezable_batch_norm.py -> build/bdist.linux-x86_64/egg/object_detection/core\n",
      "copying build/lib/object_detection/core/losses_test.py -> build/bdist.linux-x86_64/egg/object_detection/core\n",
      "copying build/lib/object_detection/core/multiclass_nms_test.py -> build/bdist.linux-x86_64/egg/object_detection/core\n",
      "copying build/lib/object_detection/core/freezable_sync_batch_norm.py -> build/bdist.linux-x86_64/egg/object_detection/core\n",
      "copying build/lib/object_detection/core/standard_fields.py -> build/bdist.linux-x86_64/egg/object_detection/core\n",
      "copying build/lib/object_detection/core/keypoint_ops_test.py -> build/bdist.linux-x86_64/egg/object_detection/core\n",
      "copying build/lib/object_detection/core/batch_multiclass_nms_test.py -> build/bdist.linux-x86_64/egg/object_detection/core\n",
      "copying build/lib/object_detection/core/target_assigner_test.py -> build/bdist.linux-x86_64/egg/object_detection/core\n",
      "copying build/lib/object_detection/core/box_list.py -> build/bdist.linux-x86_64/egg/object_detection/core\n",
      "copying build/lib/object_detection/core/balanced_positive_negative_sampler.py -> build/bdist.linux-x86_64/egg/object_detection/core\n",
      "copying build/lib/object_detection/core/prefetcher_tf1_test.py -> build/bdist.linux-x86_64/egg/object_detection/core\n",
      "copying build/lib/object_detection/core/prefetcher.py -> build/bdist.linux-x86_64/egg/object_detection/core\n",
      "copying build/lib/object_detection/core/freezable_batch_norm_tf2_test.py -> build/bdist.linux-x86_64/egg/object_detection/core\n",
      "copying build/lib/object_detection/core/data_parser.py -> build/bdist.linux-x86_64/egg/object_detection/core\n",
      "copying build/lib/object_detection/core/data_decoder.py -> build/bdist.linux-x86_64/egg/object_detection/core\n",
      "copying build/lib/object_detection/core/box_list_test.py -> build/bdist.linux-x86_64/egg/object_detection/core\n",
      "copying build/lib/object_detection/core/region_similarity_calculator_test.py -> build/bdist.linux-x86_64/egg/object_detection/core\n",
      "copying build/lib/object_detection/core/region_similarity_calculator.py -> build/bdist.linux-x86_64/egg/object_detection/core\n",
      "copying build/lib/object_detection/core/class_agnostic_nms_test.py -> build/bdist.linux-x86_64/egg/object_detection/core\n",
      "copying build/lib/object_detection/core/box_coder.py -> build/bdist.linux-x86_64/egg/object_detection/core\n",
      "copying build/lib/object_detection/core/balanced_positive_negative_sampler_test.py -> build/bdist.linux-x86_64/egg/object_detection/core\n",
      "creating build/bdist.linux-x86_64/egg/object_detection/data_decoders\n",
      "copying build/lib/object_detection/data_decoders/tf_example_decoder_test.py -> build/bdist.linux-x86_64/egg/object_detection/data_decoders\n",
      "copying build/lib/object_detection/data_decoders/tf_example_decoder.py -> build/bdist.linux-x86_64/egg/object_detection/data_decoders\n",
      "copying build/lib/object_detection/data_decoders/__init__.py -> build/bdist.linux-x86_64/egg/object_detection/data_decoders\n",
      "copying build/lib/object_detection/data_decoders/tf_sequence_example_decoder_test.py -> build/bdist.linux-x86_64/egg/object_detection/data_decoders\n",
      "copying build/lib/object_detection/data_decoders/tf_sequence_example_decoder.py -> build/bdist.linux-x86_64/egg/object_detection/data_decoders\n",
      "creating build/bdist.linux-x86_64/egg/object_detection/dataset_tools\n",
      "copying build/lib/object_detection/dataset_tools/create_pascal_tf_record.py -> build/bdist.linux-x86_64/egg/object_detection/dataset_tools\n",
      "copying build/lib/object_detection/dataset_tools/create_kitti_tf_record.py -> build/bdist.linux-x86_64/egg/object_detection/dataset_tools\n",
      "copying build/lib/object_detection/dataset_tools/seq_example_util_test.py -> build/bdist.linux-x86_64/egg/object_detection/dataset_tools\n",
      "copying build/lib/object_detection/dataset_tools/create_oid_tf_record.py -> build/bdist.linux-x86_64/egg/object_detection/dataset_tools\n",
      "copying build/lib/object_detection/dataset_tools/oid_hierarchical_labels_expansion.py -> build/bdist.linux-x86_64/egg/object_detection/dataset_tools\n",
      "copying build/lib/object_detection/dataset_tools/create_kitti_tf_record_test.py -> build/bdist.linux-x86_64/egg/object_detection/dataset_tools\n",
      "copying build/lib/object_detection/dataset_tools/tf_record_creation_util.py -> build/bdist.linux-x86_64/egg/object_detection/dataset_tools\n",
      "copying build/lib/object_detection/dataset_tools/create_pascal_tf_record_test.py -> build/bdist.linux-x86_64/egg/object_detection/dataset_tools\n",
      "copying build/lib/object_detection/dataset_tools/seq_example_util.py -> build/bdist.linux-x86_64/egg/object_detection/dataset_tools\n",
      "copying build/lib/object_detection/dataset_tools/oid_tfrecord_creation_test.py -> build/bdist.linux-x86_64/egg/object_detection/dataset_tools\n",
      "copying build/lib/object_detection/dataset_tools/create_pet_tf_record.py -> build/bdist.linux-x86_64/egg/object_detection/dataset_tools\n",
      "copying build/lib/object_detection/dataset_tools/oid_tfrecord_creation.py -> build/bdist.linux-x86_64/egg/object_detection/dataset_tools\n",
      "copying build/lib/object_detection/dataset_tools/oid_hierarchical_labels_expansion_test.py -> build/bdist.linux-x86_64/egg/object_detection/dataset_tools\n",
      "copying build/lib/object_detection/dataset_tools/create_coco_tf_record_test.py -> build/bdist.linux-x86_64/egg/object_detection/dataset_tools\n",
      "copying build/lib/object_detection/dataset_tools/tf_record_creation_util_test.py -> build/bdist.linux-x86_64/egg/object_detection/dataset_tools\n",
      "copying build/lib/object_detection/dataset_tools/create_ava_actions_tf_record.py -> build/bdist.linux-x86_64/egg/object_detection/dataset_tools\n",
      "copying build/lib/object_detection/dataset_tools/create_coco_tf_record.py -> build/bdist.linux-x86_64/egg/object_detection/dataset_tools\n",
      "copying build/lib/object_detection/dataset_tools/__init__.py -> build/bdist.linux-x86_64/egg/object_detection/dataset_tools\n",
      "creating build/bdist.linux-x86_64/egg/object_detection/dataset_tools/context_rcnn\n",
      "copying build/lib/object_detection/dataset_tools/context_rcnn/generate_detection_data.py -> build/bdist.linux-x86_64/egg/object_detection/dataset_tools/context_rcnn\n",
      "copying build/lib/object_detection/dataset_tools/context_rcnn/create_cococameratraps_tfexample_tf2_test.py -> build/bdist.linux-x86_64/egg/object_detection/dataset_tools/context_rcnn\n",
      "copying build/lib/object_detection/dataset_tools/context_rcnn/create_cococameratraps_tfexample_main.py -> build/bdist.linux-x86_64/egg/object_detection/dataset_tools/context_rcnn\n",
      "copying build/lib/object_detection/dataset_tools/context_rcnn/__init__.py -> build/bdist.linux-x86_64/egg/object_detection/dataset_tools/context_rcnn\n",
      "copying build/lib/object_detection/dataset_tools/context_rcnn/add_context_to_examples.py -> build/bdist.linux-x86_64/egg/object_detection/dataset_tools/context_rcnn\n",
      "copying build/lib/object_detection/dataset_tools/context_rcnn/generate_detection_data_tf2_test.py -> build/bdist.linux-x86_64/egg/object_detection/dataset_tools/context_rcnn\n",
      "copying build/lib/object_detection/dataset_tools/context_rcnn/generate_embedding_data.py -> build/bdist.linux-x86_64/egg/object_detection/dataset_tools/context_rcnn\n",
      "copying build/lib/object_detection/dataset_tools/context_rcnn/generate_embedding_data_tf2_test.py -> build/bdist.linux-x86_64/egg/object_detection/dataset_tools/context_rcnn\n",
      "copying build/lib/object_detection/dataset_tools/context_rcnn/add_context_to_examples_tf2_test.py -> build/bdist.linux-x86_64/egg/object_detection/dataset_tools/context_rcnn\n",
      "creating build/bdist.linux-x86_64/egg/object_detection/inference\n",
      "copying build/lib/object_detection/inference/infer_detections.py -> build/bdist.linux-x86_64/egg/object_detection/inference\n",
      "copying build/lib/object_detection/inference/__init__.py -> build/bdist.linux-x86_64/egg/object_detection/inference\n",
      "copying build/lib/object_detection/inference/detection_inference.py -> build/bdist.linux-x86_64/egg/object_detection/inference\n",
      "copying build/lib/object_detection/inference/detection_inference_tf1_test.py -> build/bdist.linux-x86_64/egg/object_detection/inference\n",
      "creating build/bdist.linux-x86_64/egg/object_detection/legacy\n",
      "copying build/lib/object_detection/legacy/eval.py -> build/bdist.linux-x86_64/egg/object_detection/legacy\n",
      "copying build/lib/object_detection/legacy/train.py -> build/bdist.linux-x86_64/egg/object_detection/legacy\n",
      "copying build/lib/object_detection/legacy/trainer_tf1_test.py -> build/bdist.linux-x86_64/egg/object_detection/legacy\n",
      "copying build/lib/object_detection/legacy/evaluator.py -> build/bdist.linux-x86_64/egg/object_detection/legacy\n",
      "copying build/lib/object_detection/legacy/__init__.py -> build/bdist.linux-x86_64/egg/object_detection/legacy\n",
      "copying build/lib/object_detection/legacy/trainer.py -> build/bdist.linux-x86_64/egg/object_detection/legacy\n",
      "creating build/bdist.linux-x86_64/egg/object_detection/matchers\n",
      "copying build/lib/object_detection/matchers/argmax_matcher.py -> build/bdist.linux-x86_64/egg/object_detection/matchers\n",
      "copying build/lib/object_detection/matchers/hungarian_matcher.py -> build/bdist.linux-x86_64/egg/object_detection/matchers\n",
      "copying build/lib/object_detection/matchers/__init__.py -> build/bdist.linux-x86_64/egg/object_detection/matchers\n",
      "copying build/lib/object_detection/matchers/bipartite_matcher_tf1_test.py -> build/bdist.linux-x86_64/egg/object_detection/matchers\n",
      "copying build/lib/object_detection/matchers/bipartite_matcher.py -> build/bdist.linux-x86_64/egg/object_detection/matchers\n",
      "copying build/lib/object_detection/matchers/hungarian_matcher_tf2_test.py -> build/bdist.linux-x86_64/egg/object_detection/matchers\n",
      "copying build/lib/object_detection/matchers/argmax_matcher_test.py -> build/bdist.linux-x86_64/egg/object_detection/matchers\n",
      "creating build/bdist.linux-x86_64/egg/object_detection/meta_architectures\n",
      "copying build/lib/object_detection/meta_architectures/rfcn_meta_arch.py -> build/bdist.linux-x86_64/egg/object_detection/meta_architectures\n",
      "copying build/lib/object_detection/meta_architectures/center_net_meta_arch.py -> build/bdist.linux-x86_64/egg/object_detection/meta_architectures\n",
      "copying build/lib/object_detection/meta_architectures/rfcn_meta_arch_test.py -> build/bdist.linux-x86_64/egg/object_detection/meta_architectures\n",
      "copying build/lib/object_detection/meta_architectures/center_net_meta_arch_tf2_test.py -> build/bdist.linux-x86_64/egg/object_detection/meta_architectures\n",
      "copying build/lib/object_detection/meta_architectures/faster_rcnn_meta_arch_test_lib.py -> build/bdist.linux-x86_64/egg/object_detection/meta_architectures\n",
      "copying build/lib/object_detection/meta_architectures/ssd_meta_arch_test_lib.py -> build/bdist.linux-x86_64/egg/object_detection/meta_architectures\n",
      "copying build/lib/object_detection/meta_architectures/context_rcnn_meta_arch_test.py -> build/bdist.linux-x86_64/egg/object_detection/meta_architectures\n",
      "copying build/lib/object_detection/meta_architectures/context_rcnn_lib.py -> build/bdist.linux-x86_64/egg/object_detection/meta_architectures\n",
      "copying build/lib/object_detection/meta_architectures/context_rcnn_lib_tf2_test.py -> build/bdist.linux-x86_64/egg/object_detection/meta_architectures\n",
      "copying build/lib/object_detection/meta_architectures/ssd_meta_arch_test.py -> build/bdist.linux-x86_64/egg/object_detection/meta_architectures\n",
      "copying build/lib/object_detection/meta_architectures/__init__.py -> build/bdist.linux-x86_64/egg/object_detection/meta_architectures\n",
      "copying build/lib/object_detection/meta_architectures/ssd_meta_arch.py -> build/bdist.linux-x86_64/egg/object_detection/meta_architectures\n",
      "copying build/lib/object_detection/meta_architectures/faster_rcnn_meta_arch_test.py -> build/bdist.linux-x86_64/egg/object_detection/meta_architectures\n",
      "copying build/lib/object_detection/meta_architectures/deepmac_meta_arch_test.py -> build/bdist.linux-x86_64/egg/object_detection/meta_architectures\n",
      "copying build/lib/object_detection/meta_architectures/deepmac_meta_arch.py -> build/bdist.linux-x86_64/egg/object_detection/meta_architectures\n",
      "copying build/lib/object_detection/meta_architectures/context_rcnn_meta_arch.py -> build/bdist.linux-x86_64/egg/object_detection/meta_architectures\n",
      "copying build/lib/object_detection/meta_architectures/context_rcnn_lib_tf2.py -> build/bdist.linux-x86_64/egg/object_detection/meta_architectures\n",
      "copying build/lib/object_detection/meta_architectures/faster_rcnn_meta_arch.py -> build/bdist.linux-x86_64/egg/object_detection/meta_architectures\n",
      "copying build/lib/object_detection/meta_architectures/context_rcnn_lib_tf1_test.py -> build/bdist.linux-x86_64/egg/object_detection/meta_architectures\n",
      "creating build/bdist.linux-x86_64/egg/object_detection/metrics\n",
      "copying build/lib/object_detection/metrics/coco_tools.py -> build/bdist.linux-x86_64/egg/object_detection/metrics\n",
      "copying build/lib/object_detection/metrics/calibration_evaluation_tf1_test.py -> build/bdist.linux-x86_64/egg/object_detection/metrics\n",
      "copying build/lib/object_detection/metrics/offline_eval_map_corloc.py -> build/bdist.linux-x86_64/egg/object_detection/metrics\n",
      "copying build/lib/object_detection/metrics/__init__.py -> build/bdist.linux-x86_64/egg/object_detection/metrics\n",
      "copying build/lib/object_detection/metrics/oid_challenge_evaluation_utils_test.py -> build/bdist.linux-x86_64/egg/object_detection/metrics\n",
      "copying build/lib/object_detection/metrics/lvis_evaluation_test.py -> build/bdist.linux-x86_64/egg/object_detection/metrics\n",
      "copying build/lib/object_detection/metrics/oid_vrd_challenge_evaluation_utils_test.py -> build/bdist.linux-x86_64/egg/object_detection/metrics\n",
      "copying build/lib/object_detection/metrics/coco_evaluation.py -> build/bdist.linux-x86_64/egg/object_detection/metrics\n",
      "copying build/lib/object_detection/metrics/io_utils.py -> build/bdist.linux-x86_64/egg/object_detection/metrics\n",
      "copying build/lib/object_detection/metrics/calibration_metrics.py -> build/bdist.linux-x86_64/egg/object_detection/metrics\n",
      "copying build/lib/object_detection/metrics/calibration_evaluation.py -> build/bdist.linux-x86_64/egg/object_detection/metrics\n",
      "copying build/lib/object_detection/metrics/lvis_evaluation.py -> build/bdist.linux-x86_64/egg/object_detection/metrics\n",
      "copying build/lib/object_detection/metrics/coco_evaluation_test.py -> build/bdist.linux-x86_64/egg/object_detection/metrics\n",
      "copying build/lib/object_detection/metrics/tf_example_parser_test.py -> build/bdist.linux-x86_64/egg/object_detection/metrics\n",
      "copying build/lib/object_detection/metrics/oid_challenge_evaluation_utils.py -> build/bdist.linux-x86_64/egg/object_detection/metrics\n",
      "copying build/lib/object_detection/metrics/lvis_tools_test.py -> build/bdist.linux-x86_64/egg/object_detection/metrics\n",
      "copying build/lib/object_detection/metrics/oid_vrd_challenge_evaluation_utils.py -> build/bdist.linux-x86_64/egg/object_detection/metrics\n",
      "copying build/lib/object_detection/metrics/coco_tools_test.py -> build/bdist.linux-x86_64/egg/object_detection/metrics\n",
      "copying build/lib/object_detection/metrics/oid_challenge_evaluation.py -> build/bdist.linux-x86_64/egg/object_detection/metrics\n",
      "copying build/lib/object_detection/metrics/calibration_metrics_tf1_test.py -> build/bdist.linux-x86_64/egg/object_detection/metrics\n",
      "copying build/lib/object_detection/metrics/offline_eval_map_corloc_test.py -> build/bdist.linux-x86_64/egg/object_detection/metrics\n",
      "copying build/lib/object_detection/metrics/lvis_tools.py -> build/bdist.linux-x86_64/egg/object_detection/metrics\n",
      "copying build/lib/object_detection/metrics/tf_example_parser.py -> build/bdist.linux-x86_64/egg/object_detection/metrics\n",
      "copying build/lib/object_detection/metrics/oid_vrd_challenge_evaluation.py -> build/bdist.linux-x86_64/egg/object_detection/metrics\n",
      "creating build/bdist.linux-x86_64/egg/object_detection/models\n",
      "copying build/lib/object_detection/models/center_net_mobilenet_v2_feature_extractor.py -> build/bdist.linux-x86_64/egg/object_detection/models\n",
      "copying build/lib/object_detection/models/feature_map_generators.py -> build/bdist.linux-x86_64/egg/object_detection/models\n",
      "copying build/lib/object_detection/models/ssd_efficientnet_bifpn_feature_extractor.py -> build/bdist.linux-x86_64/egg/object_detection/models\n",
      "copying build/lib/object_detection/models/center_net_resnet_v1_fpn_feature_extractor.py -> build/bdist.linux-x86_64/egg/object_detection/models\n",
      "copying build/lib/object_detection/models/ssd_mobilenet_edgetpu_feature_extractor.py -> build/bdist.linux-x86_64/egg/object_detection/models\n",
      "copying build/lib/object_detection/models/center_net_resnet_v1_fpn_feature_extractor_tf2_test.py -> build/bdist.linux-x86_64/egg/object_detection/models\n",
      "copying build/lib/object_detection/models/embedded_ssd_mobilenet_v1_feature_extractor_tf1_test.py -> build/bdist.linux-x86_64/egg/object_detection/models\n",
      "copying build/lib/object_detection/models/faster_rcnn_resnet_v1_feature_extractor_tf1_test.py -> build/bdist.linux-x86_64/egg/object_detection/models\n",
      "copying build/lib/object_detection/models/faster_rcnn_resnet_v1_fpn_keras_feature_extractor.py -> build/bdist.linux-x86_64/egg/object_detection/models\n",
      "copying build/lib/object_detection/models/faster_rcnn_inception_resnet_v2_keras_feature_extractor.py -> build/bdist.linux-x86_64/egg/object_detection/models\n",
      "copying build/lib/object_detection/models/faster_rcnn_pnas_feature_extractor.py -> build/bdist.linux-x86_64/egg/object_detection/models\n",
      "copying build/lib/object_detection/models/faster_rcnn_resnet_keras_feature_extractor.py -> build/bdist.linux-x86_64/egg/object_detection/models\n",
      "copying build/lib/object_detection/models/ssd_resnet_v1_fpn_feature_extractor_tf2_test.py -> build/bdist.linux-x86_64/egg/object_detection/models\n",
      "copying build/lib/object_detection/models/faster_rcnn_resnet_v1_feature_extractor.py -> build/bdist.linux-x86_64/egg/object_detection/models\n",
      "copying build/lib/object_detection/models/ssd_mobilenet_v2_fpn_feature_extractor_tf2_test.py -> build/bdist.linux-x86_64/egg/object_detection/models\n",
      "copying build/lib/object_detection/models/ssd_feature_extractor_test.py -> build/bdist.linux-x86_64/egg/object_detection/models\n",
      "copying build/lib/object_detection/models/ssd_mobilenet_v2_keras_feature_extractor.py -> build/bdist.linux-x86_64/egg/object_detection/models\n",
      "copying build/lib/object_detection/models/center_net_hourglass_feature_extractor_tf2_test.py -> build/bdist.linux-x86_64/egg/object_detection/models\n",
      "copying build/lib/object_detection/models/ssd_mobilenet_v2_fpn_keras_feature_extractor.py -> build/bdist.linux-x86_64/egg/object_detection/models\n",
      "copying build/lib/object_detection/models/ssd_resnet_v1_fpn_feature_extractor_tf1_test.py -> build/bdist.linux-x86_64/egg/object_detection/models\n",
      "copying build/lib/object_detection/models/faster_rcnn_inception_resnet_v2_keras_feature_extractor_tf2_test.py -> build/bdist.linux-x86_64/egg/object_detection/models\n",
      "copying build/lib/object_detection/models/ssd_mobilenet_v2_feature_extractor.py -> build/bdist.linux-x86_64/egg/object_detection/models\n",
      "copying build/lib/object_detection/models/ssd_inception_v2_feature_extractor.py -> build/bdist.linux-x86_64/egg/object_detection/models\n",
      "copying build/lib/object_detection/models/center_net_mobilenet_v2_fpn_feature_extractor_tf2_test.py -> build/bdist.linux-x86_64/egg/object_detection/models\n",
      "copying build/lib/object_detection/models/faster_rcnn_inception_v2_feature_extractor_tf1_test.py -> build/bdist.linux-x86_64/egg/object_detection/models\n",
      "copying build/lib/object_detection/models/__init__.py -> build/bdist.linux-x86_64/egg/object_detection/models\n",
      "copying build/lib/object_detection/models/ssd_mobilenet_v1_feature_extractor.py -> build/bdist.linux-x86_64/egg/object_detection/models\n",
      "copying build/lib/object_detection/models/ssd_mobilenet_edgetpu_feature_extractor_testbase.py -> build/bdist.linux-x86_64/egg/object_detection/models\n",
      "copying build/lib/object_detection/models/ssd_mobilenet_v1_keras_feature_extractor.py -> build/bdist.linux-x86_64/egg/object_detection/models\n",
      "copying build/lib/object_detection/models/ssd_pnasnet_feature_extractor.py -> build/bdist.linux-x86_64/egg/object_detection/models\n",
      "copying build/lib/object_detection/models/faster_rcnn_inception_v2_feature_extractor.py -> build/bdist.linux-x86_64/egg/object_detection/models\n",
      "copying build/lib/object_detection/models/ssd_mobilenet_v1_ppn_feature_extractor.py -> build/bdist.linux-x86_64/egg/object_detection/models\n",
      "copying build/lib/object_detection/models/ssd_resnet_v1_fpn_feature_extractor_testbase.py -> build/bdist.linux-x86_64/egg/object_detection/models\n",
      "copying build/lib/object_detection/models/bidirectional_feature_pyramid_generators_tf2_test.py -> build/bdist.linux-x86_64/egg/object_detection/models\n",
      "copying build/lib/object_detection/models/faster_rcnn_resnet_v1_fpn_keras_feature_extractor_tf2_test.py -> build/bdist.linux-x86_64/egg/object_detection/models\n",
      "copying build/lib/object_detection/models/ssd_mobilenet_v1_feature_extractor_tf2_test.py -> build/bdist.linux-x86_64/egg/object_detection/models\n",
      "copying build/lib/object_detection/models/faster_rcnn_inception_resnet_v2_feature_extractor.py -> build/bdist.linux-x86_64/egg/object_detection/models\n",
      "copying build/lib/object_detection/models/faster_rcnn_mobilenet_v1_feature_extractor_tf1_test.py -> build/bdist.linux-x86_64/egg/object_detection/models\n",
      "copying build/lib/object_detection/models/ssd_mobilenet_v2_mnasfpn_feature_extractor.py -> build/bdist.linux-x86_64/egg/object_detection/models\n",
      "copying build/lib/object_detection/models/ssd_resnet_v1_ppn_feature_extractor.py -> build/bdist.linux-x86_64/egg/object_detection/models\n",
      "copying build/lib/object_detection/models/ssd_efficientnet_bifpn_feature_extractor_tf2_test.py -> build/bdist.linux-x86_64/egg/object_detection/models\n",
      "copying build/lib/object_detection/models/ssd_mobilenet_edgetpu_feature_extractor_tf1_test.py -> build/bdist.linux-x86_64/egg/object_detection/models\n",
      "copying build/lib/object_detection/models/ssd_resnet_v1_fpn_feature_extractor.py -> build/bdist.linux-x86_64/egg/object_detection/models\n",
      "copying build/lib/object_detection/models/center_net_mobilenet_v2_feature_extractor_tf2_test.py -> build/bdist.linux-x86_64/egg/object_detection/models\n",
      "copying build/lib/object_detection/models/ssd_inception_v3_feature_extractor_tf1_test.py -> build/bdist.linux-x86_64/egg/object_detection/models\n",
      "copying build/lib/object_detection/models/feature_map_generators_test.py -> build/bdist.linux-x86_64/egg/object_detection/models\n",
      "copying build/lib/object_detection/models/ssd_mobilenet_v1_fpn_keras_feature_extractor.py -> build/bdist.linux-x86_64/egg/object_detection/models\n",
      "copying build/lib/object_detection/models/center_net_hourglass_feature_extractor.py -> build/bdist.linux-x86_64/egg/object_detection/models\n",
      "copying build/lib/object_detection/models/embedded_ssd_mobilenet_v1_feature_extractor.py -> build/bdist.linux-x86_64/egg/object_detection/models\n",
      "copying build/lib/object_detection/models/ssd_resnet_v1_fpn_keras_feature_extractor.py -> build/bdist.linux-x86_64/egg/object_detection/models\n",
      "copying build/lib/object_detection/models/ssd_mobilenet_v1_feature_extractor_tf1_test.py -> build/bdist.linux-x86_64/egg/object_detection/models\n",
      "copying build/lib/object_detection/models/ssd_mobilenet_v1_fpn_feature_extractor_tf2_test.py -> build/bdist.linux-x86_64/egg/object_detection/models\n",
      "copying build/lib/object_detection/models/center_net_resnet_feature_extractor.py -> build/bdist.linux-x86_64/egg/object_detection/models\n",
      "copying build/lib/object_detection/models/faster_rcnn_nas_feature_extractor_tf1_test.py -> build/bdist.linux-x86_64/egg/object_detection/models\n",
      "copying build/lib/object_detection/models/ssd_mobilenet_v2_feature_extractor_tf1_test.py -> build/bdist.linux-x86_64/egg/object_detection/models\n",
      "copying build/lib/object_detection/models/faster_rcnn_nas_feature_extractor.py -> build/bdist.linux-x86_64/egg/object_detection/models\n",
      "copying build/lib/object_detection/models/faster_rcnn_resnet_keras_feature_extractor_tf2_test.py -> build/bdist.linux-x86_64/egg/object_detection/models\n",
      "copying build/lib/object_detection/models/ssd_mobilenet_v2_fpn_feature_extractor_tf1_test.py -> build/bdist.linux-x86_64/egg/object_detection/models\n",
      "copying build/lib/object_detection/models/faster_rcnn_inception_resnet_v2_feature_extractor_tf1_test.py -> build/bdist.linux-x86_64/egg/object_detection/models\n",
      "copying build/lib/object_detection/models/bidirectional_feature_pyramid_generators.py -> build/bdist.linux-x86_64/egg/object_detection/models\n",
      "copying build/lib/object_detection/models/ssd_resnet_v1_ppn_feature_extractor_testbase.py -> build/bdist.linux-x86_64/egg/object_detection/models\n",
      "copying build/lib/object_detection/models/center_net_mobilenet_v2_fpn_feature_extractor.py -> build/bdist.linux-x86_64/egg/object_detection/models\n",
      "copying build/lib/object_detection/models/ssd_mobilenet_v1_fpn_feature_extractor.py -> build/bdist.linux-x86_64/egg/object_detection/models\n",
      "copying build/lib/object_detection/models/ssd_mobilenet_v2_feature_extractor_tf2_test.py -> build/bdist.linux-x86_64/egg/object_detection/models\n",
      "copying build/lib/object_detection/models/ssd_mobilenet_v1_ppn_feature_extractor_tf1_test.py -> build/bdist.linux-x86_64/egg/object_detection/models\n",
      "copying build/lib/object_detection/models/ssd_resnet_v1_ppn_feature_extractor_tf1_test.py -> build/bdist.linux-x86_64/egg/object_detection/models\n",
      "copying build/lib/object_detection/models/ssd_mobilenet_v1_fpn_feature_extractor_tf1_test.py -> build/bdist.linux-x86_64/egg/object_detection/models\n",
      "copying build/lib/object_detection/models/faster_rcnn_pnas_feature_extractor_tf1_test.py -> build/bdist.linux-x86_64/egg/object_detection/models\n",
      "copying build/lib/object_detection/models/ssd_inception_v2_feature_extractor_tf1_test.py -> build/bdist.linux-x86_64/egg/object_detection/models\n",
      "copying build/lib/object_detection/models/ssd_mobilenet_v2_mnasfpn_feature_extractor_tf1_test.py -> build/bdist.linux-x86_64/egg/object_detection/models\n",
      "copying build/lib/object_detection/models/ssd_inception_v3_feature_extractor.py -> build/bdist.linux-x86_64/egg/object_detection/models\n",
      "copying build/lib/object_detection/models/ssd_mobiledet_feature_extractor_tf1_test.py -> build/bdist.linux-x86_64/egg/object_detection/models\n",
      "copying build/lib/object_detection/models/faster_rcnn_mobilenet_v1_feature_extractor.py -> build/bdist.linux-x86_64/egg/object_detection/models\n",
      "copying build/lib/object_detection/models/ssd_pnasnet_feature_extractor_tf1_test.py -> build/bdist.linux-x86_64/egg/object_detection/models\n",
      "copying build/lib/object_detection/models/ssd_mobilenet_v3_feature_extractor.py -> build/bdist.linux-x86_64/egg/object_detection/models\n",
      "copying build/lib/object_detection/models/ssd_mobilenet_v3_feature_extractor_tf1_test.py -> build/bdist.linux-x86_64/egg/object_detection/models\n",
      "copying build/lib/object_detection/models/ssd_mobilenet_v3_feature_extractor_testbase.py -> build/bdist.linux-x86_64/egg/object_detection/models\n",
      "copying build/lib/object_detection/models/ssd_mobilenet_v2_fpn_feature_extractor.py -> build/bdist.linux-x86_64/egg/object_detection/models\n",
      "copying build/lib/object_detection/models/center_net_resnet_feature_extractor_tf2_test.py -> build/bdist.linux-x86_64/egg/object_detection/models\n",
      "copying build/lib/object_detection/models/ssd_mobiledet_feature_extractor.py -> build/bdist.linux-x86_64/egg/object_detection/models\n",
      "creating build/bdist.linux-x86_64/egg/object_detection/models/keras_models\n",
      "copying build/lib/object_detection/models/keras_models/test_utils.py -> build/bdist.linux-x86_64/egg/object_detection/models/keras_models\n",
      "copying build/lib/object_detection/models/keras_models/resnet_v1_tf2_test.py -> build/bdist.linux-x86_64/egg/object_detection/models/keras_models\n",
      "copying build/lib/object_detection/models/keras_models/mobilenet_v1.py -> build/bdist.linux-x86_64/egg/object_detection/models/keras_models\n",
      "copying build/lib/object_detection/models/keras_models/mobilenet_v1_tf2_test.py -> build/bdist.linux-x86_64/egg/object_detection/models/keras_models\n",
      "copying build/lib/object_detection/models/keras_models/resnet_v1.py -> build/bdist.linux-x86_64/egg/object_detection/models/keras_models\n",
      "copying build/lib/object_detection/models/keras_models/__init__.py -> build/bdist.linux-x86_64/egg/object_detection/models/keras_models\n",
      "copying build/lib/object_detection/models/keras_models/inception_resnet_v2.py -> build/bdist.linux-x86_64/egg/object_detection/models/keras_models\n",
      "copying build/lib/object_detection/models/keras_models/hourglass_network_tf2_test.py -> build/bdist.linux-x86_64/egg/object_detection/models/keras_models\n",
      "copying build/lib/object_detection/models/keras_models/convert_keras_models.py -> build/bdist.linux-x86_64/egg/object_detection/models/keras_models\n",
      "copying build/lib/object_detection/models/keras_models/mobilenet_v2.py -> build/bdist.linux-x86_64/egg/object_detection/models/keras_models\n",
      "copying build/lib/object_detection/models/keras_models/hourglass_network.py -> build/bdist.linux-x86_64/egg/object_detection/models/keras_models\n",
      "copying build/lib/object_detection/models/keras_models/model_utils.py -> build/bdist.linux-x86_64/egg/object_detection/models/keras_models\n",
      "copying build/lib/object_detection/models/keras_models/mobilenet_v2_tf2_test.py -> build/bdist.linux-x86_64/egg/object_detection/models/keras_models\n",
      "copying build/lib/object_detection/models/keras_models/inception_resnet_v2_tf2_test.py -> build/bdist.linux-x86_64/egg/object_detection/models/keras_models\n",
      "creating build/bdist.linux-x86_64/egg/object_detection/predictors\n",
      "copying build/lib/object_detection/predictors/convolutional_keras_box_predictor_tf2_test.py -> build/bdist.linux-x86_64/egg/object_detection/predictors\n",
      "copying build/lib/object_detection/predictors/rfcn_keras_box_predictor_tf2_test.py -> build/bdist.linux-x86_64/egg/object_detection/predictors\n",
      "copying build/lib/object_detection/predictors/rfcn_keras_box_predictor.py -> build/bdist.linux-x86_64/egg/object_detection/predictors\n",
      "copying build/lib/object_detection/predictors/__init__.py -> build/bdist.linux-x86_64/egg/object_detection/predictors\n",
      "copying build/lib/object_detection/predictors/rfcn_box_predictor.py -> build/bdist.linux-x86_64/egg/object_detection/predictors\n",
      "copying build/lib/object_detection/predictors/rfcn_box_predictor_tf1_test.py -> build/bdist.linux-x86_64/egg/object_detection/predictors\n",
      "copying build/lib/object_detection/predictors/mask_rcnn_keras_box_predictor.py -> build/bdist.linux-x86_64/egg/object_detection/predictors\n",
      "copying build/lib/object_detection/predictors/convolutional_box_predictor_tf1_test.py -> build/bdist.linux-x86_64/egg/object_detection/predictors\n",
      "copying build/lib/object_detection/predictors/mask_rcnn_box_predictor_tf1_test.py -> build/bdist.linux-x86_64/egg/object_detection/predictors\n",
      "copying build/lib/object_detection/predictors/mask_rcnn_keras_box_predictor_tf2_test.py -> build/bdist.linux-x86_64/egg/object_detection/predictors\n",
      "copying build/lib/object_detection/predictors/convolutional_box_predictor.py -> build/bdist.linux-x86_64/egg/object_detection/predictors\n",
      "copying build/lib/object_detection/predictors/convolutional_keras_box_predictor.py -> build/bdist.linux-x86_64/egg/object_detection/predictors\n",
      "copying build/lib/object_detection/predictors/mask_rcnn_box_predictor.py -> build/bdist.linux-x86_64/egg/object_detection/predictors\n",
      "creating build/bdist.linux-x86_64/egg/object_detection/predictors/heads\n",
      "copying build/lib/object_detection/predictors/heads/head.py -> build/bdist.linux-x86_64/egg/object_detection/predictors/heads\n",
      "copying build/lib/object_detection/predictors/heads/box_head_tf1_test.py -> build/bdist.linux-x86_64/egg/object_detection/predictors/heads\n",
      "copying build/lib/object_detection/predictors/heads/keras_box_head.py -> build/bdist.linux-x86_64/egg/object_detection/predictors/heads\n",
      "copying build/lib/object_detection/predictors/heads/class_head_tf1_test.py -> build/bdist.linux-x86_64/egg/object_detection/predictors/heads\n",
      "copying build/lib/object_detection/predictors/heads/mask_head_tf1_test.py -> build/bdist.linux-x86_64/egg/object_detection/predictors/heads\n",
      "copying build/lib/object_detection/predictors/heads/keras_class_head_tf2_test.py -> build/bdist.linux-x86_64/egg/object_detection/predictors/heads\n",
      "copying build/lib/object_detection/predictors/heads/__init__.py -> build/bdist.linux-x86_64/egg/object_detection/predictors/heads\n",
      "copying build/lib/object_detection/predictors/heads/keras_box_head_tf2_test.py -> build/bdist.linux-x86_64/egg/object_detection/predictors/heads\n",
      "copying build/lib/object_detection/predictors/heads/keras_mask_head.py -> build/bdist.linux-x86_64/egg/object_detection/predictors/heads\n",
      "copying build/lib/object_detection/predictors/heads/mask_head.py -> build/bdist.linux-x86_64/egg/object_detection/predictors/heads\n",
      "copying build/lib/object_detection/predictors/heads/keypoint_head.py -> build/bdist.linux-x86_64/egg/object_detection/predictors/heads\n",
      "copying build/lib/object_detection/predictors/heads/box_head.py -> build/bdist.linux-x86_64/egg/object_detection/predictors/heads\n",
      "copying build/lib/object_detection/predictors/heads/keypoint_head_tf1_test.py -> build/bdist.linux-x86_64/egg/object_detection/predictors/heads\n",
      "copying build/lib/object_detection/predictors/heads/keras_mask_head_tf2_test.py -> build/bdist.linux-x86_64/egg/object_detection/predictors/heads\n",
      "copying build/lib/object_detection/predictors/heads/keras_class_head.py -> build/bdist.linux-x86_64/egg/object_detection/predictors/heads\n",
      "copying build/lib/object_detection/predictors/heads/class_head.py -> build/bdist.linux-x86_64/egg/object_detection/predictors/heads\n",
      "creating build/bdist.linux-x86_64/egg/object_detection/protos\n",
      "copying build/lib/object_detection/protos/__init__.py -> build/bdist.linux-x86_64/egg/object_detection/protos\n",
      "copying build/lib/object_detection/protos/center_net_pb2.py -> build/bdist.linux-x86_64/egg/object_detection/protos\n",
      "copying build/lib/object_detection/protos/fpn_pb2.py -> build/bdist.linux-x86_64/egg/object_detection/protos\n",
      "copying build/lib/object_detection/protos/target_assigner_pb2.py -> build/bdist.linux-x86_64/egg/object_detection/protos\n",
      "copying build/lib/object_detection/protos/anchor_generator_pb2.py -> build/bdist.linux-x86_64/egg/object_detection/protos\n",
      "copying build/lib/object_detection/protos/argmax_matcher_pb2.py -> build/bdist.linux-x86_64/egg/object_detection/protos\n",
      "copying build/lib/object_detection/protos/calibration_pb2.py -> build/bdist.linux-x86_64/egg/object_detection/protos\n",
      "copying build/lib/object_detection/protos/faster_rcnn_box_coder_pb2.py -> build/bdist.linux-x86_64/egg/object_detection/protos\n",
      "copying build/lib/object_detection/protos/bipartite_matcher_pb2.py -> build/bdist.linux-x86_64/egg/object_detection/protos\n",
      "copying build/lib/object_detection/protos/eval_pb2.py -> build/bdist.linux-x86_64/egg/object_detection/protos\n",
      "copying build/lib/object_detection/protos/box_coder_pb2.py -> build/bdist.linux-x86_64/egg/object_detection/protos\n",
      "copying build/lib/object_detection/protos/graph_rewriter_pb2.py -> build/bdist.linux-x86_64/egg/object_detection/protos\n",
      "copying build/lib/object_detection/protos/flexible_grid_anchor_generator_pb2.py -> build/bdist.linux-x86_64/egg/object_detection/protos\n",
      "copying build/lib/object_detection/protos/faster_rcnn_pb2.py -> build/bdist.linux-x86_64/egg/object_detection/protos\n",
      "copying build/lib/object_detection/protos/box_predictor_pb2.py -> build/bdist.linux-x86_64/egg/object_detection/protos\n",
      "copying build/lib/object_detection/protos/grid_anchor_generator_pb2.py -> build/bdist.linux-x86_64/egg/object_detection/protos\n",
      "copying build/lib/object_detection/protos/hyperparams_pb2.py -> build/bdist.linux-x86_64/egg/object_detection/protos\n",
      "copying build/lib/object_detection/protos/image_resizer_pb2.py -> build/bdist.linux-x86_64/egg/object_detection/protos\n",
      "copying build/lib/object_detection/protos/matcher_pb2.py -> build/bdist.linux-x86_64/egg/object_detection/protos\n",
      "copying build/lib/object_detection/protos/input_reader_pb2.py -> build/bdist.linux-x86_64/egg/object_detection/protos\n",
      "copying build/lib/object_detection/protos/losses_pb2.py -> build/bdist.linux-x86_64/egg/object_detection/protos\n",
      "copying build/lib/object_detection/protos/mean_stddev_box_coder_pb2.py -> build/bdist.linux-x86_64/egg/object_detection/protos\n",
      "copying build/lib/object_detection/protos/keypoint_box_coder_pb2.py -> build/bdist.linux-x86_64/egg/object_detection/protos\n",
      "copying build/lib/object_detection/protos/model_pb2.py -> build/bdist.linux-x86_64/egg/object_detection/protos\n",
      "copying build/lib/object_detection/protos/multiscale_anchor_generator_pb2.py -> build/bdist.linux-x86_64/egg/object_detection/protos\n",
      "copying build/lib/object_detection/protos/pipeline_pb2.py -> build/bdist.linux-x86_64/egg/object_detection/protos\n",
      "copying build/lib/object_detection/protos/square_box_coder_pb2.py -> build/bdist.linux-x86_64/egg/object_detection/protos\n",
      "copying build/lib/object_detection/protos/region_similarity_calculator_pb2.py -> build/bdist.linux-x86_64/egg/object_detection/protos\n",
      "copying build/lib/object_detection/protos/ssd_pb2.py -> build/bdist.linux-x86_64/egg/object_detection/protos\n",
      "copying build/lib/object_detection/protos/preprocessor_pb2.py -> build/bdist.linux-x86_64/egg/object_detection/protos\n",
      "copying build/lib/object_detection/protos/post_processing_pb2.py -> build/bdist.linux-x86_64/egg/object_detection/protos\n",
      "copying build/lib/object_detection/protos/ssd_anchor_generator_pb2.py -> build/bdist.linux-x86_64/egg/object_detection/protos\n",
      "copying build/lib/object_detection/protos/string_int_label_map_pb2.py -> build/bdist.linux-x86_64/egg/object_detection/protos\n",
      "copying build/lib/object_detection/protos/train_pb2.py -> build/bdist.linux-x86_64/egg/object_detection/protos\n",
      "copying build/lib/object_detection/protos/optimizer_pb2.py -> build/bdist.linux-x86_64/egg/object_detection/protos\n",
      "creating build/bdist.linux-x86_64/egg/object_detection/tpu_exporters\n",
      "copying build/lib/object_detection/tpu_exporters/export_saved_model_tpu_lib_tf1_test.py -> build/bdist.linux-x86_64/egg/object_detection/tpu_exporters\n",
      "copying build/lib/object_detection/tpu_exporters/utils_test.py -> build/bdist.linux-x86_64/egg/object_detection/tpu_exporters\n",
      "copying build/lib/object_detection/tpu_exporters/export_saved_model_tpu_lib.py -> build/bdist.linux-x86_64/egg/object_detection/tpu_exporters\n",
      "copying build/lib/object_detection/tpu_exporters/ssd.py -> build/bdist.linux-x86_64/egg/object_detection/tpu_exporters\n",
      "copying build/lib/object_detection/tpu_exporters/export_saved_model_tpu.py -> build/bdist.linux-x86_64/egg/object_detection/tpu_exporters\n",
      "copying build/lib/object_detection/tpu_exporters/faster_rcnn.py -> build/bdist.linux-x86_64/egg/object_detection/tpu_exporters\n",
      "copying build/lib/object_detection/tpu_exporters/__init__.py -> build/bdist.linux-x86_64/egg/object_detection/tpu_exporters\n",
      "copying build/lib/object_detection/tpu_exporters/utils.py -> build/bdist.linux-x86_64/egg/object_detection/tpu_exporters\n",
      "creating build/bdist.linux-x86_64/egg/object_detection/tpu_exporters/testdata\n",
      "copying build/lib/object_detection/tpu_exporters/testdata/__init__.py -> build/bdist.linux-x86_64/egg/object_detection/tpu_exporters/testdata\n",
      "creating build/bdist.linux-x86_64/egg/object_detection/utils\n",
      "copying build/lib/object_detection/utils/category_util.py -> build/bdist.linux-x86_64/egg/object_detection/utils\n",
      "copying build/lib/object_detection/utils/visualization_utils.py -> build/bdist.linux-x86_64/egg/object_detection/utils\n",
      "copying build/lib/object_detection/utils/np_mask_ops.py -> build/bdist.linux-x86_64/egg/object_detection/utils\n",
      "copying build/lib/object_detection/utils/visualization_utils_test.py -> build/bdist.linux-x86_64/egg/object_detection/utils\n",
      "copying build/lib/object_detection/utils/patch_ops.py -> build/bdist.linux-x86_64/egg/object_detection/utils\n",
      "copying build/lib/object_detection/utils/np_box_list_test.py -> build/bdist.linux-x86_64/egg/object_detection/utils\n",
      "copying build/lib/object_detection/utils/np_box_mask_list_test.py -> build/bdist.linux-x86_64/egg/object_detection/utils\n",
      "copying build/lib/object_detection/utils/variables_helper_tf1_test.py -> build/bdist.linux-x86_64/egg/object_detection/utils\n",
      "copying build/lib/object_detection/utils/__init__.py -> build/bdist.linux-x86_64/egg/object_detection/utils\n",
      "copying build/lib/object_detection/utils/spatial_transform_ops.py -> build/bdist.linux-x86_64/egg/object_detection/utils\n",
      "copying build/lib/object_detection/utils/np_box_mask_list.py -> build/bdist.linux-x86_64/egg/object_detection/utils\n",
      "copying build/lib/object_detection/utils/dataset_util.py -> build/bdist.linux-x86_64/egg/object_detection/utils\n",
      "copying build/lib/object_detection/utils/per_image_vrd_evaluation_test.py -> build/bdist.linux-x86_64/egg/object_detection/utils\n",
      "copying build/lib/object_detection/utils/test_utils_test.py -> build/bdist.linux-x86_64/egg/object_detection/utils\n",
      "copying build/lib/object_detection/utils/per_image_evaluation_test.py -> build/bdist.linux-x86_64/egg/object_detection/utils\n",
      "copying build/lib/object_detection/utils/np_box_ops.py -> build/bdist.linux-x86_64/egg/object_detection/utils\n",
      "copying build/lib/object_detection/utils/target_assigner_utils.py -> build/bdist.linux-x86_64/egg/object_detection/utils\n",
      "copying build/lib/object_detection/utils/context_manager_test.py -> build/bdist.linux-x86_64/egg/object_detection/utils\n",
      "copying build/lib/object_detection/utils/json_utils_test.py -> build/bdist.linux-x86_64/egg/object_detection/utils\n",
      "copying build/lib/object_detection/utils/test_utils.py -> build/bdist.linux-x86_64/egg/object_detection/utils\n",
      "copying build/lib/object_detection/utils/config_util_test.py -> build/bdist.linux-x86_64/egg/object_detection/utils\n",
      "copying build/lib/object_detection/utils/dataset_util_test.py -> build/bdist.linux-x86_64/egg/object_detection/utils\n",
      "copying build/lib/object_detection/utils/spatial_transform_ops_test.py -> build/bdist.linux-x86_64/egg/object_detection/utils\n",
      "copying build/lib/object_detection/utils/autoaugment_utils.py -> build/bdist.linux-x86_64/egg/object_detection/utils\n",
      "copying build/lib/object_detection/utils/test_case_test.py -> build/bdist.linux-x86_64/egg/object_detection/utils\n",
      "copying build/lib/object_detection/utils/vrd_evaluation.py -> build/bdist.linux-x86_64/egg/object_detection/utils\n",
      "copying build/lib/object_detection/utils/metrics.py -> build/bdist.linux-x86_64/egg/object_detection/utils\n",
      "copying build/lib/object_detection/utils/json_utils.py -> build/bdist.linux-x86_64/egg/object_detection/utils\n",
      "copying build/lib/object_detection/utils/patch_ops_test.py -> build/bdist.linux-x86_64/egg/object_detection/utils\n",
      "copying build/lib/object_detection/utils/vrd_evaluation_test.py -> build/bdist.linux-x86_64/egg/object_detection/utils\n",
      "copying build/lib/object_detection/utils/per_image_evaluation.py -> build/bdist.linux-x86_64/egg/object_detection/utils\n",
      "copying build/lib/object_detection/utils/shape_utils_test.py -> build/bdist.linux-x86_64/egg/object_detection/utils\n",
      "copying build/lib/object_detection/utils/per_image_vrd_evaluation.py -> build/bdist.linux-x86_64/egg/object_detection/utils\n",
      "copying build/lib/object_detection/utils/context_manager.py -> build/bdist.linux-x86_64/egg/object_detection/utils\n",
      "copying build/lib/object_detection/utils/ops.py -> build/bdist.linux-x86_64/egg/object_detection/utils\n",
      "copying build/lib/object_detection/utils/object_detection_evaluation_test.py -> build/bdist.linux-x86_64/egg/object_detection/utils\n",
      "copying build/lib/object_detection/utils/np_mask_ops_test.py -> build/bdist.linux-x86_64/egg/object_detection/utils\n",
      "copying build/lib/object_detection/utils/ops_test.py -> build/bdist.linux-x86_64/egg/object_detection/utils\n",
      "copying build/lib/object_detection/utils/static_shape_test.py -> build/bdist.linux-x86_64/egg/object_detection/utils\n",
      "copying build/lib/object_detection/utils/np_box_list.py -> build/bdist.linux-x86_64/egg/object_detection/utils\n",
      "copying build/lib/object_detection/utils/np_box_list_ops.py -> build/bdist.linux-x86_64/egg/object_detection/utils\n",
      "copying build/lib/object_detection/utils/model_util.py -> build/bdist.linux-x86_64/egg/object_detection/utils\n",
      "copying build/lib/object_detection/utils/model_util_tf2_test.py -> build/bdist.linux-x86_64/egg/object_detection/utils\n",
      "copying build/lib/object_detection/utils/learning_schedules_test.py -> build/bdist.linux-x86_64/egg/object_detection/utils\n",
      "copying build/lib/object_detection/utils/metrics_test.py -> build/bdist.linux-x86_64/egg/object_detection/utils\n",
      "copying build/lib/object_detection/utils/label_map_util_test.py -> build/bdist.linux-x86_64/egg/object_detection/utils\n",
      "copying build/lib/object_detection/utils/learning_schedules.py -> build/bdist.linux-x86_64/egg/object_detection/utils\n",
      "copying build/lib/object_detection/utils/test_case.py -> build/bdist.linux-x86_64/egg/object_detection/utils\n",
      "copying build/lib/object_detection/utils/target_assigner_utils_test.py -> build/bdist.linux-x86_64/egg/object_detection/utils\n",
      "copying build/lib/object_detection/utils/category_util_test.py -> build/bdist.linux-x86_64/egg/object_detection/utils\n",
      "copying build/lib/object_detection/utils/np_box_mask_list_ops.py -> build/bdist.linux-x86_64/egg/object_detection/utils\n",
      "copying build/lib/object_detection/utils/np_box_ops_test.py -> build/bdist.linux-x86_64/egg/object_detection/utils\n",
      "copying build/lib/object_detection/utils/config_util.py -> build/bdist.linux-x86_64/egg/object_detection/utils\n",
      "copying build/lib/object_detection/utils/colab_utils.py -> build/bdist.linux-x86_64/egg/object_detection/utils\n",
      "copying build/lib/object_detection/utils/np_box_mask_list_ops_test.py -> build/bdist.linux-x86_64/egg/object_detection/utils\n",
      "copying build/lib/object_detection/utils/label_map_util.py -> build/bdist.linux-x86_64/egg/object_detection/utils\n",
      "copying build/lib/object_detection/utils/object_detection_evaluation.py -> build/bdist.linux-x86_64/egg/object_detection/utils\n",
      "copying build/lib/object_detection/utils/shape_utils.py -> build/bdist.linux-x86_64/egg/object_detection/utils\n",
      "copying build/lib/object_detection/utils/tf_version.py -> build/bdist.linux-x86_64/egg/object_detection/utils\n",
      "copying build/lib/object_detection/utils/variables_helper.py -> build/bdist.linux-x86_64/egg/object_detection/utils\n",
      "copying build/lib/object_detection/utils/np_box_list_ops_test.py -> build/bdist.linux-x86_64/egg/object_detection/utils\n",
      "copying build/lib/object_detection/utils/bifpn_utils.py -> build/bdist.linux-x86_64/egg/object_detection/utils\n",
      "copying build/lib/object_detection/utils/static_shape.py -> build/bdist.linux-x86_64/egg/object_detection/utils\n",
      "copying build/lib/object_detection/train.py -> build/bdist.linux-x86_64/egg/object_detection\n",
      "copying build/lib/object_detection/model_lib.py -> build/bdist.linux-x86_64/egg/object_detection\n",
      "copying build/lib/object_detection/eval_util.py -> build/bdist.linux-x86_64/egg/object_detection\n",
      "copying build/lib/object_detection/model_main_tf2.py -> build/bdist.linux-x86_64/egg/object_detection\n",
      "copying build/lib/object_detection/model_main.py -> build/bdist.linux-x86_64/egg/object_detection\n",
      "creating build/bdist.linux-x86_64/egg/preprocessing\n",
      "copying build/lib/preprocessing/lenet_preprocessing.py -> build/bdist.linux-x86_64/egg/preprocessing\n",
      "copying build/lib/preprocessing/cifarnet_preprocessing.py -> build/bdist.linux-x86_64/egg/preprocessing\n",
      "copying build/lib/preprocessing/vgg_preprocessing.py -> build/bdist.linux-x86_64/egg/preprocessing\n",
      "copying build/lib/preprocessing/preprocessing_factory.py -> build/bdist.linux-x86_64/egg/preprocessing\n",
      "copying build/lib/preprocessing/inception_preprocessing.py -> build/bdist.linux-x86_64/egg/preprocessing\n",
      "copying build/lib/preprocessing/__init__.py -> build/bdist.linux-x86_64/egg/preprocessing\n",
      "creating build/bdist.linux-x86_64/egg/nets\n",
      "copying build/lib/nets/lenet.py -> build/bdist.linux-x86_64/egg/nets\n",
      "copying build/lib/nets/inception_v3_test.py -> build/bdist.linux-x86_64/egg/nets\n",
      "copying build/lib/nets/resnet_v2_test.py -> build/bdist.linux-x86_64/egg/nets\n",
      "copying build/lib/nets/mobilenet_v1_test.py -> build/bdist.linux-x86_64/egg/nets\n",
      "copying build/lib/nets/inception_v4.py -> build/bdist.linux-x86_64/egg/nets\n",
      "copying build/lib/nets/cyclegan.py -> build/bdist.linux-x86_64/egg/nets\n",
      "copying build/lib/nets/nets_factory.py -> build/bdist.linux-x86_64/egg/nets\n",
      "copying build/lib/nets/i3d_utils.py -> build/bdist.linux-x86_64/egg/nets\n",
      "copying build/lib/nets/__init__.py -> build/bdist.linux-x86_64/egg/nets\n",
      "copying build/lib/nets/inception_resnet_v2.py -> build/bdist.linux-x86_64/egg/nets\n",
      "copying build/lib/nets/inception.py -> build/bdist.linux-x86_64/egg/nets\n",
      "copying build/lib/nets/inception_v4_test.py -> build/bdist.linux-x86_64/egg/nets\n",
      "copying build/lib/nets/overfeat_test.py -> build/bdist.linux-x86_64/egg/nets\n",
      "copying build/lib/nets/mobilenet_v1_eval.py -> build/bdist.linux-x86_64/egg/nets\n",
      "copying build/lib/nets/overfeat.py -> build/bdist.linux-x86_64/egg/nets\n",
      "copying build/lib/nets/s3dg_test.py -> build/bdist.linux-x86_64/egg/nets\n",
      "copying build/lib/nets/cifarnet.py -> build/bdist.linux-x86_64/egg/nets\n",
      "copying build/lib/nets/i3d.py -> build/bdist.linux-x86_64/egg/nets\n",
      "copying build/lib/nets/inception_v1_test.py -> build/bdist.linux-x86_64/egg/nets\n",
      "copying build/lib/nets/s3dg.py -> build/bdist.linux-x86_64/egg/nets\n",
      "copying build/lib/nets/pix2pix_test.py -> build/bdist.linux-x86_64/egg/nets\n",
      "copying build/lib/nets/alexnet.py -> build/bdist.linux-x86_64/egg/nets\n",
      "copying build/lib/nets/i3d_test.py -> build/bdist.linux-x86_64/egg/nets\n",
      "copying build/lib/nets/pix2pix.py -> build/bdist.linux-x86_64/egg/nets\n",
      "copying build/lib/nets/dcgan.py -> build/bdist.linux-x86_64/egg/nets\n",
      "copying build/lib/nets/inception_v1.py -> build/bdist.linux-x86_64/egg/nets\n",
      "copying build/lib/nets/inception_utils.py -> build/bdist.linux-x86_64/egg/nets\n",
      "copying build/lib/nets/mobilenet_v1.py -> build/bdist.linux-x86_64/egg/nets\n",
      "copying build/lib/nets/vgg_test.py -> build/bdist.linux-x86_64/egg/nets\n",
      "copying build/lib/nets/resnet_v2.py -> build/bdist.linux-x86_64/egg/nets\n",
      "copying build/lib/nets/dcgan_test.py -> build/bdist.linux-x86_64/egg/nets\n",
      "copying build/lib/nets/vgg.py -> build/bdist.linux-x86_64/egg/nets\n",
      "copying build/lib/nets/inception_v2_test.py -> build/bdist.linux-x86_64/egg/nets\n",
      "copying build/lib/nets/resnet_v1.py -> build/bdist.linux-x86_64/egg/nets\n",
      "copying build/lib/nets/post_training_quantization.py -> build/bdist.linux-x86_64/egg/nets\n",
      "copying build/lib/nets/resnet_v1_test.py -> build/bdist.linux-x86_64/egg/nets\n",
      "copying build/lib/nets/alexnet_test.py -> build/bdist.linux-x86_64/egg/nets\n",
      "copying build/lib/nets/resnet_utils.py -> build/bdist.linux-x86_64/egg/nets\n",
      "copying build/lib/nets/inception_resnet_v2_test.py -> build/bdist.linux-x86_64/egg/nets\n",
      "copying build/lib/nets/cyclegan_test.py -> build/bdist.linux-x86_64/egg/nets\n",
      "copying build/lib/nets/mobilenet_v1_train.py -> build/bdist.linux-x86_64/egg/nets\n",
      "copying build/lib/nets/inception_v2.py -> build/bdist.linux-x86_64/egg/nets\n",
      "copying build/lib/nets/inception_v3.py -> build/bdist.linux-x86_64/egg/nets\n",
      "copying build/lib/nets/nets_factory_test.py -> build/bdist.linux-x86_64/egg/nets\n",
      "creating build/bdist.linux-x86_64/egg/nets/nasnet\n",
      "copying build/lib/nets/nasnet/nasnet.py -> build/bdist.linux-x86_64/egg/nets/nasnet\n",
      "copying build/lib/nets/nasnet/nasnet_test.py -> build/bdist.linux-x86_64/egg/nets/nasnet\n",
      "copying build/lib/nets/nasnet/nasnet_utils.py -> build/bdist.linux-x86_64/egg/nets/nasnet\n",
      "copying build/lib/nets/nasnet/pnasnet_test.py -> build/bdist.linux-x86_64/egg/nets/nasnet\n",
      "copying build/lib/nets/nasnet/pnasnet.py -> build/bdist.linux-x86_64/egg/nets/nasnet\n",
      "copying build/lib/nets/nasnet/__init__.py -> build/bdist.linux-x86_64/egg/nets/nasnet\n",
      "copying build/lib/nets/nasnet/nasnet_utils_test.py -> build/bdist.linux-x86_64/egg/nets/nasnet\n",
      "creating build/bdist.linux-x86_64/egg/nets/mobilenet\n",
      "copying build/lib/nets/mobilenet/mobilenet.py -> build/bdist.linux-x86_64/egg/nets/mobilenet\n",
      "copying build/lib/nets/mobilenet/conv_blocks.py -> build/bdist.linux-x86_64/egg/nets/mobilenet\n",
      "copying build/lib/nets/mobilenet/mobilenet_v2.py -> build/bdist.linux-x86_64/egg/nets/mobilenet\n",
      "copying build/lib/nets/mobilenet/mobilenet_v3.py -> build/bdist.linux-x86_64/egg/nets/mobilenet\n",
      "copying build/lib/nets/mobilenet/__init__.py -> build/bdist.linux-x86_64/egg/nets/mobilenet\n",
      "copying build/lib/nets/mobilenet/mobilenet_v2_test.py -> build/bdist.linux-x86_64/egg/nets/mobilenet\n",
      "copying build/lib/nets/mobilenet/mobilenet_v3_test.py -> build/bdist.linux-x86_64/egg/nets/mobilenet\n",
      "creating build/bdist.linux-x86_64/egg/datasets\n",
      "copying build/lib/datasets/flowers.py -> build/bdist.linux-x86_64/egg/datasets\n",
      "copying build/lib/datasets/mnist.py -> build/bdist.linux-x86_64/egg/datasets\n",
      "copying build/lib/datasets/download_and_convert_cifar10.py -> build/bdist.linux-x86_64/egg/datasets\n",
      "copying build/lib/datasets/download_and_convert_flowers.py -> build/bdist.linux-x86_64/egg/datasets\n",
      "copying build/lib/datasets/download_and_convert_visualwakewords_lib.py -> build/bdist.linux-x86_64/egg/datasets\n",
      "copying build/lib/datasets/imagenet.py -> build/bdist.linux-x86_64/egg/datasets\n",
      "copying build/lib/datasets/preprocess_imagenet_validation_data.py -> build/bdist.linux-x86_64/egg/datasets\n",
      "copying build/lib/datasets/download_and_convert_visualwakewords.py -> build/bdist.linux-x86_64/egg/datasets\n",
      "copying build/lib/datasets/__init__.py -> build/bdist.linux-x86_64/egg/datasets\n",
      "copying build/lib/datasets/download_and_convert_mnist.py -> build/bdist.linux-x86_64/egg/datasets\n",
      "copying build/lib/datasets/visualwakewords.py -> build/bdist.linux-x86_64/egg/datasets\n",
      "copying build/lib/datasets/cifar10.py -> build/bdist.linux-x86_64/egg/datasets\n",
      "copying build/lib/datasets/dataset_utils.py -> build/bdist.linux-x86_64/egg/datasets\n",
      "copying build/lib/datasets/build_imagenet_data.py -> build/bdist.linux-x86_64/egg/datasets\n",
      "copying build/lib/datasets/process_bounding_boxes.py -> build/bdist.linux-x86_64/egg/datasets\n",
      "copying build/lib/datasets/dataset_factory.py -> build/bdist.linux-x86_64/egg/datasets\n",
      "creating build/bdist.linux-x86_64/egg/deployment\n",
      "copying build/lib/deployment/model_deploy_test.py -> build/bdist.linux-x86_64/egg/deployment\n",
      "copying build/lib/deployment/__init__.py -> build/bdist.linux-x86_64/egg/deployment\n",
      "copying build/lib/deployment/model_deploy.py -> build/bdist.linux-x86_64/egg/deployment\n",
      "byte-compiling build/bdist.linux-x86_64/egg/object_detection/export_tflite_graph_tf2.py to export_tflite_graph_tf2.cpython-37.pyc\n",
      "byte-compiling build/bdist.linux-x86_64/egg/object_detection/export_tflite_graph_lib_tf2_test.py to export_tflite_graph_lib_tf2_test.cpython-37.pyc\n",
      "byte-compiling build/bdist.linux-x86_64/egg/object_detection/exporter_main_v2.py to exporter_main_v2.cpython-37.pyc\n",
      "byte-compiling build/bdist.linux-x86_64/egg/object_detection/inputs.py to inputs.cpython-37.pyc\n",
      "byte-compiling build/bdist.linux-x86_64/egg/object_detection/exporter_tf1_test.py to exporter_tf1_test.cpython-37.pyc\n",
      "byte-compiling build/bdist.linux-x86_64/egg/object_detection/eval_util_test.py to eval_util_test.cpython-37.pyc\n",
      "byte-compiling build/bdist.linux-x86_64/egg/object_detection/export_tflite_ssd_graph_lib.py to export_tflite_ssd_graph_lib.cpython-37.pyc\n",
      "byte-compiling build/bdist.linux-x86_64/egg/object_detection/model_lib_tf1_test.py to model_lib_tf1_test.cpython-37.pyc\n",
      "byte-compiling build/bdist.linux-x86_64/egg/object_detection/exporter.py to exporter.cpython-37.pyc\n",
      "byte-compiling build/bdist.linux-x86_64/egg/object_detection/export_tflite_ssd_graph.py to export_tflite_ssd_graph.cpython-37.pyc\n",
      "byte-compiling build/bdist.linux-x86_64/egg/object_detection/model_tpu_main.py to model_tpu_main.cpython-37.pyc\n",
      "byte-compiling build/bdist.linux-x86_64/egg/object_detection/export_tflite_graph_lib_tf2.py to export_tflite_graph_lib_tf2.cpython-37.pyc\n",
      "byte-compiling build/bdist.linux-x86_64/egg/object_detection/model_hparams.py to model_hparams.cpython-37.pyc\n",
      "byte-compiling build/bdist.linux-x86_64/egg/object_detection/model_lib_v2.py to model_lib_v2.cpython-37.pyc\n",
      "byte-compiling build/bdist.linux-x86_64/egg/object_detection/export_inference_graph.py to export_inference_graph.cpython-37.pyc\n",
      "byte-compiling build/bdist.linux-x86_64/egg/object_detection/__init__.py to __init__.cpython-37.pyc\n",
      "byte-compiling build/bdist.linux-x86_64/egg/object_detection/inputs_test.py to inputs_test.cpython-37.pyc\n",
      "byte-compiling build/bdist.linux-x86_64/egg/object_detection/exporter_lib_v2.py to exporter_lib_v2.cpython-37.pyc\n",
      "byte-compiling build/bdist.linux-x86_64/egg/object_detection/model_lib_tf2_test.py to model_lib_tf2_test.cpython-37.pyc\n",
      "byte-compiling build/bdist.linux-x86_64/egg/object_detection/exporter_lib_tf2_test.py to exporter_lib_tf2_test.cpython-37.pyc\n",
      "byte-compiling build/bdist.linux-x86_64/egg/object_detection/export_tflite_ssd_graph_lib_tf1_test.py to export_tflite_ssd_graph_lib_tf1_test.cpython-37.pyc\n",
      "byte-compiling build/bdist.linux-x86_64/egg/object_detection/anchor_generators/__init__.py to __init__.cpython-37.pyc\n",
      "byte-compiling build/bdist.linux-x86_64/egg/object_detection/anchor_generators/flexible_grid_anchor_generator.py to flexible_grid_anchor_generator.cpython-37.pyc\n",
      "byte-compiling build/bdist.linux-x86_64/egg/object_detection/anchor_generators/multiscale_grid_anchor_generator.py to multiscale_grid_anchor_generator.cpython-37.pyc\n",
      "byte-compiling build/bdist.linux-x86_64/egg/object_detection/anchor_generators/grid_anchor_generator.py to grid_anchor_generator.cpython-37.pyc\n",
      "byte-compiling build/bdist.linux-x86_64/egg/object_detection/anchor_generators/grid_anchor_generator_test.py to grid_anchor_generator_test.cpython-37.pyc\n",
      "byte-compiling build/bdist.linux-x86_64/egg/object_detection/anchor_generators/multiple_grid_anchor_generator_test.py to multiple_grid_anchor_generator_test.cpython-37.pyc\n",
      "byte-compiling build/bdist.linux-x86_64/egg/object_detection/anchor_generators/flexible_grid_anchor_generator_test.py to flexible_grid_anchor_generator_test.cpython-37.pyc\n",
      "byte-compiling build/bdist.linux-x86_64/egg/object_detection/anchor_generators/multiscale_grid_anchor_generator_test.py to multiscale_grid_anchor_generator_test.cpython-37.pyc\n",
      "byte-compiling build/bdist.linux-x86_64/egg/object_detection/anchor_generators/multiple_grid_anchor_generator.py to multiple_grid_anchor_generator.cpython-37.pyc\n",
      "byte-compiling build/bdist.linux-x86_64/egg/object_detection/box_coders/__init__.py to __init__.cpython-37.pyc\n",
      "byte-compiling build/bdist.linux-x86_64/egg/object_detection/box_coders/keypoint_box_coder_test.py to keypoint_box_coder_test.cpython-37.pyc\n",
      "byte-compiling build/bdist.linux-x86_64/egg/object_detection/box_coders/mean_stddev_box_coder_test.py to mean_stddev_box_coder_test.cpython-37.pyc\n",
      "byte-compiling build/bdist.linux-x86_64/egg/object_detection/box_coders/faster_rcnn_box_coder_test.py to faster_rcnn_box_coder_test.cpython-37.pyc\n",
      "byte-compiling build/bdist.linux-x86_64/egg/object_detection/box_coders/faster_rcnn_box_coder.py to faster_rcnn_box_coder.cpython-37.pyc\n",
      "byte-compiling build/bdist.linux-x86_64/egg/object_detection/box_coders/square_box_coder_test.py to square_box_coder_test.cpython-37.pyc\n",
      "byte-compiling build/bdist.linux-x86_64/egg/object_detection/box_coders/square_box_coder.py to square_box_coder.cpython-37.pyc\n",
      "byte-compiling build/bdist.linux-x86_64/egg/object_detection/box_coders/mean_stddev_box_coder.py to mean_stddev_box_coder.cpython-37.pyc\n",
      "byte-compiling build/bdist.linux-x86_64/egg/object_detection/box_coders/keypoint_box_coder.py to keypoint_box_coder.cpython-37.pyc\n",
      "byte-compiling build/bdist.linux-x86_64/egg/object_detection/builders/calibration_builder_test.py to calibration_builder_test.cpython-37.pyc\n",
      "byte-compiling build/bdist.linux-x86_64/egg/object_detection/builders/decoder_builder_test.py to decoder_builder_test.cpython-37.pyc\n",
      "byte-compiling build/bdist.linux-x86_64/egg/object_detection/builders/dataset_builder.py to dataset_builder.cpython-37.pyc\n",
      "byte-compiling build/bdist.linux-x86_64/egg/object_detection/builders/hyperparams_builder.py to hyperparams_builder.cpython-37.pyc\n",
      "byte-compiling build/bdist.linux-x86_64/egg/object_detection/builders/model_builder_tf2_test.py to model_builder_tf2_test.cpython-37.pyc\n",
      "byte-compiling build/bdist.linux-x86_64/egg/object_detection/builders/box_predictor_builder_test.py to box_predictor_builder_test.cpython-37.pyc\n",
      "byte-compiling build/bdist.linux-x86_64/egg/object_detection/builders/optimizer_builder_tf1_test.py to optimizer_builder_tf1_test.cpython-37.pyc\n",
      "byte-compiling build/bdist.linux-x86_64/egg/object_detection/builders/target_assigner_builder.py to target_assigner_builder.cpython-37.pyc\n",
      "byte-compiling build/bdist.linux-x86_64/egg/object_detection/builders/hyperparams_builder_test.py to hyperparams_builder_test.cpython-37.pyc\n",
      "byte-compiling build/bdist.linux-x86_64/egg/object_detection/builders/model_builder_test.py to model_builder_test.cpython-37.pyc\n",
      "byte-compiling build/bdist.linux-x86_64/egg/object_detection/builders/model_builder_tf1_test.py to model_builder_tf1_test.cpython-37.pyc\n",
      "byte-compiling build/bdist.linux-x86_64/egg/object_detection/builders/region_similarity_calculator_builder.py to region_similarity_calculator_builder.cpython-37.pyc\n",
      "byte-compiling build/bdist.linux-x86_64/egg/object_detection/builders/box_coder_builder_test.py to box_coder_builder_test.cpython-37.pyc\n",
      "byte-compiling build/bdist.linux-x86_64/egg/object_detection/builders/input_reader_builder_tf1_test.py to input_reader_builder_tf1_test.cpython-37.pyc\n",
      "byte-compiling build/bdist.linux-x86_64/egg/object_detection/builders/post_processing_builder.py to post_processing_builder.cpython-37.pyc\n",
      "byte-compiling build/bdist.linux-x86_64/egg/object_detection/builders/target_assigner_builder_test.py to target_assigner_builder_test.cpython-37.pyc\n",
      "byte-compiling build/bdist.linux-x86_64/egg/object_detection/builders/box_coder_builder.py to box_coder_builder.cpython-37.pyc\n",
      "byte-compiling build/bdist.linux-x86_64/egg/object_detection/builders/calibration_builder.py to calibration_builder.cpython-37.pyc\n",
      "byte-compiling build/bdist.linux-x86_64/egg/object_detection/builders/region_similarity_calculator_builder_test.py to region_similarity_calculator_builder_test.cpython-37.pyc\n",
      "byte-compiling build/bdist.linux-x86_64/egg/object_detection/builders/decoder_builder.py to decoder_builder.cpython-37.pyc\n",
      "byte-compiling build/bdist.linux-x86_64/egg/object_detection/builders/image_resizer_builder.py to image_resizer_builder.cpython-37.pyc\n",
      "byte-compiling build/bdist.linux-x86_64/egg/object_detection/builders/anchor_generator_builder.py to anchor_generator_builder.cpython-37.pyc\n",
      "byte-compiling build/bdist.linux-x86_64/egg/object_detection/builders/input_reader_builder.py to input_reader_builder.cpython-37.pyc\n",
      "byte-compiling build/bdist.linux-x86_64/egg/object_detection/builders/image_resizer_builder_test.py to image_resizer_builder_test.cpython-37.pyc\n",
      "byte-compiling build/bdist.linux-x86_64/egg/object_detection/builders/losses_builder_test.py to losses_builder_test.cpython-37.pyc\n",
      "byte-compiling build/bdist.linux-x86_64/egg/object_detection/builders/model_builder.py to model_builder.cpython-37.pyc\n",
      "byte-compiling build/bdist.linux-x86_64/egg/object_detection/builders/matcher_builder.py to matcher_builder.cpython-37.pyc\n",
      "byte-compiling build/bdist.linux-x86_64/egg/object_detection/builders/preprocessor_builder.py to preprocessor_builder.cpython-37.pyc\n",
      "byte-compiling build/bdist.linux-x86_64/egg/object_detection/builders/optimizer_builder_tf2_test.py to optimizer_builder_tf2_test.cpython-37.pyc\n",
      "byte-compiling build/bdist.linux-x86_64/egg/object_detection/builders/graph_rewriter_builder.py to graph_rewriter_builder.cpython-37.pyc\n",
      "byte-compiling build/bdist.linux-x86_64/egg/object_detection/builders/box_predictor_builder.py to box_predictor_builder.cpython-37.pyc\n",
      "byte-compiling build/bdist.linux-x86_64/egg/object_detection/builders/graph_rewriter_builder_tf1_test.py to graph_rewriter_builder_tf1_test.cpython-37.pyc\n",
      "byte-compiling build/bdist.linux-x86_64/egg/object_detection/builders/dataset_builder_test.py to dataset_builder_test.cpython-37.pyc\n",
      "byte-compiling build/bdist.linux-x86_64/egg/object_detection/builders/optimizer_builder.py to optimizer_builder.cpython-37.pyc\n",
      "byte-compiling build/bdist.linux-x86_64/egg/object_detection/builders/losses_builder.py to losses_builder.cpython-37.pyc\n",
      "byte-compiling build/bdist.linux-x86_64/egg/object_detection/builders/__init__.py to __init__.cpython-37.pyc\n",
      "byte-compiling build/bdist.linux-x86_64/egg/object_detection/builders/preprocessor_builder_test.py to preprocessor_builder_test.cpython-37.pyc\n",
      "byte-compiling build/bdist.linux-x86_64/egg/object_detection/builders/matcher_builder_test.py to matcher_builder_test.cpython-37.pyc\n",
      "byte-compiling build/bdist.linux-x86_64/egg/object_detection/builders/post_processing_builder_test.py to post_processing_builder_test.cpython-37.pyc\n",
      "byte-compiling build/bdist.linux-x86_64/egg/object_detection/builders/anchor_generator_builder_test.py to anchor_generator_builder_test.cpython-37.pyc\n",
      "byte-compiling build/bdist.linux-x86_64/egg/object_detection/core/preprocessor_test.py to preprocessor_test.cpython-37.pyc\n",
      "byte-compiling build/bdist.linux-x86_64/egg/object_detection/core/box_list_ops.py to box_list_ops.cpython-37.pyc\n",
      "byte-compiling build/bdist.linux-x86_64/egg/object_detection/core/preprocessor.py to preprocessor.cpython-37.pyc\n",
      "byte-compiling build/bdist.linux-x86_64/egg/object_detection/core/batcher_tf1_test.py to batcher_tf1_test.cpython-37.pyc\n",
      "byte-compiling build/bdist.linux-x86_64/egg/object_detection/core/box_list_ops_test.py to box_list_ops_test.cpython-37.pyc\n",
      "byte-compiling build/bdist.linux-x86_64/egg/object_detection/core/model_test.py to model_test.cpython-37.pyc\n",
      "byte-compiling build/bdist.linux-x86_64/egg/object_detection/core/minibatch_sampler_test.py to minibatch_sampler_test.cpython-37.pyc\n",
      "byte-compiling build/bdist.linux-x86_64/egg/object_detection/core/matcher.py to matcher.cpython-37.pyc\n",
      "byte-compiling build/bdist.linux-x86_64/egg/object_detection/core/box_predictor.py to box_predictor.cpython-37.pyc\n",
      "byte-compiling build/bdist.linux-x86_64/egg/object_detection/core/minibatch_sampler.py to minibatch_sampler.cpython-37.pyc\n",
      "byte-compiling build/bdist.linux-x86_64/egg/object_detection/core/target_assigner.py to target_assigner.cpython-37.pyc\n",
      "byte-compiling build/bdist.linux-x86_64/egg/object_detection/core/post_processing.py to post_processing.cpython-37.pyc\n",
      "byte-compiling build/bdist.linux-x86_64/egg/object_detection/core/losses.py to losses.cpython-37.pyc\n",
      "byte-compiling build/bdist.linux-x86_64/egg/object_detection/core/__init__.py to __init__.cpython-37.pyc\n",
      "byte-compiling build/bdist.linux-x86_64/egg/object_detection/core/matcher_test.py to matcher_test.cpython-37.pyc\n",
      "byte-compiling build/bdist.linux-x86_64/egg/object_detection/core/densepose_ops_test.py to densepose_ops_test.cpython-37.pyc\n",
      "byte-compiling build/bdist.linux-x86_64/egg/object_detection/core/preprocessor_cache.py to preprocessor_cache.cpython-37.pyc\n",
      "byte-compiling build/bdist.linux-x86_64/egg/object_detection/core/anchor_generator.py to anchor_generator.cpython-37.pyc\n",
      "byte-compiling build/bdist.linux-x86_64/egg/object_detection/core/model.py to model.cpython-37.pyc\n",
      "byte-compiling build/bdist.linux-x86_64/egg/object_detection/core/densepose_ops.py to densepose_ops.cpython-37.pyc\n",
      "byte-compiling build/bdist.linux-x86_64/egg/object_detection/core/keypoint_ops.py to keypoint_ops.cpython-37.pyc\n",
      "byte-compiling build/bdist.linux-x86_64/egg/object_detection/core/box_coder_test.py to box_coder_test.cpython-37.pyc\n",
      "byte-compiling build/bdist.linux-x86_64/egg/object_detection/core/batcher.py to batcher.cpython-37.pyc\n",
      "byte-compiling build/bdist.linux-x86_64/egg/object_detection/core/freezable_batch_norm.py to freezable_batch_norm.cpython-37.pyc\n",
      "byte-compiling build/bdist.linux-x86_64/egg/object_detection/core/losses_test.py to losses_test.cpython-37.pyc\n",
      "byte-compiling build/bdist.linux-x86_64/egg/object_detection/core/multiclass_nms_test.py to multiclass_nms_test.cpython-37.pyc\n",
      "byte-compiling build/bdist.linux-x86_64/egg/object_detection/core/freezable_sync_batch_norm.py to freezable_sync_batch_norm.cpython-37.pyc\n",
      "byte-compiling build/bdist.linux-x86_64/egg/object_detection/core/standard_fields.py to standard_fields.cpython-37.pyc\n",
      "byte-compiling build/bdist.linux-x86_64/egg/object_detection/core/keypoint_ops_test.py to keypoint_ops_test.cpython-37.pyc\n",
      "byte-compiling build/bdist.linux-x86_64/egg/object_detection/core/batch_multiclass_nms_test.py to batch_multiclass_nms_test.cpython-37.pyc\n",
      "byte-compiling build/bdist.linux-x86_64/egg/object_detection/core/target_assigner_test.py to target_assigner_test.cpython-37.pyc\n",
      "byte-compiling build/bdist.linux-x86_64/egg/object_detection/core/box_list.py to box_list.cpython-37.pyc\n",
      "byte-compiling build/bdist.linux-x86_64/egg/object_detection/core/balanced_positive_negative_sampler.py to balanced_positive_negative_sampler.cpython-37.pyc\n",
      "byte-compiling build/bdist.linux-x86_64/egg/object_detection/core/prefetcher_tf1_test.py to prefetcher_tf1_test.cpython-37.pyc\n",
      "byte-compiling build/bdist.linux-x86_64/egg/object_detection/core/prefetcher.py to prefetcher.cpython-37.pyc\n",
      "byte-compiling build/bdist.linux-x86_64/egg/object_detection/core/freezable_batch_norm_tf2_test.py to freezable_batch_norm_tf2_test.cpython-37.pyc\n",
      "byte-compiling build/bdist.linux-x86_64/egg/object_detection/core/data_parser.py to data_parser.cpython-37.pyc\n",
      "byte-compiling build/bdist.linux-x86_64/egg/object_detection/core/data_decoder.py to data_decoder.cpython-37.pyc\n",
      "byte-compiling build/bdist.linux-x86_64/egg/object_detection/core/box_list_test.py to box_list_test.cpython-37.pyc\n",
      "byte-compiling build/bdist.linux-x86_64/egg/object_detection/core/region_similarity_calculator_test.py to region_similarity_calculator_test.cpython-37.pyc\n",
      "byte-compiling build/bdist.linux-x86_64/egg/object_detection/core/region_similarity_calculator.py to region_similarity_calculator.cpython-37.pyc\n",
      "byte-compiling build/bdist.linux-x86_64/egg/object_detection/core/class_agnostic_nms_test.py to class_agnostic_nms_test.cpython-37.pyc\n",
      "byte-compiling build/bdist.linux-x86_64/egg/object_detection/core/box_coder.py to box_coder.cpython-37.pyc\n",
      "byte-compiling build/bdist.linux-x86_64/egg/object_detection/core/balanced_positive_negative_sampler_test.py to balanced_positive_negative_sampler_test.cpython-37.pyc\n",
      "byte-compiling build/bdist.linux-x86_64/egg/object_detection/data_decoders/tf_example_decoder_test.py to tf_example_decoder_test.cpython-37.pyc\n",
      "byte-compiling build/bdist.linux-x86_64/egg/object_detection/data_decoders/tf_example_decoder.py to tf_example_decoder.cpython-37.pyc\n",
      "byte-compiling build/bdist.linux-x86_64/egg/object_detection/data_decoders/__init__.py to __init__.cpython-37.pyc\n",
      "byte-compiling build/bdist.linux-x86_64/egg/object_detection/data_decoders/tf_sequence_example_decoder_test.py to tf_sequence_example_decoder_test.cpython-37.pyc\n",
      "byte-compiling build/bdist.linux-x86_64/egg/object_detection/data_decoders/tf_sequence_example_decoder.py to tf_sequence_example_decoder.cpython-37.pyc\n",
      "byte-compiling build/bdist.linux-x86_64/egg/object_detection/dataset_tools/create_pascal_tf_record.py to create_pascal_tf_record.cpython-37.pyc\n",
      "byte-compiling build/bdist.linux-x86_64/egg/object_detection/dataset_tools/create_kitti_tf_record.py to create_kitti_tf_record.cpython-37.pyc\n",
      "byte-compiling build/bdist.linux-x86_64/egg/object_detection/dataset_tools/seq_example_util_test.py to seq_example_util_test.cpython-37.pyc\n",
      "byte-compiling build/bdist.linux-x86_64/egg/object_detection/dataset_tools/create_oid_tf_record.py to create_oid_tf_record.cpython-37.pyc\n",
      "byte-compiling build/bdist.linux-x86_64/egg/object_detection/dataset_tools/oid_hierarchical_labels_expansion.py to oid_hierarchical_labels_expansion.cpython-37.pyc\n",
      "byte-compiling build/bdist.linux-x86_64/egg/object_detection/dataset_tools/create_kitti_tf_record_test.py to create_kitti_tf_record_test.cpython-37.pyc\n",
      "byte-compiling build/bdist.linux-x86_64/egg/object_detection/dataset_tools/tf_record_creation_util.py to tf_record_creation_util.cpython-37.pyc\n",
      "byte-compiling build/bdist.linux-x86_64/egg/object_detection/dataset_tools/create_pascal_tf_record_test.py to create_pascal_tf_record_test.cpython-37.pyc\n",
      "byte-compiling build/bdist.linux-x86_64/egg/object_detection/dataset_tools/seq_example_util.py to seq_example_util.cpython-37.pyc\n",
      "byte-compiling build/bdist.linux-x86_64/egg/object_detection/dataset_tools/oid_tfrecord_creation_test.py to oid_tfrecord_creation_test.cpython-37.pyc\n",
      "byte-compiling build/bdist.linux-x86_64/egg/object_detection/dataset_tools/create_pet_tf_record.py to create_pet_tf_record.cpython-37.pyc\n",
      "byte-compiling build/bdist.linux-x86_64/egg/object_detection/dataset_tools/oid_tfrecord_creation.py to oid_tfrecord_creation.cpython-37.pyc\n",
      "byte-compiling build/bdist.linux-x86_64/egg/object_detection/dataset_tools/oid_hierarchical_labels_expansion_test.py to oid_hierarchical_labels_expansion_test.cpython-37.pyc\n",
      "byte-compiling build/bdist.linux-x86_64/egg/object_detection/dataset_tools/create_coco_tf_record_test.py to create_coco_tf_record_test.cpython-37.pyc\n",
      "byte-compiling build/bdist.linux-x86_64/egg/object_detection/dataset_tools/tf_record_creation_util_test.py to tf_record_creation_util_test.cpython-37.pyc\n",
      "byte-compiling build/bdist.linux-x86_64/egg/object_detection/dataset_tools/create_ava_actions_tf_record.py to create_ava_actions_tf_record.cpython-37.pyc\n",
      "byte-compiling build/bdist.linux-x86_64/egg/object_detection/dataset_tools/create_coco_tf_record.py to create_coco_tf_record.cpython-37.pyc\n",
      "byte-compiling build/bdist.linux-x86_64/egg/object_detection/dataset_tools/__init__.py to __init__.cpython-37.pyc\n",
      "byte-compiling build/bdist.linux-x86_64/egg/object_detection/dataset_tools/context_rcnn/generate_detection_data.py to generate_detection_data.cpython-37.pyc\n",
      "byte-compiling build/bdist.linux-x86_64/egg/object_detection/dataset_tools/context_rcnn/create_cococameratraps_tfexample_tf2_test.py to create_cococameratraps_tfexample_tf2_test.cpython-37.pyc\n",
      "byte-compiling build/bdist.linux-x86_64/egg/object_detection/dataset_tools/context_rcnn/create_cococameratraps_tfexample_main.py to create_cococameratraps_tfexample_main.cpython-37.pyc\n",
      "byte-compiling build/bdist.linux-x86_64/egg/object_detection/dataset_tools/context_rcnn/__init__.py to __init__.cpython-37.pyc\n",
      "byte-compiling build/bdist.linux-x86_64/egg/object_detection/dataset_tools/context_rcnn/add_context_to_examples.py to add_context_to_examples.cpython-37.pyc\n",
      "byte-compiling build/bdist.linux-x86_64/egg/object_detection/dataset_tools/context_rcnn/generate_detection_data_tf2_test.py to generate_detection_data_tf2_test.cpython-37.pyc\n",
      "byte-compiling build/bdist.linux-x86_64/egg/object_detection/dataset_tools/context_rcnn/generate_embedding_data.py to generate_embedding_data.cpython-37.pyc\n",
      "byte-compiling build/bdist.linux-x86_64/egg/object_detection/dataset_tools/context_rcnn/generate_embedding_data_tf2_test.py to generate_embedding_data_tf2_test.cpython-37.pyc\n",
      "byte-compiling build/bdist.linux-x86_64/egg/object_detection/dataset_tools/context_rcnn/add_context_to_examples_tf2_test.py to add_context_to_examples_tf2_test.cpython-37.pyc\n",
      "byte-compiling build/bdist.linux-x86_64/egg/object_detection/inference/infer_detections.py to infer_detections.cpython-37.pyc\n",
      "byte-compiling build/bdist.linux-x86_64/egg/object_detection/inference/__init__.py to __init__.cpython-37.pyc\n",
      "byte-compiling build/bdist.linux-x86_64/egg/object_detection/inference/detection_inference.py to detection_inference.cpython-37.pyc\n",
      "byte-compiling build/bdist.linux-x86_64/egg/object_detection/inference/detection_inference_tf1_test.py to detection_inference_tf1_test.cpython-37.pyc\n",
      "byte-compiling build/bdist.linux-x86_64/egg/object_detection/legacy/eval.py to eval.cpython-37.pyc\n",
      "byte-compiling build/bdist.linux-x86_64/egg/object_detection/legacy/train.py to train.cpython-37.pyc\n",
      "byte-compiling build/bdist.linux-x86_64/egg/object_detection/legacy/trainer_tf1_test.py to trainer_tf1_test.cpython-37.pyc\n",
      "byte-compiling build/bdist.linux-x86_64/egg/object_detection/legacy/evaluator.py to evaluator.cpython-37.pyc\n",
      "byte-compiling build/bdist.linux-x86_64/egg/object_detection/legacy/__init__.py to __init__.cpython-37.pyc\n",
      "byte-compiling build/bdist.linux-x86_64/egg/object_detection/legacy/trainer.py to trainer.cpython-37.pyc\n",
      "byte-compiling build/bdist.linux-x86_64/egg/object_detection/matchers/argmax_matcher.py to argmax_matcher.cpython-37.pyc\n",
      "byte-compiling build/bdist.linux-x86_64/egg/object_detection/matchers/hungarian_matcher.py to hungarian_matcher.cpython-37.pyc\n",
      "byte-compiling build/bdist.linux-x86_64/egg/object_detection/matchers/__init__.py to __init__.cpython-37.pyc\n",
      "byte-compiling build/bdist.linux-x86_64/egg/object_detection/matchers/bipartite_matcher_tf1_test.py to bipartite_matcher_tf1_test.cpython-37.pyc\n",
      "byte-compiling build/bdist.linux-x86_64/egg/object_detection/matchers/bipartite_matcher.py to bipartite_matcher.cpython-37.pyc\n",
      "byte-compiling build/bdist.linux-x86_64/egg/object_detection/matchers/hungarian_matcher_tf2_test.py to hungarian_matcher_tf2_test.cpython-37.pyc\n",
      "byte-compiling build/bdist.linux-x86_64/egg/object_detection/matchers/argmax_matcher_test.py to argmax_matcher_test.cpython-37.pyc\n",
      "byte-compiling build/bdist.linux-x86_64/egg/object_detection/meta_architectures/rfcn_meta_arch.py to rfcn_meta_arch.cpython-37.pyc\n",
      "byte-compiling build/bdist.linux-x86_64/egg/object_detection/meta_architectures/center_net_meta_arch.py to center_net_meta_arch.cpython-37.pyc\n",
      "byte-compiling build/bdist.linux-x86_64/egg/object_detection/meta_architectures/rfcn_meta_arch_test.py to rfcn_meta_arch_test.cpython-37.pyc\n",
      "byte-compiling build/bdist.linux-x86_64/egg/object_detection/meta_architectures/center_net_meta_arch_tf2_test.py to center_net_meta_arch_tf2_test.cpython-37.pyc\n",
      "byte-compiling build/bdist.linux-x86_64/egg/object_detection/meta_architectures/faster_rcnn_meta_arch_test_lib.py to faster_rcnn_meta_arch_test_lib.cpython-37.pyc\n",
      "byte-compiling build/bdist.linux-x86_64/egg/object_detection/meta_architectures/ssd_meta_arch_test_lib.py to ssd_meta_arch_test_lib.cpython-37.pyc\n",
      "byte-compiling build/bdist.linux-x86_64/egg/object_detection/meta_architectures/context_rcnn_meta_arch_test.py to context_rcnn_meta_arch_test.cpython-37.pyc\n",
      "byte-compiling build/bdist.linux-x86_64/egg/object_detection/meta_architectures/context_rcnn_lib.py to context_rcnn_lib.cpython-37.pyc\n",
      "byte-compiling build/bdist.linux-x86_64/egg/object_detection/meta_architectures/context_rcnn_lib_tf2_test.py to context_rcnn_lib_tf2_test.cpython-37.pyc\n",
      "byte-compiling build/bdist.linux-x86_64/egg/object_detection/meta_architectures/ssd_meta_arch_test.py to ssd_meta_arch_test.cpython-37.pyc\n",
      "byte-compiling build/bdist.linux-x86_64/egg/object_detection/meta_architectures/__init__.py to __init__.cpython-37.pyc\n",
      "byte-compiling build/bdist.linux-x86_64/egg/object_detection/meta_architectures/ssd_meta_arch.py to ssd_meta_arch.cpython-37.pyc\n",
      "byte-compiling build/bdist.linux-x86_64/egg/object_detection/meta_architectures/faster_rcnn_meta_arch_test.py to faster_rcnn_meta_arch_test.cpython-37.pyc\n",
      "byte-compiling build/bdist.linux-x86_64/egg/object_detection/meta_architectures/deepmac_meta_arch_test.py to deepmac_meta_arch_test.cpython-37.pyc\n",
      "byte-compiling build/bdist.linux-x86_64/egg/object_detection/meta_architectures/deepmac_meta_arch.py to deepmac_meta_arch.cpython-37.pyc\n",
      "byte-compiling build/bdist.linux-x86_64/egg/object_detection/meta_architectures/context_rcnn_meta_arch.py to context_rcnn_meta_arch.cpython-37.pyc\n",
      "byte-compiling build/bdist.linux-x86_64/egg/object_detection/meta_architectures/context_rcnn_lib_tf2.py to context_rcnn_lib_tf2.cpython-37.pyc\n",
      "byte-compiling build/bdist.linux-x86_64/egg/object_detection/meta_architectures/faster_rcnn_meta_arch.py to faster_rcnn_meta_arch.cpython-37.pyc\n",
      "byte-compiling build/bdist.linux-x86_64/egg/object_detection/meta_architectures/context_rcnn_lib_tf1_test.py to context_rcnn_lib_tf1_test.cpython-37.pyc\n",
      "byte-compiling build/bdist.linux-x86_64/egg/object_detection/metrics/coco_tools.py to coco_tools.cpython-37.pyc\n",
      "byte-compiling build/bdist.linux-x86_64/egg/object_detection/metrics/calibration_evaluation_tf1_test.py to calibration_evaluation_tf1_test.cpython-37.pyc\n",
      "byte-compiling build/bdist.linux-x86_64/egg/object_detection/metrics/offline_eval_map_corloc.py to offline_eval_map_corloc.cpython-37.pyc\n",
      "byte-compiling build/bdist.linux-x86_64/egg/object_detection/metrics/__init__.py to __init__.cpython-37.pyc\n",
      "byte-compiling build/bdist.linux-x86_64/egg/object_detection/metrics/oid_challenge_evaluation_utils_test.py to oid_challenge_evaluation_utils_test.cpython-37.pyc\n",
      "byte-compiling build/bdist.linux-x86_64/egg/object_detection/metrics/lvis_evaluation_test.py to lvis_evaluation_test.cpython-37.pyc\n",
      "byte-compiling build/bdist.linux-x86_64/egg/object_detection/metrics/oid_vrd_challenge_evaluation_utils_test.py to oid_vrd_challenge_evaluation_utils_test.cpython-37.pyc\n",
      "byte-compiling build/bdist.linux-x86_64/egg/object_detection/metrics/coco_evaluation.py to coco_evaluation.cpython-37.pyc\n",
      "byte-compiling build/bdist.linux-x86_64/egg/object_detection/metrics/io_utils.py to io_utils.cpython-37.pyc\n",
      "byte-compiling build/bdist.linux-x86_64/egg/object_detection/metrics/calibration_metrics.py to calibration_metrics.cpython-37.pyc\n",
      "byte-compiling build/bdist.linux-x86_64/egg/object_detection/metrics/calibration_evaluation.py to calibration_evaluation.cpython-37.pyc\n",
      "byte-compiling build/bdist.linux-x86_64/egg/object_detection/metrics/lvis_evaluation.py to lvis_evaluation.cpython-37.pyc\n",
      "byte-compiling build/bdist.linux-x86_64/egg/object_detection/metrics/coco_evaluation_test.py to coco_evaluation_test.cpython-37.pyc\n",
      "byte-compiling build/bdist.linux-x86_64/egg/object_detection/metrics/tf_example_parser_test.py to tf_example_parser_test.cpython-37.pyc\n",
      "byte-compiling build/bdist.linux-x86_64/egg/object_detection/metrics/oid_challenge_evaluation_utils.py to oid_challenge_evaluation_utils.cpython-37.pyc\n",
      "byte-compiling build/bdist.linux-x86_64/egg/object_detection/metrics/lvis_tools_test.py to lvis_tools_test.cpython-37.pyc\n",
      "byte-compiling build/bdist.linux-x86_64/egg/object_detection/metrics/oid_vrd_challenge_evaluation_utils.py to oid_vrd_challenge_evaluation_utils.cpython-37.pyc\n",
      "byte-compiling build/bdist.linux-x86_64/egg/object_detection/metrics/coco_tools_test.py to coco_tools_test.cpython-37.pyc\n",
      "byte-compiling build/bdist.linux-x86_64/egg/object_detection/metrics/oid_challenge_evaluation.py to oid_challenge_evaluation.cpython-37.pyc\n",
      "byte-compiling build/bdist.linux-x86_64/egg/object_detection/metrics/calibration_metrics_tf1_test.py to calibration_metrics_tf1_test.cpython-37.pyc\n",
      "byte-compiling build/bdist.linux-x86_64/egg/object_detection/metrics/offline_eval_map_corloc_test.py to offline_eval_map_corloc_test.cpython-37.pyc\n",
      "byte-compiling build/bdist.linux-x86_64/egg/object_detection/metrics/lvis_tools.py to lvis_tools.cpython-37.pyc\n",
      "byte-compiling build/bdist.linux-x86_64/egg/object_detection/metrics/tf_example_parser.py to tf_example_parser.cpython-37.pyc\n",
      "byte-compiling build/bdist.linux-x86_64/egg/object_detection/metrics/oid_vrd_challenge_evaluation.py to oid_vrd_challenge_evaluation.cpython-37.pyc\n",
      "byte-compiling build/bdist.linux-x86_64/egg/object_detection/models/center_net_mobilenet_v2_feature_extractor.py to center_net_mobilenet_v2_feature_extractor.cpython-37.pyc\n",
      "byte-compiling build/bdist.linux-x86_64/egg/object_detection/models/feature_map_generators.py to feature_map_generators.cpython-37.pyc\n",
      "byte-compiling build/bdist.linux-x86_64/egg/object_detection/models/ssd_efficientnet_bifpn_feature_extractor.py to ssd_efficientnet_bifpn_feature_extractor.cpython-37.pyc\n",
      "byte-compiling build/bdist.linux-x86_64/egg/object_detection/models/center_net_resnet_v1_fpn_feature_extractor.py to center_net_resnet_v1_fpn_feature_extractor.cpython-37.pyc\n",
      "byte-compiling build/bdist.linux-x86_64/egg/object_detection/models/ssd_mobilenet_edgetpu_feature_extractor.py to ssd_mobilenet_edgetpu_feature_extractor.cpython-37.pyc\n",
      "byte-compiling build/bdist.linux-x86_64/egg/object_detection/models/center_net_resnet_v1_fpn_feature_extractor_tf2_test.py to center_net_resnet_v1_fpn_feature_extractor_tf2_test.cpython-37.pyc\n",
      "byte-compiling build/bdist.linux-x86_64/egg/object_detection/models/embedded_ssd_mobilenet_v1_feature_extractor_tf1_test.py to embedded_ssd_mobilenet_v1_feature_extractor_tf1_test.cpython-37.pyc\n",
      "byte-compiling build/bdist.linux-x86_64/egg/object_detection/models/faster_rcnn_resnet_v1_feature_extractor_tf1_test.py to faster_rcnn_resnet_v1_feature_extractor_tf1_test.cpython-37.pyc\n",
      "byte-compiling build/bdist.linux-x86_64/egg/object_detection/models/faster_rcnn_resnet_v1_fpn_keras_feature_extractor.py to faster_rcnn_resnet_v1_fpn_keras_feature_extractor.cpython-37.pyc\n",
      "byte-compiling build/bdist.linux-x86_64/egg/object_detection/models/faster_rcnn_inception_resnet_v2_keras_feature_extractor.py to faster_rcnn_inception_resnet_v2_keras_feature_extractor.cpython-37.pyc\n",
      "byte-compiling build/bdist.linux-x86_64/egg/object_detection/models/faster_rcnn_pnas_feature_extractor.py to faster_rcnn_pnas_feature_extractor.cpython-37.pyc\n",
      "byte-compiling build/bdist.linux-x86_64/egg/object_detection/models/faster_rcnn_resnet_keras_feature_extractor.py to faster_rcnn_resnet_keras_feature_extractor.cpython-37.pyc\n",
      "byte-compiling build/bdist.linux-x86_64/egg/object_detection/models/ssd_resnet_v1_fpn_feature_extractor_tf2_test.py to ssd_resnet_v1_fpn_feature_extractor_tf2_test.cpython-37.pyc\n",
      "byte-compiling build/bdist.linux-x86_64/egg/object_detection/models/faster_rcnn_resnet_v1_feature_extractor.py to faster_rcnn_resnet_v1_feature_extractor.cpython-37.pyc\n",
      "byte-compiling build/bdist.linux-x86_64/egg/object_detection/models/ssd_mobilenet_v2_fpn_feature_extractor_tf2_test.py to ssd_mobilenet_v2_fpn_feature_extractor_tf2_test.cpython-37.pyc\n",
      "byte-compiling build/bdist.linux-x86_64/egg/object_detection/models/ssd_feature_extractor_test.py to ssd_feature_extractor_test.cpython-37.pyc\n",
      "byte-compiling build/bdist.linux-x86_64/egg/object_detection/models/ssd_mobilenet_v2_keras_feature_extractor.py to ssd_mobilenet_v2_keras_feature_extractor.cpython-37.pyc\n",
      "byte-compiling build/bdist.linux-x86_64/egg/object_detection/models/center_net_hourglass_feature_extractor_tf2_test.py to center_net_hourglass_feature_extractor_tf2_test.cpython-37.pyc\n",
      "byte-compiling build/bdist.linux-x86_64/egg/object_detection/models/ssd_mobilenet_v2_fpn_keras_feature_extractor.py to ssd_mobilenet_v2_fpn_keras_feature_extractor.cpython-37.pyc\n",
      "byte-compiling build/bdist.linux-x86_64/egg/object_detection/models/ssd_resnet_v1_fpn_feature_extractor_tf1_test.py to ssd_resnet_v1_fpn_feature_extractor_tf1_test.cpython-37.pyc\n",
      "byte-compiling build/bdist.linux-x86_64/egg/object_detection/models/faster_rcnn_inception_resnet_v2_keras_feature_extractor_tf2_test.py to faster_rcnn_inception_resnet_v2_keras_feature_extractor_tf2_test.cpython-37.pyc\n",
      "byte-compiling build/bdist.linux-x86_64/egg/object_detection/models/ssd_mobilenet_v2_feature_extractor.py to ssd_mobilenet_v2_feature_extractor.cpython-37.pyc\n",
      "byte-compiling build/bdist.linux-x86_64/egg/object_detection/models/ssd_inception_v2_feature_extractor.py to ssd_inception_v2_feature_extractor.cpython-37.pyc\n",
      "byte-compiling build/bdist.linux-x86_64/egg/object_detection/models/center_net_mobilenet_v2_fpn_feature_extractor_tf2_test.py to center_net_mobilenet_v2_fpn_feature_extractor_tf2_test.cpython-37.pyc\n",
      "byte-compiling build/bdist.linux-x86_64/egg/object_detection/models/faster_rcnn_inception_v2_feature_extractor_tf1_test.py to faster_rcnn_inception_v2_feature_extractor_tf1_test.cpython-37.pyc\n",
      "byte-compiling build/bdist.linux-x86_64/egg/object_detection/models/__init__.py to __init__.cpython-37.pyc\n",
      "byte-compiling build/bdist.linux-x86_64/egg/object_detection/models/ssd_mobilenet_v1_feature_extractor.py to ssd_mobilenet_v1_feature_extractor.cpython-37.pyc\n",
      "byte-compiling build/bdist.linux-x86_64/egg/object_detection/models/ssd_mobilenet_edgetpu_feature_extractor_testbase.py to ssd_mobilenet_edgetpu_feature_extractor_testbase.cpython-37.pyc\n",
      "byte-compiling build/bdist.linux-x86_64/egg/object_detection/models/ssd_mobilenet_v1_keras_feature_extractor.py to ssd_mobilenet_v1_keras_feature_extractor.cpython-37.pyc\n",
      "byte-compiling build/bdist.linux-x86_64/egg/object_detection/models/ssd_pnasnet_feature_extractor.py to ssd_pnasnet_feature_extractor.cpython-37.pyc\n",
      "byte-compiling build/bdist.linux-x86_64/egg/object_detection/models/faster_rcnn_inception_v2_feature_extractor.py to faster_rcnn_inception_v2_feature_extractor.cpython-37.pyc\n",
      "byte-compiling build/bdist.linux-x86_64/egg/object_detection/models/ssd_mobilenet_v1_ppn_feature_extractor.py to ssd_mobilenet_v1_ppn_feature_extractor.cpython-37.pyc\n",
      "byte-compiling build/bdist.linux-x86_64/egg/object_detection/models/ssd_resnet_v1_fpn_feature_extractor_testbase.py to ssd_resnet_v1_fpn_feature_extractor_testbase.cpython-37.pyc\n",
      "byte-compiling build/bdist.linux-x86_64/egg/object_detection/models/bidirectional_feature_pyramid_generators_tf2_test.py to bidirectional_feature_pyramid_generators_tf2_test.cpython-37.pyc\n",
      "byte-compiling build/bdist.linux-x86_64/egg/object_detection/models/faster_rcnn_resnet_v1_fpn_keras_feature_extractor_tf2_test.py to faster_rcnn_resnet_v1_fpn_keras_feature_extractor_tf2_test.cpython-37.pyc\n",
      "byte-compiling build/bdist.linux-x86_64/egg/object_detection/models/ssd_mobilenet_v1_feature_extractor_tf2_test.py to ssd_mobilenet_v1_feature_extractor_tf2_test.cpython-37.pyc\n",
      "byte-compiling build/bdist.linux-x86_64/egg/object_detection/models/faster_rcnn_inception_resnet_v2_feature_extractor.py to faster_rcnn_inception_resnet_v2_feature_extractor.cpython-37.pyc\n",
      "byte-compiling build/bdist.linux-x86_64/egg/object_detection/models/faster_rcnn_mobilenet_v1_feature_extractor_tf1_test.py to faster_rcnn_mobilenet_v1_feature_extractor_tf1_test.cpython-37.pyc\n",
      "byte-compiling build/bdist.linux-x86_64/egg/object_detection/models/ssd_mobilenet_v2_mnasfpn_feature_extractor.py to ssd_mobilenet_v2_mnasfpn_feature_extractor.cpython-37.pyc\n",
      "byte-compiling build/bdist.linux-x86_64/egg/object_detection/models/ssd_resnet_v1_ppn_feature_extractor.py to ssd_resnet_v1_ppn_feature_extractor.cpython-37.pyc\n",
      "byte-compiling build/bdist.linux-x86_64/egg/object_detection/models/ssd_efficientnet_bifpn_feature_extractor_tf2_test.py to ssd_efficientnet_bifpn_feature_extractor_tf2_test.cpython-37.pyc\n",
      "byte-compiling build/bdist.linux-x86_64/egg/object_detection/models/ssd_mobilenet_edgetpu_feature_extractor_tf1_test.py to ssd_mobilenet_edgetpu_feature_extractor_tf1_test.cpython-37.pyc\n",
      "byte-compiling build/bdist.linux-x86_64/egg/object_detection/models/ssd_resnet_v1_fpn_feature_extractor.py to ssd_resnet_v1_fpn_feature_extractor.cpython-37.pyc\n",
      "byte-compiling build/bdist.linux-x86_64/egg/object_detection/models/center_net_mobilenet_v2_feature_extractor_tf2_test.py to center_net_mobilenet_v2_feature_extractor_tf2_test.cpython-37.pyc\n",
      "byte-compiling build/bdist.linux-x86_64/egg/object_detection/models/ssd_inception_v3_feature_extractor_tf1_test.py to ssd_inception_v3_feature_extractor_tf1_test.cpython-37.pyc\n",
      "byte-compiling build/bdist.linux-x86_64/egg/object_detection/models/feature_map_generators_test.py to feature_map_generators_test.cpython-37.pyc\n",
      "byte-compiling build/bdist.linux-x86_64/egg/object_detection/models/ssd_mobilenet_v1_fpn_keras_feature_extractor.py to ssd_mobilenet_v1_fpn_keras_feature_extractor.cpython-37.pyc\n",
      "byte-compiling build/bdist.linux-x86_64/egg/object_detection/models/center_net_hourglass_feature_extractor.py to center_net_hourglass_feature_extractor.cpython-37.pyc\n",
      "byte-compiling build/bdist.linux-x86_64/egg/object_detection/models/embedded_ssd_mobilenet_v1_feature_extractor.py to embedded_ssd_mobilenet_v1_feature_extractor.cpython-37.pyc\n",
      "byte-compiling build/bdist.linux-x86_64/egg/object_detection/models/ssd_resnet_v1_fpn_keras_feature_extractor.py to ssd_resnet_v1_fpn_keras_feature_extractor.cpython-37.pyc\n",
      "byte-compiling build/bdist.linux-x86_64/egg/object_detection/models/ssd_mobilenet_v1_feature_extractor_tf1_test.py to ssd_mobilenet_v1_feature_extractor_tf1_test.cpython-37.pyc\n",
      "byte-compiling build/bdist.linux-x86_64/egg/object_detection/models/ssd_mobilenet_v1_fpn_feature_extractor_tf2_test.py to ssd_mobilenet_v1_fpn_feature_extractor_tf2_test.cpython-37.pyc\n",
      "byte-compiling build/bdist.linux-x86_64/egg/object_detection/models/center_net_resnet_feature_extractor.py to center_net_resnet_feature_extractor.cpython-37.pyc\n",
      "byte-compiling build/bdist.linux-x86_64/egg/object_detection/models/faster_rcnn_nas_feature_extractor_tf1_test.py to faster_rcnn_nas_feature_extractor_tf1_test.cpython-37.pyc\n",
      "byte-compiling build/bdist.linux-x86_64/egg/object_detection/models/ssd_mobilenet_v2_feature_extractor_tf1_test.py to ssd_mobilenet_v2_feature_extractor_tf1_test.cpython-37.pyc\n",
      "byte-compiling build/bdist.linux-x86_64/egg/object_detection/models/faster_rcnn_nas_feature_extractor.py to faster_rcnn_nas_feature_extractor.cpython-37.pyc\n",
      "byte-compiling build/bdist.linux-x86_64/egg/object_detection/models/faster_rcnn_resnet_keras_feature_extractor_tf2_test.py to faster_rcnn_resnet_keras_feature_extractor_tf2_test.cpython-37.pyc\n",
      "byte-compiling build/bdist.linux-x86_64/egg/object_detection/models/ssd_mobilenet_v2_fpn_feature_extractor_tf1_test.py to ssd_mobilenet_v2_fpn_feature_extractor_tf1_test.cpython-37.pyc\n",
      "byte-compiling build/bdist.linux-x86_64/egg/object_detection/models/faster_rcnn_inception_resnet_v2_feature_extractor_tf1_test.py to faster_rcnn_inception_resnet_v2_feature_extractor_tf1_test.cpython-37.pyc\n",
      "byte-compiling build/bdist.linux-x86_64/egg/object_detection/models/bidirectional_feature_pyramid_generators.py to bidirectional_feature_pyramid_generators.cpython-37.pyc\n",
      "byte-compiling build/bdist.linux-x86_64/egg/object_detection/models/ssd_resnet_v1_ppn_feature_extractor_testbase.py to ssd_resnet_v1_ppn_feature_extractor_testbase.cpython-37.pyc\n",
      "byte-compiling build/bdist.linux-x86_64/egg/object_detection/models/center_net_mobilenet_v2_fpn_feature_extractor.py to center_net_mobilenet_v2_fpn_feature_extractor.cpython-37.pyc\n",
      "byte-compiling build/bdist.linux-x86_64/egg/object_detection/models/ssd_mobilenet_v1_fpn_feature_extractor.py to ssd_mobilenet_v1_fpn_feature_extractor.cpython-37.pyc\n",
      "byte-compiling build/bdist.linux-x86_64/egg/object_detection/models/ssd_mobilenet_v2_feature_extractor_tf2_test.py to ssd_mobilenet_v2_feature_extractor_tf2_test.cpython-37.pyc\n",
      "byte-compiling build/bdist.linux-x86_64/egg/object_detection/models/ssd_mobilenet_v1_ppn_feature_extractor_tf1_test.py to ssd_mobilenet_v1_ppn_feature_extractor_tf1_test.cpython-37.pyc\n",
      "byte-compiling build/bdist.linux-x86_64/egg/object_detection/models/ssd_resnet_v1_ppn_feature_extractor_tf1_test.py to ssd_resnet_v1_ppn_feature_extractor_tf1_test.cpython-37.pyc\n",
      "byte-compiling build/bdist.linux-x86_64/egg/object_detection/models/ssd_mobilenet_v1_fpn_feature_extractor_tf1_test.py to ssd_mobilenet_v1_fpn_feature_extractor_tf1_test.cpython-37.pyc\n",
      "byte-compiling build/bdist.linux-x86_64/egg/object_detection/models/faster_rcnn_pnas_feature_extractor_tf1_test.py to faster_rcnn_pnas_feature_extractor_tf1_test.cpython-37.pyc\n",
      "byte-compiling build/bdist.linux-x86_64/egg/object_detection/models/ssd_inception_v2_feature_extractor_tf1_test.py to ssd_inception_v2_feature_extractor_tf1_test.cpython-37.pyc\n",
      "byte-compiling build/bdist.linux-x86_64/egg/object_detection/models/ssd_mobilenet_v2_mnasfpn_feature_extractor_tf1_test.py to ssd_mobilenet_v2_mnasfpn_feature_extractor_tf1_test.cpython-37.pyc\n",
      "byte-compiling build/bdist.linux-x86_64/egg/object_detection/models/ssd_inception_v3_feature_extractor.py to ssd_inception_v3_feature_extractor.cpython-37.pyc\n",
      "byte-compiling build/bdist.linux-x86_64/egg/object_detection/models/ssd_mobiledet_feature_extractor_tf1_test.py to ssd_mobiledet_feature_extractor_tf1_test.cpython-37.pyc\n",
      "byte-compiling build/bdist.linux-x86_64/egg/object_detection/models/faster_rcnn_mobilenet_v1_feature_extractor.py to faster_rcnn_mobilenet_v1_feature_extractor.cpython-37.pyc\n",
      "byte-compiling build/bdist.linux-x86_64/egg/object_detection/models/ssd_pnasnet_feature_extractor_tf1_test.py to ssd_pnasnet_feature_extractor_tf1_test.cpython-37.pyc\n",
      "byte-compiling build/bdist.linux-x86_64/egg/object_detection/models/ssd_mobilenet_v3_feature_extractor.py to ssd_mobilenet_v3_feature_extractor.cpython-37.pyc\n",
      "byte-compiling build/bdist.linux-x86_64/egg/object_detection/models/ssd_mobilenet_v3_feature_extractor_tf1_test.py to ssd_mobilenet_v3_feature_extractor_tf1_test.cpython-37.pyc\n",
      "byte-compiling build/bdist.linux-x86_64/egg/object_detection/models/ssd_mobilenet_v3_feature_extractor_testbase.py to ssd_mobilenet_v3_feature_extractor_testbase.cpython-37.pyc\n",
      "byte-compiling build/bdist.linux-x86_64/egg/object_detection/models/ssd_mobilenet_v2_fpn_feature_extractor.py to ssd_mobilenet_v2_fpn_feature_extractor.cpython-37.pyc\n",
      "byte-compiling build/bdist.linux-x86_64/egg/object_detection/models/center_net_resnet_feature_extractor_tf2_test.py to center_net_resnet_feature_extractor_tf2_test.cpython-37.pyc\n",
      "byte-compiling build/bdist.linux-x86_64/egg/object_detection/models/ssd_mobiledet_feature_extractor.py to ssd_mobiledet_feature_extractor.cpython-37.pyc\n",
      "byte-compiling build/bdist.linux-x86_64/egg/object_detection/models/keras_models/test_utils.py to test_utils.cpython-37.pyc\n",
      "byte-compiling build/bdist.linux-x86_64/egg/object_detection/models/keras_models/resnet_v1_tf2_test.py to resnet_v1_tf2_test.cpython-37.pyc\n",
      "byte-compiling build/bdist.linux-x86_64/egg/object_detection/models/keras_models/mobilenet_v1.py to mobilenet_v1.cpython-37.pyc\n",
      "byte-compiling build/bdist.linux-x86_64/egg/object_detection/models/keras_models/mobilenet_v1_tf2_test.py to mobilenet_v1_tf2_test.cpython-37.pyc\n",
      "byte-compiling build/bdist.linux-x86_64/egg/object_detection/models/keras_models/resnet_v1.py to resnet_v1.cpython-37.pyc\n",
      "byte-compiling build/bdist.linux-x86_64/egg/object_detection/models/keras_models/__init__.py to __init__.cpython-37.pyc\n",
      "byte-compiling build/bdist.linux-x86_64/egg/object_detection/models/keras_models/inception_resnet_v2.py to inception_resnet_v2.cpython-37.pyc\n",
      "byte-compiling build/bdist.linux-x86_64/egg/object_detection/models/keras_models/hourglass_network_tf2_test.py to hourglass_network_tf2_test.cpython-37.pyc\n",
      "byte-compiling build/bdist.linux-x86_64/egg/object_detection/models/keras_models/convert_keras_models.py to convert_keras_models.cpython-37.pyc\n",
      "byte-compiling build/bdist.linux-x86_64/egg/object_detection/models/keras_models/mobilenet_v2.py to mobilenet_v2.cpython-37.pyc\n",
      "byte-compiling build/bdist.linux-x86_64/egg/object_detection/models/keras_models/hourglass_network.py to hourglass_network.cpython-37.pyc\n",
      "byte-compiling build/bdist.linux-x86_64/egg/object_detection/models/keras_models/model_utils.py to model_utils.cpython-37.pyc\n",
      "byte-compiling build/bdist.linux-x86_64/egg/object_detection/models/keras_models/mobilenet_v2_tf2_test.py to mobilenet_v2_tf2_test.cpython-37.pyc\n",
      "byte-compiling build/bdist.linux-x86_64/egg/object_detection/models/keras_models/inception_resnet_v2_tf2_test.py to inception_resnet_v2_tf2_test.cpython-37.pyc\n",
      "byte-compiling build/bdist.linux-x86_64/egg/object_detection/predictors/convolutional_keras_box_predictor_tf2_test.py to convolutional_keras_box_predictor_tf2_test.cpython-37.pyc\n",
      "byte-compiling build/bdist.linux-x86_64/egg/object_detection/predictors/rfcn_keras_box_predictor_tf2_test.py to rfcn_keras_box_predictor_tf2_test.cpython-37.pyc\n",
      "byte-compiling build/bdist.linux-x86_64/egg/object_detection/predictors/rfcn_keras_box_predictor.py to rfcn_keras_box_predictor.cpython-37.pyc\n",
      "byte-compiling build/bdist.linux-x86_64/egg/object_detection/predictors/__init__.py to __init__.cpython-37.pyc\n",
      "byte-compiling build/bdist.linux-x86_64/egg/object_detection/predictors/rfcn_box_predictor.py to rfcn_box_predictor.cpython-37.pyc\n",
      "byte-compiling build/bdist.linux-x86_64/egg/object_detection/predictors/rfcn_box_predictor_tf1_test.py to rfcn_box_predictor_tf1_test.cpython-37.pyc\n",
      "byte-compiling build/bdist.linux-x86_64/egg/object_detection/predictors/mask_rcnn_keras_box_predictor.py to mask_rcnn_keras_box_predictor.cpython-37.pyc\n",
      "byte-compiling build/bdist.linux-x86_64/egg/object_detection/predictors/convolutional_box_predictor_tf1_test.py to convolutional_box_predictor_tf1_test.cpython-37.pyc\n",
      "byte-compiling build/bdist.linux-x86_64/egg/object_detection/predictors/mask_rcnn_box_predictor_tf1_test.py to mask_rcnn_box_predictor_tf1_test.cpython-37.pyc\n",
      "byte-compiling build/bdist.linux-x86_64/egg/object_detection/predictors/mask_rcnn_keras_box_predictor_tf2_test.py to mask_rcnn_keras_box_predictor_tf2_test.cpython-37.pyc\n",
      "byte-compiling build/bdist.linux-x86_64/egg/object_detection/predictors/convolutional_box_predictor.py to convolutional_box_predictor.cpython-37.pyc\n",
      "byte-compiling build/bdist.linux-x86_64/egg/object_detection/predictors/convolutional_keras_box_predictor.py to convolutional_keras_box_predictor.cpython-37.pyc\n",
      "byte-compiling build/bdist.linux-x86_64/egg/object_detection/predictors/mask_rcnn_box_predictor.py to mask_rcnn_box_predictor.cpython-37.pyc\n",
      "byte-compiling build/bdist.linux-x86_64/egg/object_detection/predictors/heads/head.py to head.cpython-37.pyc\n",
      "byte-compiling build/bdist.linux-x86_64/egg/object_detection/predictors/heads/box_head_tf1_test.py to box_head_tf1_test.cpython-37.pyc\n",
      "byte-compiling build/bdist.linux-x86_64/egg/object_detection/predictors/heads/keras_box_head.py to keras_box_head.cpython-37.pyc\n",
      "byte-compiling build/bdist.linux-x86_64/egg/object_detection/predictors/heads/class_head_tf1_test.py to class_head_tf1_test.cpython-37.pyc\n",
      "byte-compiling build/bdist.linux-x86_64/egg/object_detection/predictors/heads/mask_head_tf1_test.py to mask_head_tf1_test.cpython-37.pyc\n",
      "byte-compiling build/bdist.linux-x86_64/egg/object_detection/predictors/heads/keras_class_head_tf2_test.py to keras_class_head_tf2_test.cpython-37.pyc\n",
      "byte-compiling build/bdist.linux-x86_64/egg/object_detection/predictors/heads/__init__.py to __init__.cpython-37.pyc\n",
      "byte-compiling build/bdist.linux-x86_64/egg/object_detection/predictors/heads/keras_box_head_tf2_test.py to keras_box_head_tf2_test.cpython-37.pyc\n",
      "byte-compiling build/bdist.linux-x86_64/egg/object_detection/predictors/heads/keras_mask_head.py to keras_mask_head.cpython-37.pyc\n",
      "byte-compiling build/bdist.linux-x86_64/egg/object_detection/predictors/heads/mask_head.py to mask_head.cpython-37.pyc\n",
      "byte-compiling build/bdist.linux-x86_64/egg/object_detection/predictors/heads/keypoint_head.py to keypoint_head.cpython-37.pyc\n",
      "byte-compiling build/bdist.linux-x86_64/egg/object_detection/predictors/heads/box_head.py to box_head.cpython-37.pyc\n",
      "byte-compiling build/bdist.linux-x86_64/egg/object_detection/predictors/heads/keypoint_head_tf1_test.py to keypoint_head_tf1_test.cpython-37.pyc\n",
      "byte-compiling build/bdist.linux-x86_64/egg/object_detection/predictors/heads/keras_mask_head_tf2_test.py to keras_mask_head_tf2_test.cpython-37.pyc\n",
      "byte-compiling build/bdist.linux-x86_64/egg/object_detection/predictors/heads/keras_class_head.py to keras_class_head.cpython-37.pyc\n",
      "byte-compiling build/bdist.linux-x86_64/egg/object_detection/predictors/heads/class_head.py to class_head.cpython-37.pyc\n",
      "byte-compiling build/bdist.linux-x86_64/egg/object_detection/protos/__init__.py to __init__.cpython-37.pyc\n",
      "byte-compiling build/bdist.linux-x86_64/egg/object_detection/protos/center_net_pb2.py to center_net_pb2.cpython-37.pyc\n",
      "byte-compiling build/bdist.linux-x86_64/egg/object_detection/protos/fpn_pb2.py to fpn_pb2.cpython-37.pyc\n",
      "byte-compiling build/bdist.linux-x86_64/egg/object_detection/protos/target_assigner_pb2.py to target_assigner_pb2.cpython-37.pyc\n",
      "byte-compiling build/bdist.linux-x86_64/egg/object_detection/protos/anchor_generator_pb2.py to anchor_generator_pb2.cpython-37.pyc\n",
      "byte-compiling build/bdist.linux-x86_64/egg/object_detection/protos/argmax_matcher_pb2.py to argmax_matcher_pb2.cpython-37.pyc\n",
      "byte-compiling build/bdist.linux-x86_64/egg/object_detection/protos/calibration_pb2.py to calibration_pb2.cpython-37.pyc\n",
      "byte-compiling build/bdist.linux-x86_64/egg/object_detection/protos/faster_rcnn_box_coder_pb2.py to faster_rcnn_box_coder_pb2.cpython-37.pyc\n",
      "byte-compiling build/bdist.linux-x86_64/egg/object_detection/protos/bipartite_matcher_pb2.py to bipartite_matcher_pb2.cpython-37.pyc\n",
      "byte-compiling build/bdist.linux-x86_64/egg/object_detection/protos/eval_pb2.py to eval_pb2.cpython-37.pyc\n",
      "byte-compiling build/bdist.linux-x86_64/egg/object_detection/protos/box_coder_pb2.py to box_coder_pb2.cpython-37.pyc\n",
      "byte-compiling build/bdist.linux-x86_64/egg/object_detection/protos/graph_rewriter_pb2.py to graph_rewriter_pb2.cpython-37.pyc\n",
      "byte-compiling build/bdist.linux-x86_64/egg/object_detection/protos/flexible_grid_anchor_generator_pb2.py to flexible_grid_anchor_generator_pb2.cpython-37.pyc\n",
      "byte-compiling build/bdist.linux-x86_64/egg/object_detection/protos/faster_rcnn_pb2.py to faster_rcnn_pb2.cpython-37.pyc\n",
      "byte-compiling build/bdist.linux-x86_64/egg/object_detection/protos/box_predictor_pb2.py to box_predictor_pb2.cpython-37.pyc\n",
      "byte-compiling build/bdist.linux-x86_64/egg/object_detection/protos/grid_anchor_generator_pb2.py to grid_anchor_generator_pb2.cpython-37.pyc\n",
      "byte-compiling build/bdist.linux-x86_64/egg/object_detection/protos/hyperparams_pb2.py to hyperparams_pb2.cpython-37.pyc\n",
      "byte-compiling build/bdist.linux-x86_64/egg/object_detection/protos/image_resizer_pb2.py to image_resizer_pb2.cpython-37.pyc\n",
      "byte-compiling build/bdist.linux-x86_64/egg/object_detection/protos/matcher_pb2.py to matcher_pb2.cpython-37.pyc\n",
      "byte-compiling build/bdist.linux-x86_64/egg/object_detection/protos/input_reader_pb2.py to input_reader_pb2.cpython-37.pyc\n",
      "byte-compiling build/bdist.linux-x86_64/egg/object_detection/protos/losses_pb2.py to losses_pb2.cpython-37.pyc\n",
      "byte-compiling build/bdist.linux-x86_64/egg/object_detection/protos/mean_stddev_box_coder_pb2.py to mean_stddev_box_coder_pb2.cpython-37.pyc\n",
      "byte-compiling build/bdist.linux-x86_64/egg/object_detection/protos/keypoint_box_coder_pb2.py to keypoint_box_coder_pb2.cpython-37.pyc\n",
      "byte-compiling build/bdist.linux-x86_64/egg/object_detection/protos/model_pb2.py to model_pb2.cpython-37.pyc\n",
      "byte-compiling build/bdist.linux-x86_64/egg/object_detection/protos/multiscale_anchor_generator_pb2.py to multiscale_anchor_generator_pb2.cpython-37.pyc\n",
      "byte-compiling build/bdist.linux-x86_64/egg/object_detection/protos/pipeline_pb2.py to pipeline_pb2.cpython-37.pyc\n",
      "byte-compiling build/bdist.linux-x86_64/egg/object_detection/protos/square_box_coder_pb2.py to square_box_coder_pb2.cpython-37.pyc\n",
      "byte-compiling build/bdist.linux-x86_64/egg/object_detection/protos/region_similarity_calculator_pb2.py to region_similarity_calculator_pb2.cpython-37.pyc\n",
      "byte-compiling build/bdist.linux-x86_64/egg/object_detection/protos/ssd_pb2.py to ssd_pb2.cpython-37.pyc\n",
      "byte-compiling build/bdist.linux-x86_64/egg/object_detection/protos/preprocessor_pb2.py to preprocessor_pb2.cpython-37.pyc\n",
      "byte-compiling build/bdist.linux-x86_64/egg/object_detection/protos/post_processing_pb2.py to post_processing_pb2.cpython-37.pyc\n",
      "byte-compiling build/bdist.linux-x86_64/egg/object_detection/protos/ssd_anchor_generator_pb2.py to ssd_anchor_generator_pb2.cpython-37.pyc\n",
      "byte-compiling build/bdist.linux-x86_64/egg/object_detection/protos/string_int_label_map_pb2.py to string_int_label_map_pb2.cpython-37.pyc\n",
      "byte-compiling build/bdist.linux-x86_64/egg/object_detection/protos/train_pb2.py to train_pb2.cpython-37.pyc\n",
      "byte-compiling build/bdist.linux-x86_64/egg/object_detection/protos/optimizer_pb2.py to optimizer_pb2.cpython-37.pyc\n",
      "byte-compiling build/bdist.linux-x86_64/egg/object_detection/tpu_exporters/export_saved_model_tpu_lib_tf1_test.py to export_saved_model_tpu_lib_tf1_test.cpython-37.pyc\n",
      "byte-compiling build/bdist.linux-x86_64/egg/object_detection/tpu_exporters/utils_test.py to utils_test.cpython-37.pyc\n",
      "byte-compiling build/bdist.linux-x86_64/egg/object_detection/tpu_exporters/export_saved_model_tpu_lib.py to export_saved_model_tpu_lib.cpython-37.pyc\n",
      "byte-compiling build/bdist.linux-x86_64/egg/object_detection/tpu_exporters/ssd.py to ssd.cpython-37.pyc\n",
      "byte-compiling build/bdist.linux-x86_64/egg/object_detection/tpu_exporters/export_saved_model_tpu.py to export_saved_model_tpu.cpython-37.pyc\n",
      "byte-compiling build/bdist.linux-x86_64/egg/object_detection/tpu_exporters/faster_rcnn.py to faster_rcnn.cpython-37.pyc\n",
      "byte-compiling build/bdist.linux-x86_64/egg/object_detection/tpu_exporters/__init__.py to __init__.cpython-37.pyc\n",
      "byte-compiling build/bdist.linux-x86_64/egg/object_detection/tpu_exporters/utils.py to utils.cpython-37.pyc\n",
      "byte-compiling build/bdist.linux-x86_64/egg/object_detection/tpu_exporters/testdata/__init__.py to __init__.cpython-37.pyc\n",
      "byte-compiling build/bdist.linux-x86_64/egg/object_detection/utils/category_util.py to category_util.cpython-37.pyc\n",
      "byte-compiling build/bdist.linux-x86_64/egg/object_detection/utils/visualization_utils.py to visualization_utils.cpython-37.pyc\n",
      "byte-compiling build/bdist.linux-x86_64/egg/object_detection/utils/np_mask_ops.py to np_mask_ops.cpython-37.pyc\n",
      "byte-compiling build/bdist.linux-x86_64/egg/object_detection/utils/visualization_utils_test.py to visualization_utils_test.cpython-37.pyc\n",
      "byte-compiling build/bdist.linux-x86_64/egg/object_detection/utils/patch_ops.py to patch_ops.cpython-37.pyc\n",
      "byte-compiling build/bdist.linux-x86_64/egg/object_detection/utils/np_box_list_test.py to np_box_list_test.cpython-37.pyc\n",
      "byte-compiling build/bdist.linux-x86_64/egg/object_detection/utils/np_box_mask_list_test.py to np_box_mask_list_test.cpython-37.pyc\n",
      "byte-compiling build/bdist.linux-x86_64/egg/object_detection/utils/variables_helper_tf1_test.py to variables_helper_tf1_test.cpython-37.pyc\n",
      "byte-compiling build/bdist.linux-x86_64/egg/object_detection/utils/__init__.py to __init__.cpython-37.pyc\n",
      "byte-compiling build/bdist.linux-x86_64/egg/object_detection/utils/spatial_transform_ops.py to spatial_transform_ops.cpython-37.pyc\n",
      "byte-compiling build/bdist.linux-x86_64/egg/object_detection/utils/np_box_mask_list.py to np_box_mask_list.cpython-37.pyc\n",
      "byte-compiling build/bdist.linux-x86_64/egg/object_detection/utils/dataset_util.py to dataset_util.cpython-37.pyc\n",
      "byte-compiling build/bdist.linux-x86_64/egg/object_detection/utils/per_image_vrd_evaluation_test.py to per_image_vrd_evaluation_test.cpython-37.pyc\n",
      "byte-compiling build/bdist.linux-x86_64/egg/object_detection/utils/test_utils_test.py to test_utils_test.cpython-37.pyc\n",
      "byte-compiling build/bdist.linux-x86_64/egg/object_detection/utils/per_image_evaluation_test.py to per_image_evaluation_test.cpython-37.pyc\n",
      "byte-compiling build/bdist.linux-x86_64/egg/object_detection/utils/np_box_ops.py to np_box_ops.cpython-37.pyc\n",
      "byte-compiling build/bdist.linux-x86_64/egg/object_detection/utils/target_assigner_utils.py to target_assigner_utils.cpython-37.pyc\n",
      "byte-compiling build/bdist.linux-x86_64/egg/object_detection/utils/context_manager_test.py to context_manager_test.cpython-37.pyc\n",
      "byte-compiling build/bdist.linux-x86_64/egg/object_detection/utils/json_utils_test.py to json_utils_test.cpython-37.pyc\n",
      "byte-compiling build/bdist.linux-x86_64/egg/object_detection/utils/test_utils.py to test_utils.cpython-37.pyc\n",
      "byte-compiling build/bdist.linux-x86_64/egg/object_detection/utils/config_util_test.py to config_util_test.cpython-37.pyc\n",
      "byte-compiling build/bdist.linux-x86_64/egg/object_detection/utils/dataset_util_test.py to dataset_util_test.cpython-37.pyc\n",
      "byte-compiling build/bdist.linux-x86_64/egg/object_detection/utils/spatial_transform_ops_test.py to spatial_transform_ops_test.cpython-37.pyc\n",
      "byte-compiling build/bdist.linux-x86_64/egg/object_detection/utils/autoaugment_utils.py to autoaugment_utils.cpython-37.pyc\n",
      "byte-compiling build/bdist.linux-x86_64/egg/object_detection/utils/test_case_test.py to test_case_test.cpython-37.pyc\n",
      "byte-compiling build/bdist.linux-x86_64/egg/object_detection/utils/vrd_evaluation.py to vrd_evaluation.cpython-37.pyc\n",
      "byte-compiling build/bdist.linux-x86_64/egg/object_detection/utils/metrics.py to metrics.cpython-37.pyc\n",
      "byte-compiling build/bdist.linux-x86_64/egg/object_detection/utils/json_utils.py to json_utils.cpython-37.pyc\n",
      "byte-compiling build/bdist.linux-x86_64/egg/object_detection/utils/patch_ops_test.py to patch_ops_test.cpython-37.pyc\n",
      "byte-compiling build/bdist.linux-x86_64/egg/object_detection/utils/vrd_evaluation_test.py to vrd_evaluation_test.cpython-37.pyc\n",
      "byte-compiling build/bdist.linux-x86_64/egg/object_detection/utils/per_image_evaluation.py to per_image_evaluation.cpython-37.pyc\n",
      "byte-compiling build/bdist.linux-x86_64/egg/object_detection/utils/shape_utils_test.py to shape_utils_test.cpython-37.pyc\n",
      "byte-compiling build/bdist.linux-x86_64/egg/object_detection/utils/per_image_vrd_evaluation.py to per_image_vrd_evaluation.cpython-37.pyc\n",
      "byte-compiling build/bdist.linux-x86_64/egg/object_detection/utils/context_manager.py to context_manager.cpython-37.pyc\n",
      "byte-compiling build/bdist.linux-x86_64/egg/object_detection/utils/ops.py to ops.cpython-37.pyc\n",
      "byte-compiling build/bdist.linux-x86_64/egg/object_detection/utils/object_detection_evaluation_test.py to object_detection_evaluation_test.cpython-37.pyc\n",
      "byte-compiling build/bdist.linux-x86_64/egg/object_detection/utils/np_mask_ops_test.py to np_mask_ops_test.cpython-37.pyc\n",
      "byte-compiling build/bdist.linux-x86_64/egg/object_detection/utils/ops_test.py to ops_test.cpython-37.pyc\n",
      "byte-compiling build/bdist.linux-x86_64/egg/object_detection/utils/static_shape_test.py to static_shape_test.cpython-37.pyc\n",
      "byte-compiling build/bdist.linux-x86_64/egg/object_detection/utils/np_box_list.py to np_box_list.cpython-37.pyc\n",
      "byte-compiling build/bdist.linux-x86_64/egg/object_detection/utils/np_box_list_ops.py to np_box_list_ops.cpython-37.pyc\n",
      "byte-compiling build/bdist.linux-x86_64/egg/object_detection/utils/model_util.py to model_util.cpython-37.pyc\n",
      "byte-compiling build/bdist.linux-x86_64/egg/object_detection/utils/model_util_tf2_test.py to model_util_tf2_test.cpython-37.pyc\n",
      "byte-compiling build/bdist.linux-x86_64/egg/object_detection/utils/learning_schedules_test.py to learning_schedules_test.cpython-37.pyc\n",
      "byte-compiling build/bdist.linux-x86_64/egg/object_detection/utils/metrics_test.py to metrics_test.cpython-37.pyc\n",
      "byte-compiling build/bdist.linux-x86_64/egg/object_detection/utils/label_map_util_test.py to label_map_util_test.cpython-37.pyc\n",
      "byte-compiling build/bdist.linux-x86_64/egg/object_detection/utils/learning_schedules.py to learning_schedules.cpython-37.pyc\n",
      "byte-compiling build/bdist.linux-x86_64/egg/object_detection/utils/test_case.py to test_case.cpython-37.pyc\n",
      "byte-compiling build/bdist.linux-x86_64/egg/object_detection/utils/target_assigner_utils_test.py to target_assigner_utils_test.cpython-37.pyc\n",
      "byte-compiling build/bdist.linux-x86_64/egg/object_detection/utils/category_util_test.py to category_util_test.cpython-37.pyc\n",
      "byte-compiling build/bdist.linux-x86_64/egg/object_detection/utils/np_box_mask_list_ops.py to np_box_mask_list_ops.cpython-37.pyc\n",
      "byte-compiling build/bdist.linux-x86_64/egg/object_detection/utils/np_box_ops_test.py to np_box_ops_test.cpython-37.pyc\n",
      "byte-compiling build/bdist.linux-x86_64/egg/object_detection/utils/config_util.py to config_util.cpython-37.pyc\n",
      "byte-compiling build/bdist.linux-x86_64/egg/object_detection/utils/colab_utils.py to colab_utils.cpython-37.pyc\n",
      "byte-compiling build/bdist.linux-x86_64/egg/object_detection/utils/np_box_mask_list_ops_test.py to np_box_mask_list_ops_test.cpython-37.pyc\n",
      "byte-compiling build/bdist.linux-x86_64/egg/object_detection/utils/label_map_util.py to label_map_util.cpython-37.pyc\n",
      "byte-compiling build/bdist.linux-x86_64/egg/object_detection/utils/object_detection_evaluation.py to object_detection_evaluation.cpython-37.pyc\n",
      "byte-compiling build/bdist.linux-x86_64/egg/object_detection/utils/shape_utils.py to shape_utils.cpython-37.pyc\n",
      "byte-compiling build/bdist.linux-x86_64/egg/object_detection/utils/tf_version.py to tf_version.cpython-37.pyc\n",
      "byte-compiling build/bdist.linux-x86_64/egg/object_detection/utils/variables_helper.py to variables_helper.cpython-37.pyc\n",
      "byte-compiling build/bdist.linux-x86_64/egg/object_detection/utils/np_box_list_ops_test.py to np_box_list_ops_test.cpython-37.pyc\n",
      "byte-compiling build/bdist.linux-x86_64/egg/object_detection/utils/bifpn_utils.py to bifpn_utils.cpython-37.pyc\n",
      "byte-compiling build/bdist.linux-x86_64/egg/object_detection/utils/static_shape.py to static_shape.cpython-37.pyc\n",
      "byte-compiling build/bdist.linux-x86_64/egg/object_detection/train.py to train.cpython-37.pyc\n",
      "byte-compiling build/bdist.linux-x86_64/egg/object_detection/model_lib.py to model_lib.cpython-37.pyc\n",
      "byte-compiling build/bdist.linux-x86_64/egg/object_detection/eval_util.py to eval_util.cpython-37.pyc\n",
      "byte-compiling build/bdist.linux-x86_64/egg/object_detection/model_main_tf2.py to model_main_tf2.cpython-37.pyc\n",
      "byte-compiling build/bdist.linux-x86_64/egg/object_detection/model_main.py to model_main.cpython-37.pyc\n",
      "byte-compiling build/bdist.linux-x86_64/egg/preprocessing/lenet_preprocessing.py to lenet_preprocessing.cpython-37.pyc\n",
      "byte-compiling build/bdist.linux-x86_64/egg/preprocessing/cifarnet_preprocessing.py to cifarnet_preprocessing.cpython-37.pyc\n",
      "byte-compiling build/bdist.linux-x86_64/egg/preprocessing/vgg_preprocessing.py to vgg_preprocessing.cpython-37.pyc\n",
      "byte-compiling build/bdist.linux-x86_64/egg/preprocessing/preprocessing_factory.py to preprocessing_factory.cpython-37.pyc\n",
      "byte-compiling build/bdist.linux-x86_64/egg/preprocessing/inception_preprocessing.py to inception_preprocessing.cpython-37.pyc\n",
      "byte-compiling build/bdist.linux-x86_64/egg/preprocessing/__init__.py to __init__.cpython-37.pyc\n",
      "byte-compiling build/bdist.linux-x86_64/egg/nets/lenet.py to lenet.cpython-37.pyc\n",
      "byte-compiling build/bdist.linux-x86_64/egg/nets/inception_v3_test.py to inception_v3_test.cpython-37.pyc\n",
      "byte-compiling build/bdist.linux-x86_64/egg/nets/resnet_v2_test.py to resnet_v2_test.cpython-37.pyc\n",
      "byte-compiling build/bdist.linux-x86_64/egg/nets/mobilenet_v1_test.py to mobilenet_v1_test.cpython-37.pyc\n",
      "byte-compiling build/bdist.linux-x86_64/egg/nets/inception_v4.py to inception_v4.cpython-37.pyc\n",
      "byte-compiling build/bdist.linux-x86_64/egg/nets/cyclegan.py to cyclegan.cpython-37.pyc\n",
      "byte-compiling build/bdist.linux-x86_64/egg/nets/nets_factory.py to nets_factory.cpython-37.pyc\n",
      "byte-compiling build/bdist.linux-x86_64/egg/nets/i3d_utils.py to i3d_utils.cpython-37.pyc\n",
      "byte-compiling build/bdist.linux-x86_64/egg/nets/__init__.py to __init__.cpython-37.pyc\n",
      "byte-compiling build/bdist.linux-x86_64/egg/nets/inception_resnet_v2.py to inception_resnet_v2.cpython-37.pyc\n",
      "byte-compiling build/bdist.linux-x86_64/egg/nets/inception.py to inception.cpython-37.pyc\n",
      "byte-compiling build/bdist.linux-x86_64/egg/nets/inception_v4_test.py to inception_v4_test.cpython-37.pyc\n",
      "byte-compiling build/bdist.linux-x86_64/egg/nets/overfeat_test.py to overfeat_test.cpython-37.pyc\n",
      "byte-compiling build/bdist.linux-x86_64/egg/nets/mobilenet_v1_eval.py to mobilenet_v1_eval.cpython-37.pyc\n",
      "byte-compiling build/bdist.linux-x86_64/egg/nets/overfeat.py to overfeat.cpython-37.pyc\n",
      "byte-compiling build/bdist.linux-x86_64/egg/nets/s3dg_test.py to s3dg_test.cpython-37.pyc\n",
      "byte-compiling build/bdist.linux-x86_64/egg/nets/cifarnet.py to cifarnet.cpython-37.pyc\n",
      "byte-compiling build/bdist.linux-x86_64/egg/nets/i3d.py to i3d.cpython-37.pyc\n",
      "byte-compiling build/bdist.linux-x86_64/egg/nets/inception_v1_test.py to inception_v1_test.cpython-37.pyc\n",
      "byte-compiling build/bdist.linux-x86_64/egg/nets/s3dg.py to s3dg.cpython-37.pyc\n",
      "byte-compiling build/bdist.linux-x86_64/egg/nets/pix2pix_test.py to pix2pix_test.cpython-37.pyc\n",
      "byte-compiling build/bdist.linux-x86_64/egg/nets/alexnet.py to alexnet.cpython-37.pyc\n",
      "byte-compiling build/bdist.linux-x86_64/egg/nets/i3d_test.py to i3d_test.cpython-37.pyc\n",
      "byte-compiling build/bdist.linux-x86_64/egg/nets/pix2pix.py to pix2pix.cpython-37.pyc\n",
      "byte-compiling build/bdist.linux-x86_64/egg/nets/dcgan.py to dcgan.cpython-37.pyc\n",
      "byte-compiling build/bdist.linux-x86_64/egg/nets/inception_v1.py to inception_v1.cpython-37.pyc\n",
      "byte-compiling build/bdist.linux-x86_64/egg/nets/inception_utils.py to inception_utils.cpython-37.pyc\n",
      "byte-compiling build/bdist.linux-x86_64/egg/nets/mobilenet_v1.py to mobilenet_v1.cpython-37.pyc\n",
      "byte-compiling build/bdist.linux-x86_64/egg/nets/vgg_test.py to vgg_test.cpython-37.pyc\n",
      "byte-compiling build/bdist.linux-x86_64/egg/nets/resnet_v2.py to resnet_v2.cpython-37.pyc\n",
      "byte-compiling build/bdist.linux-x86_64/egg/nets/dcgan_test.py to dcgan_test.cpython-37.pyc\n",
      "byte-compiling build/bdist.linux-x86_64/egg/nets/vgg.py to vgg.cpython-37.pyc\n",
      "byte-compiling build/bdist.linux-x86_64/egg/nets/inception_v2_test.py to inception_v2_test.cpython-37.pyc\n",
      "byte-compiling build/bdist.linux-x86_64/egg/nets/resnet_v1.py to resnet_v1.cpython-37.pyc\n",
      "byte-compiling build/bdist.linux-x86_64/egg/nets/post_training_quantization.py to post_training_quantization.cpython-37.pyc\n",
      "byte-compiling build/bdist.linux-x86_64/egg/nets/resnet_v1_test.py to resnet_v1_test.cpython-37.pyc\n",
      "byte-compiling build/bdist.linux-x86_64/egg/nets/alexnet_test.py to alexnet_test.cpython-37.pyc\n",
      "byte-compiling build/bdist.linux-x86_64/egg/nets/resnet_utils.py to resnet_utils.cpython-37.pyc\n",
      "byte-compiling build/bdist.linux-x86_64/egg/nets/inception_resnet_v2_test.py to inception_resnet_v2_test.cpython-37.pyc\n",
      "byte-compiling build/bdist.linux-x86_64/egg/nets/cyclegan_test.py to cyclegan_test.cpython-37.pyc\n",
      "byte-compiling build/bdist.linux-x86_64/egg/nets/mobilenet_v1_train.py to mobilenet_v1_train.cpython-37.pyc\n",
      "byte-compiling build/bdist.linux-x86_64/egg/nets/inception_v2.py to inception_v2.cpython-37.pyc\n",
      "byte-compiling build/bdist.linux-x86_64/egg/nets/inception_v3.py to inception_v3.cpython-37.pyc\n",
      "byte-compiling build/bdist.linux-x86_64/egg/nets/nets_factory_test.py to nets_factory_test.cpython-37.pyc\n",
      "byte-compiling build/bdist.linux-x86_64/egg/nets/nasnet/nasnet.py to nasnet.cpython-37.pyc\n",
      "byte-compiling build/bdist.linux-x86_64/egg/nets/nasnet/nasnet_test.py to nasnet_test.cpython-37.pyc\n",
      "byte-compiling build/bdist.linux-x86_64/egg/nets/nasnet/nasnet_utils.py to nasnet_utils.cpython-37.pyc\n",
      "byte-compiling build/bdist.linux-x86_64/egg/nets/nasnet/pnasnet_test.py to pnasnet_test.cpython-37.pyc\n",
      "byte-compiling build/bdist.linux-x86_64/egg/nets/nasnet/pnasnet.py to pnasnet.cpython-37.pyc\n",
      "byte-compiling build/bdist.linux-x86_64/egg/nets/nasnet/__init__.py to __init__.cpython-37.pyc\n",
      "byte-compiling build/bdist.linux-x86_64/egg/nets/nasnet/nasnet_utils_test.py to nasnet_utils_test.cpython-37.pyc\n",
      "byte-compiling build/bdist.linux-x86_64/egg/nets/mobilenet/mobilenet.py to mobilenet.cpython-37.pyc\n",
      "byte-compiling build/bdist.linux-x86_64/egg/nets/mobilenet/conv_blocks.py to conv_blocks.cpython-37.pyc\n",
      "byte-compiling build/bdist.linux-x86_64/egg/nets/mobilenet/mobilenet_v2.py to mobilenet_v2.cpython-37.pyc\n",
      "byte-compiling build/bdist.linux-x86_64/egg/nets/mobilenet/mobilenet_v3.py to mobilenet_v3.cpython-37.pyc\n",
      "byte-compiling build/bdist.linux-x86_64/egg/nets/mobilenet/__init__.py to __init__.cpython-37.pyc\n",
      "byte-compiling build/bdist.linux-x86_64/egg/nets/mobilenet/mobilenet_v2_test.py to mobilenet_v2_test.cpython-37.pyc\n",
      "byte-compiling build/bdist.linux-x86_64/egg/nets/mobilenet/mobilenet_v3_test.py to mobilenet_v3_test.cpython-37.pyc\n",
      "byte-compiling build/bdist.linux-x86_64/egg/datasets/flowers.py to flowers.cpython-37.pyc\n",
      "byte-compiling build/bdist.linux-x86_64/egg/datasets/mnist.py to mnist.cpython-37.pyc\n",
      "byte-compiling build/bdist.linux-x86_64/egg/datasets/download_and_convert_cifar10.py to download_and_convert_cifar10.cpython-37.pyc\n",
      "byte-compiling build/bdist.linux-x86_64/egg/datasets/download_and_convert_flowers.py to download_and_convert_flowers.cpython-37.pyc\n",
      "byte-compiling build/bdist.linux-x86_64/egg/datasets/download_and_convert_visualwakewords_lib.py to download_and_convert_visualwakewords_lib.cpython-37.pyc\n",
      "byte-compiling build/bdist.linux-x86_64/egg/datasets/imagenet.py to imagenet.cpython-37.pyc\n",
      "byte-compiling build/bdist.linux-x86_64/egg/datasets/preprocess_imagenet_validation_data.py to preprocess_imagenet_validation_data.cpython-37.pyc\n",
      "byte-compiling build/bdist.linux-x86_64/egg/datasets/download_and_convert_visualwakewords.py to download_and_convert_visualwakewords.cpython-37.pyc\n",
      "byte-compiling build/bdist.linux-x86_64/egg/datasets/__init__.py to __init__.cpython-37.pyc\n",
      "byte-compiling build/bdist.linux-x86_64/egg/datasets/download_and_convert_mnist.py to download_and_convert_mnist.cpython-37.pyc\n",
      "byte-compiling build/bdist.linux-x86_64/egg/datasets/visualwakewords.py to visualwakewords.cpython-37.pyc\n",
      "byte-compiling build/bdist.linux-x86_64/egg/datasets/cifar10.py to cifar10.cpython-37.pyc\n",
      "byte-compiling build/bdist.linux-x86_64/egg/datasets/dataset_utils.py to dataset_utils.cpython-37.pyc\n",
      "byte-compiling build/bdist.linux-x86_64/egg/datasets/build_imagenet_data.py to build_imagenet_data.cpython-37.pyc\n",
      "byte-compiling build/bdist.linux-x86_64/egg/datasets/process_bounding_boxes.py to process_bounding_boxes.cpython-37.pyc\n",
      "byte-compiling build/bdist.linux-x86_64/egg/datasets/dataset_factory.py to dataset_factory.cpython-37.pyc\n",
      "byte-compiling build/bdist.linux-x86_64/egg/deployment/model_deploy_test.py to model_deploy_test.cpython-37.pyc\n",
      "byte-compiling build/bdist.linux-x86_64/egg/deployment/__init__.py to __init__.cpython-37.pyc\n",
      "byte-compiling build/bdist.linux-x86_64/egg/deployment/model_deploy.py to model_deploy.cpython-37.pyc\n",
      "creating build/bdist.linux-x86_64/egg/EGG-INFO\n",
      "copying object_detection.egg-info/PKG-INFO -> build/bdist.linux-x86_64/egg/EGG-INFO\n",
      "copying object_detection.egg-info/SOURCES.txt -> build/bdist.linux-x86_64/egg/EGG-INFO\n",
      "copying object_detection.egg-info/dependency_links.txt -> build/bdist.linux-x86_64/egg/EGG-INFO\n",
      "copying object_detection.egg-info/requires.txt -> build/bdist.linux-x86_64/egg/EGG-INFO\n",
      "copying object_detection.egg-info/top_level.txt -> build/bdist.linux-x86_64/egg/EGG-INFO\n",
      "zip_safe flag not set; analyzing archive contents...\n",
      "object_detection.core.__pycache__.densepose_ops.cpython-37: module references __file__\n",
      "object_detection.core.__pycache__.preprocessor.cpython-37: module MAY be using inspect.stack\n",
      "object_detection.utils.__pycache__.autoaugment_utils.cpython-37: module MAY be using inspect.stack\n",
      "creating 'dist/object_detection-0.1-py3.7.egg' and adding 'build/bdist.linux-x86_64/egg' to it\n",
      "removing 'build/bdist.linux-x86_64/egg' (and everything under it)\n",
      "Processing object_detection-0.1-py3.7.egg\n",
      "removing '/usr/local/lib/python3.7/dist-packages/object_detection-0.1-py3.7.egg' (and everything under it)\n",
      "creating /usr/local/lib/python3.7/dist-packages/object_detection-0.1-py3.7.egg\n",
      "Extracting object_detection-0.1-py3.7.egg to /usr/local/lib/python3.7/dist-packages\n",
      "object-detection 0.1 is already the active version in easy-install.pth\n",
      "\n",
      "Installed /usr/local/lib/python3.7/dist-packages/object_detection-0.1-py3.7.egg\n",
      "Processing dependencies for object-detection==0.1\n",
      "error: avro-python3 1.10.2 is installed but avro-python3!=1.9.2,<1.10.0,>=1.8.1 is required by {'apache-beam'}\n"
     ]
    }
   ],
   "source": [
    "%cd /content/drive/MyDrive/blocos_UFRB/object-detection/models/research\n",
    "\n",
    "#This creates a name_pb2.py file from every name.proto file in the \\object_detection\\protos folder\n",
    "!protoc --python_out=. ./object_detection/protos/anchor_generator.proto ./object_detection/protos/argmax_matcher.proto ./object_detection/protos/bipartite_matcher.proto ./object_detection/protos/box_coder.proto ./object_detection/protos/box_predictor.proto ./object_detection/protos/eval.proto ./object_detection/protos/faster_rcnn.proto ./object_detection/protos/faster_rcnn_box_coder.proto ./object_detection/protos/grid_anchor_generator.proto ./object_detection/protos/hyperparams.proto ./object_detection/protos/image_resizer.proto ./object_detection/protos/input_reader.proto ./object_detection/protos/losses.proto ./object_detection/protos/matcher.proto ./object_detection/protos/mean_stddev_box_coder.proto ./object_detection/protos/model.proto ./object_detection/protos/optimizer.proto ./object_detection/protos/pipeline.proto ./object_detection/protos/post_processing.proto ./object_detection/protos/preprocessor.proto ./object_detection/protos/region_similarity_calculator.proto ./object_detection/protos/square_box_coder.proto ./object_detection/protos/ssd.proto ./object_detection/protos/ssd_anchor_generator.proto ./object_detection/protos/string_int_label_map.proto ./object_detection/protos/train.proto ./object_detection/protos/keypoint_box_coder.proto ./object_detection/protos/multiscale_anchor_generator.proto ./object_detection/protos/graph_rewriter.proto ./object_detection/protos/calibration.proto ./object_detection/protos/flexible_grid_anchor_generator.proto\n",
    "\n",
    "#na mesma pasta, research:\n",
    "!python setup.py build\n",
    "!python setup.py install\n"
   ]
  },
  {
   "cell_type": "code",
   "execution_count": null,
   "metadata": {
    "id": "MVT1iJskyofT"
   },
   "outputs": [],
   "source": []
  },
  {
   "cell_type": "code",
   "execution_count": null,
   "metadata": {
    "id": "23nex7dzhJrX"
   },
   "outputs": [],
   "source": []
  },
  {
   "cell_type": "markdown",
   "metadata": {
    "id": "SxKosTv_q7iD"
   },
   "source": [
    "**Configurar dados de treino**"
   ]
  },
  {
   "cell_type": "code",
   "execution_count": null,
   "metadata": {
    "colab": {
     "base_uri": "https://localhost:8080/"
    },
    "executionInfo": {
     "elapsed": 1007,
     "status": "ok",
     "timestamp": 1618499560054,
     "user": {
      "displayName": "Joel Pires",
      "photoUrl": "https://lh3.googleusercontent.com/a-/AOh14GjrkaLfiKiet0e-o_oXvTKF-XtZ2WaMxUJ8jf5BZw=s64",
      "userId": "05624030019219650428"
     },
     "user_tz": 180
    },
    "id": "EnCSrpd6TU0f",
    "outputId": "dd26e417-af16-4a05-bd9d-f9080ea1c5c2"
   },
   "outputs": [
    {
     "name": "stdout",
     "output_type": "stream",
     "text": [
      "/content/drive/MyDrive/blocos_UFRB/object-detection\n"
     ]
    }
   ],
   "source": [
    "\n",
    "\"\"\" Se houverem\n",
    "* deletar todos arquivos em models/research/object_detection/images/train\n",
    "* deletar todos arquivos em models/research/object_detection/images/test\n",
    "* deletar test_labels.csv em models/.../images\n",
    "* deletar train_labels.csv em models/.../images\n",
    "* deletar todos em models/.../object_detection/training\n",
    "* deletar todos em models/.../object_detection/inference_graph\n",
    "\n",
    "Se essas pastas não existirem, criar\n",
    "\"\"\"\n",
    "\n",
    "%cd /content/drive/MyDrive/blocos_UFRB/object-detection/\n",
    "#trabalhar em cima da pasta object-detection\n",
    "\n",
    "!mv ./dados/train ./models/research/object_detection/images/ #mover a pasta train de data para a pasta train de images\n",
    "!mv ./dados/test ./models/research/object_detection/images/ #mover test para a pasta images\n",
    "\n",
    "!mv ./dados/train_labels.csv ./models/research/object_detection/images/ #mover arquivo train_labels.csv\n",
    "!mv ./dados/test_labels.csv ./models/research/object_detection/images/\n",
    "\n",
    "!mv ./dados/train.record ./models/research/object_detection/ #mover train.record\n",
    "!mv ./dados/test.record ./models/research/object_detection/\n",
    "\n",
    "!mv ./dados/labelmap.pbtxt ./models/research/object_detection/training/\n"
   ]
  },
  {
   "cell_type": "markdown",
   "metadata": {
    "id": "5CvllpTcGGXU"
   },
   "source": [
    "**Configuração do modelo**"
   ]
  },
  {
   "cell_type": "code",
   "execution_count": null,
   "metadata": {
    "colab": {
     "base_uri": "https://localhost:8080/"
    },
    "executionInfo": {
     "elapsed": 3453,
     "status": "ok",
     "timestamp": 1618525640346,
     "user": {
      "displayName": "Joel Pires",
      "photoUrl": "",
      "userId": "04104313084458887080"
     },
     "user_tz": 180
    },
    "id": "2QgrnC3uGEi3",
    "outputId": "c342a281-7d8d-448e-b135-017c60e275ec"
   },
   "outputs": [
    {
     "name": "stdout",
     "output_type": "stream",
     "text": [
      "/content/drive/MyDrive/blocos_UFRB/object-detection/models/research/object_detection\n"
     ]
    }
   ],
   "source": [
    "#copiar o arquivo de configuração do modelo que se está usando para a pasta training\n",
    "%cd /content/drive/MyDrive/blocos_UFRB/object-detection/models/research/object_detection\n",
    "!cp ./samples/configs/ssd_mobilenet_v2_quantized_300x300_coco.config ./training"
   ]
  },
  {
   "cell_type": "code",
   "execution_count": null,
   "metadata": {
    "id": "lZn2Ex6tHKJz"
   },
   "outputs": [],
   "source": [
    "\"\"\"\n",
    "  Abrir o arquivo config copiado no editor de texto e configure:\n",
    "  \n",
    "  \n",
    "  linha 13: num_classes = numero de classes que quer detectar\n",
    "  \n",
    "  *train_config\n",
    "  linha 149: batch_size = 6, na verdade, de acordo com a quantidade de dados para treino\n",
    "  linha 150: num_steps = 800000\n",
    "  \n",
    "  linha 156: fine_tune_checkpoint = \"local do modelo baixado/model.ckpt\"\n",
    "  linha 175: input_path = \"pasta/.../train.record\"\n",
    "  linha 177: label_map_path = \"pasta/.../labelmap.pbtxt\"\n",
    "  linha 181: num_samples = len(glob.glob(\"path/images/train/*.jpg\")) #quantidade de imagens de treino\n",
    "  linha 189: input_path = \"pasta/.../test.record\" #pasta onde está o test.record\n",
    "  linha 191: label_map_path = \"\"pasta/.../labelmap.pbtxt\"\n",
    "\n",
    "  max_number_of_boxes: 100\n",
    "\"\"\"\n",
    "#depois salva o arquivo"
   ]
  },
  {
   "cell_type": "markdown",
   "metadata": {
    "id": "2144PwW8rT6M"
   },
   "source": [
    "Copiar train.py de \\object_detection\\legacy para \\object_detection\\"
   ]
  },
  {
   "cell_type": "code",
   "execution_count": 6,
   "metadata": {
    "colab": {
     "base_uri": "https://localhost:8080/"
    },
    "executionInfo": {
     "elapsed": 1311,
     "status": "ok",
     "timestamp": 1618572459226,
     "user": {
      "displayName": "Joel Pires",
      "photoUrl": "",
      "userId": "04104313084458887080"
     },
     "user_tz": 180
    },
    "id": "rhnJ9o8ArSTS",
    "outputId": "d1722d5d-c4f0-4b31-dde4-f6686b8066d9"
   },
   "outputs": [
    {
     "name": "stdout",
     "output_type": "stream",
     "text": [
      "/content/drive/MyDrive/blocos_UFRB/object-detection/models/research/object_detection\n"
     ]
    }
   ],
   "source": [
    "%cd /content/drive/MyDrive/blocos_UFRB/object-detection/models/research/object_detection/\n",
    "\n",
    "!cp ./legacy/train.py ./"
   ]
  },
  {
   "cell_type": "markdown",
   "metadata": {
    "id": "42zEJeNZZjwS"
   },
   "source": [
    "#Treinar o modelo"
   ]
  },
  {
   "cell_type": "code",
   "execution_count": null,
   "metadata": {
    "id": "0QvFbQ63JaML"
   },
   "outputs": [],
   "source": [
    "#train.py está antigo\n",
    "%cd /content/drive/MyDrive/blocos_UFRB/object-detection/models/research/object_detection/\n",
    "\n",
    "!python model_main_tf2.py \\\n",
    "        --logtostderr \\\n",
    "        -–train_dir=training/ \\\n",
    "        --pipeline_config_path=training/ssd_mobilenet_v2_quantized_300x300_coco.config"
   ]
  },
  {
   "cell_type": "code",
   "execution_count": 16,
   "metadata": {
    "colab": {
     "base_uri": "https://localhost:8080/"
    },
    "executionInfo": {
     "elapsed": 2811,
     "status": "ok",
     "timestamp": 1618572928850,
     "user": {
      "displayName": "Joel Pires",
      "photoUrl": "",
      "userId": "04104313084458887080"
     },
     "user_tz": 180
    },
    "id": "wuLVeIx7ZlnP",
    "outputId": "df512be2-0734-4b4f-b21a-3d2119aa9d77"
   },
   "outputs": [
    {
     "name": "stdout",
     "output_type": "stream",
     "text": [
      "/content/drive/MyDrive/blocos_UFRB/object-detection/models/research/object_detection\n",
      "Traceback (most recent call last):\n",
      "  File \"train.py\", line 44, in <module>\n",
      "    from object_detection import trainer\n",
      "ImportError: cannot import name 'trainer' from 'object_detection' (/usr/local/lib/python3.7/dist-packages/object_detection-0.1-py3.7.egg/object_detection/__init__.py)\n"
     ]
    }
   ],
   "source": [
    "#na própria pasta object_detection: Este arquivo já está pré configurado.\n",
    "%cd /content/drive/MyDrive/blocos_UFRB/object-detection/models/research/object_detection/\n",
    "!python train.py \\\n",
    "        --logtostderr \\\n",
    "        -–train_dir=training/ \\\n",
    "        --pipeline_config_path=training/ssd_mobilenet_v2_quantized_300x300_coco.config"
   ]
  },
  {
   "cell_type": "code",
   "execution_count": null,
   "metadata": {
    "id": "qE4m3BKeB1oN",
    "scrolled": true
   },
   "outputs": [],
   "source": [
    "#Caso queira ver o repositório do tutorial original (inglês):\n",
    "\n",
    "!wget https://github.com/EdjeElectronics/TensorFlow-Object-Detection-API-Tutorial-Train-Multiple-Objects-Windows-10/archive/master.zip\n",
    "!unzip master.zip"
   ]
  },
  {
   "cell_type": "code",
   "execution_count": null,
   "metadata": {
    "id": "lw8N7evFCUwk"
   },
   "outputs": [],
   "source": [
    "!pip install pycocotools"
   ]
  },
  {
   "cell_type": "code",
   "execution_count": null,
   "metadata": {
    "colab": {
     "base_uri": "https://localhost:8080/"
    },
    "executionInfo": {
     "elapsed": 25941,
     "status": "ok",
     "timestamp": 1618424844341,
     "user": {
      "displayName": "Joel Pires",
      "photoUrl": "",
      "userId": "04104313084458887080"
     },
     "user_tz": 180
    },
    "id": "c9nY0KBCPJVq",
    "outputId": "284d0751-a238-46be-95b4-327d9b6fb839"
   },
   "outputs": [
    {
     "name": "stdout",
     "output_type": "stream",
     "text": [
      "Selecting previously unselected package libfluidsynth1:amd64.\n",
      "(Reading database ... 160983 files and directories currently installed.)\n",
      "Preparing to unpack .../libfluidsynth1_1.1.9-1_amd64.deb ...\n",
      "Unpacking libfluidsynth1:amd64 (1.1.9-1) ...\n",
      "Setting up libfluidsynth1:amd64 (1.1.9-1) ...\n",
      "Processing triggers for libc-bin (2.27-3ubuntu1.2) ...\n",
      "/sbin/ldconfig.real: /usr/local/lib/python3.7/dist-packages/ideep4py/lib/libmkldnn.so.0 is not a symbolic link\n",
      "\n",
      "Selecting previously unselected package libarchive-dev:amd64.\n",
      "(Reading database ... 160988 files and directories currently installed.)\n",
      "Preparing to unpack .../libarchive-dev_3.2.2-3.1ubuntu0.6_amd64.deb ...\n",
      "Unpacking libarchive-dev:amd64 (3.2.2-3.1ubuntu0.6) ...\n",
      "Setting up libarchive-dev:amd64 (3.2.2-3.1ubuntu0.6) ...\n",
      "Processing triggers for man-db (2.8.3-2ubuntu0.1) ...\n",
      "\u001b[K     |████████████████████████████████| 163kB 28.2MB/s \n",
      "\u001b[?25h  Building wheel for libarchive (setup.py) ... \u001b[?25l\u001b[?25hdone\n"
     ]
    }
   ],
   "source": [
    "!pip install -q matplotlib-venn\n",
    "!apt-get -qq install -y libfluidsynth1\n",
    "!apt-get -qq install -y libarchive-dev && pip install -q -U libarchive\n",
    "import libarchive\n",
    "!apt-get -qq install -y graphviz && pip install -q pydot\n",
    "import pydot"
   ]
  },
  {
   "cell_type": "code",
   "execution_count": null,
   "metadata": {
    "id": "OmlRvSoXXLnm"
   },
   "outputs": [],
   "source": [
    "%load_ext tensorboard\n",
    "%tensorboard --logdir=training/"
   ]
  },
  {
   "cell_type": "markdown",
   "metadata": {
    "id": "artaMuvSkmcr"
   },
   "source": [
    "\n",
    "**After Traning to copy all training files to google drive(backup)**\n",
    "\n",
    "Note: please backup after half n hour there are chances of disconnection\n",
    "\n"
   ]
  },
  {
   "cell_type": "code",
   "execution_count": null,
   "metadata": {
    "id": "Sp5Ckipsznny"
   },
   "outputs": [],
   "source": [
    "!cp -r /content/models-master/research/object_detection/training/ /content/drive/'My Drive'/"
   ]
  },
  {
   "cell_type": "markdown",
   "metadata": {
    "id": "uhjkkp2bqURr"
   },
   "source": [
    "\n",
    "**Copy back traing files from drive**"
   ]
  },
  {
   "cell_type": "code",
   "execution_count": null,
   "metadata": {
    "id": "YL0AwFgIqkXk"
   },
   "outputs": [],
   "source": [
    "!cp -r /content/drive/'My Drive'/training/ /content/models-master/research/object_detection/"
   ]
  },
  {
   "cell_type": "markdown",
   "metadata": {
    "id": "lJ7ODv_8k6-O"
   },
   "source": [
    "\n",
    "**To Create indent file**\n",
    "\n",
    "NOTE: \n",
    "\n",
    "1.  change XXXX with your number of checkpoint\n",
    "2.   tensorflow version should be same version as your computer or raspberrypi. X can be 1.15.0 , 1.10.0 , 1.4 , 1.8 etc\n",
    "\n",
    "\n"
   ]
  },
  {
   "cell_type": "code",
   "execution_count": null,
   "metadata": {
    "id": "sB5gcO-t1BDz"
   },
   "outputs": [],
   "source": [
    "!pip install tensorflow==X"
   ]
  },
  {
   "cell_type": "code",
   "execution_count": null,
   "metadata": {
    "id": "AmL8GYqmvOCj"
   },
   "outputs": [],
   "source": [
    "!gdown --id 1ONC7UVIq8wCwltViFCgtfSURHTOsouoy"
   ]
  },
  {
   "cell_type": "code",
   "execution_count": null,
   "metadata": {
    "id": "vYOyryK_qyxD"
   },
   "outputs": [],
   "source": [
    "!python export_inference_graph.py --input_type image_tensor --pipeline_config_path ssd_mobilenet_v2_quantized_300x300_coco.config --trained_checkpoint_prefix training/model.ckpt-XXXX --output_directory inference_graph"
   ]
  },
  {
   "cell_type": "code",
   "execution_count": null,
   "metadata": {
    "id": "GwdGZegqQPcS"
   },
   "outputs": [],
   "source": [
    "!cp -r /content/models-master/research/object_detection/inference_graph/ /content/drive/'My Drive'/"
   ]
  },
  {
   "cell_type": "markdown",
   "metadata": {
    "id": "hI2pvWGCn6eN"
   },
   "source": [
    "**Convert to tf-lite model** \n",
    "it will be saved in"
   ]
  },
  {
   "cell_type": "code",
   "execution_count": null,
   "metadata": {
    "id": "tHx84lnfn5a9"
   },
   "outputs": [],
   "source": [
    "!python export_tflite_ssd_graph.py --input_type image_tensor --pipeline_config_path ssd_mobilenet_v2_quantized_300x300_coco.config --trained_checkpoint_prefix training/model.ckpt-XXXX --output_directory inference_graph #--add_postprocessing_op=true"
   ]
  },
  {
   "cell_type": "markdown",
   "metadata": {
    "id": "Y0_S7_7Eq-sx"
   },
   "source": [
    "DONT USE BELOW CODE\n",
    "\n",
    "(ITS FOR TESTING AND IMPROVEMENT PURPOSE)"
   ]
  },
  {
   "cell_type": "code",
   "execution_count": null,
   "metadata": {
    "id": "oc9W-K9_q4jb"
   },
   "outputs": [],
   "source": [
    "!python export_tflite_ssd_graph.py --pipeline_config_path ssd_mobilenet_v2_quantized_300x300_coco.config --trained_checkpoint_prefix training/model.ckpt-XXXX --output_directory inference_graph --add_postprocessing_op=true"
   ]
  }
 ],
 "metadata": {
  "accelerator": "GPU",
  "colab": {
   "collapsed_sections": [],
   "name": "Cópia de tensorflow2-object-detection.ipynb",
   "provenance": [
    {
     "file_id": "1vPWLMAaWqYIPowWDh39usDQTgBTkbGcg",
     "timestamp": 1618411681063
    }
   ],
   "toc_visible": true
  },
  "kernelspec": {
   "display_name": "Python 3",
   "language": "python",
   "name": "python3"
  },
  "language_info": {
   "codemirror_mode": {
    "name": "ipython",
    "version": 3
   },
   "file_extension": ".py",
   "mimetype": "text/x-python",
   "name": "python",
   "nbconvert_exporter": "python",
   "pygments_lexer": "ipython3",
   "version": "3.8.5"
  }
 },
 "nbformat": 4,
 "nbformat_minor": 1
}
