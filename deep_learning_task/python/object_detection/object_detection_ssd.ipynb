{
  "nbformat": 4,
  "nbformat_minor": 0,
  "metadata": {
    "colab": {
      "name": "tutorial-object-detection-ssd-.ipynb",
      "provenance": [],
      "collapsed_sections": []
    },
    "kernelspec": {
      "display_name": "Python 3",
      "name": "python3"
    },
    "language_info": {
      "name": "python"
    }
  },
  "cells": [
    {
      "cell_type": "markdown",
      "metadata": {
        "id": "M0JqLBHgUP2Z"
      },
      "source": [
        "1. TUTORIAL: https://github.com/EdjeElectronics/TensorFlow-Lite-Object-Detection-on-Android-and-Raspberry-Pi\n",
        "\n",
        "2. MODELS: https://github.com/tensorflow/models/blob/master/research/object_detection/g3doc/tf2_detection_zoo.md\n"
      ]
    },
    {
      "cell_type": "code",
      "metadata": {
        "id": "JYOXSfyjJQLI"
      },
      "source": [
        "!pip install tensorflow-gpu"
      ],
      "execution_count": null,
      "outputs": []
    },
    {
      "cell_type": "markdown",
      "metadata": {
        "id": "q7ql9X2KUPMi"
      },
      "source": [
        ""
      ]
    },
    {
      "cell_type": "code",
      "metadata": {
        "id": "Hd45j5TEj9BP"
      },
      "source": [
        "import tensorflow as tf\n",
        "\n",
        "device_name = tf.test.gpu_device_name()\n",
        "print(device_name)\n",
        "print(\"'sup!'\")\n",
        "\n",
        "!/usr/local/cuda/bin/nvcc --version"
      ],
      "execution_count": null,
      "outputs": []
    },
    {
      "cell_type": "code",
      "metadata": {
        "id": "GzviBCPoKS-1"
      },
      "source": [
        "#baixar a api\n",
        "%cd /content/\n",
        "\n",
        "!wget https://github.com/tensorflow/models/archive/refs/heads/master.zip  #baixar a API mais recete disponibilizada pela TensorFlow\n",
        "!unzip master.zip\n",
        "!shred -u -z -n 20 master.zip #deletar o arquivo"
      ],
      "execution_count": null,
      "outputs": []
    },
    {
      "cell_type": "code",
      "metadata": {
        "id": "MhNNEe2SN0--"
      },
      "source": [
        "#por indicações do tensor flow\n",
        "%cd /content/models-master/research\n",
        "# Compile protos.\n",
        "!protoc ./object_detection/protos/*.proto --python_out=.\n",
        "# Install TensorFlow Object Detection API.\n",
        "!cp ./object_detection/packages/tf2/setup.py .\n",
        "!python -m pip install .\n",
        "\n",
        "\"\"\"\n",
        "#instalar a api\n",
        "\n",
        "%cd /content/models-master/research\n",
        "\n",
        "#This creates a name_pb2.py file from every name.proto file in the \\object_detection\\protos folder\n",
        "!protoc --python_out=. ./object_detection/protos/anchor_generator.proto ./object_detection/protos/argmax_matcher.proto ./object_detection/protos/bipartite_matcher.proto ./object_detection/protos/box_coder.proto ./object_detection/protos/box_predictor.proto ./object_detection/protos/eval.proto ./object_detection/protos/faster_rcnn.proto ./object_detection/protos/faster_rcnn_box_coder.proto ./object_detection/protos/grid_anchor_generator.proto ./object_detection/protos/hyperparams.proto ./object_detection/protos/image_resizer.proto ./object_detection/protos/input_reader.proto ./object_detection/protos/losses.proto ./object_detection/protos/matcher.proto ./object_detection/protos/mean_stddev_box_coder.proto ./object_detection/protos/model.proto ./object_detection/protos/optimizer.proto ./object_detection/protos/pipeline.proto ./object_detection/protos/post_processing.proto ./object_detection/protos/preprocessor.proto ./object_detection/protos/region_similarity_calculator.proto ./object_detection/protos/square_box_coder.proto ./object_detection/protos/ssd.proto ./object_detection/protos/ssd_anchor_generator.proto ./object_detection/protos/string_int_label_map.proto ./object_detection/protos/train.proto ./object_detection/protos/keypoint_box_coder.proto ./object_detection/protos/multiscale_anchor_generator.proto ./object_detection/protos/graph_rewriter.proto ./object_detection/protos/calibration.proto ./object_detection/protos/flexible_grid_anchor_generator.proto\n",
        "object_detection/protos/ssd.proto --python_out=.\n",
        "#na mesma pasta, research:\n",
        "!python setup.py build\n",
        "!python setup.py install\n",
        "\"\"\""
      ],
      "execution_count": null,
      "outputs": []
    },
    {
      "cell_type": "code",
      "metadata": {
        "id": "ibgIvBUpVFYB"
      },
      "source": [
        "#ecolher o modelo a ser treinado\n",
        "%cd /content/\n",
        "\n",
        "!wget http://download.tensorflow.org/models/object_detection/tf2/20200711/ssd_mobilenet_v2_fpnlite_320x320_coco17_tpu-8.tar.gz\n",
        "#!wget http://download.tensorflow.org/models/object_detection/tf2/20200711/ssd_mobilenet_v2_320x320_coco17_tpu-8.tar.gz #320x320\n",
        "#!wget http://download.tensorflow.org/models/object_detection/ssd_mobilenet_v2_quantized_300x300_coco_2019_01_03.tar.gz #300x300\n",
        "\n",
        "!tar -zxvf ssd_mobilenet_v2_fpnlite_320x320_coco17_tpu-8.tar.gz\n",
        "!shred -u -z -n 20 ssd_mobilenet_v2_fpnlite_320x320_coco17_tpu-8.tar.gz #deletar o arquivo"
      ],
      "execution_count": null,
      "outputs": []
    },
    {
      "cell_type": "code",
      "metadata": {
        "id": "kJ00F8AiNuHI"
      },
      "source": [
        "#copiar a configuração desse modelo da pasta samples da api\n",
        "!cp /content/models-master/research/object_detection/configs/tf2/ssd_mobilenet_v2_320x320_coco17_tpu-8.config /content/drive/MyDrive/blocos_UFRB/object-detection/training/\n"
      ],
      "execution_count": null,
      "outputs": []
    },
    {
      "cell_type": "code",
      "metadata": {
        "id": "Ead8d4Q6XawX"
      },
      "source": [
        "#copiar train.py\n",
        "!cp /content/models-master/research/object_detection/legacy/train.py /content/models-master/research/object_detection/"
      ],
      "execution_count": null,
      "outputs": []
    },
    {
      "cell_type": "code",
      "metadata": {
        "id": "lTNer2DTVgRW"
      },
      "source": [
        "%cd /content/models-master/research/object_detection/\n",
        "\n",
        "!python model_main_tf2.py \\\n",
        "        --logtostderr \\\n",
        "        --model_dir=\"/content/drive/MyDrive/blocos_UFRB/object-detection/outputs_efficienttdet\" \\\n",
        "        --pipeline_config_path=/content/drive/MyDrive/blocos_UFRB/object-detection/training/ssd_efficientdet_d0_512x512_coco17_tpu-8.config"
      ],
      "execution_count": null,
      "outputs": []
    },
    {
      "cell_type": "markdown",
      "metadata": {
        "id": "U1q95LYJgn1G"
      },
      "source": [
        "**Exportar para pb**"
      ]
    },
    {
      "cell_type": "code",
      "metadata": {
        "id": "v5ScWadegquV"
      },
      "source": [
        "!pip install tf-nightly"
      ],
      "execution_count": null,
      "outputs": []
    },
    {
      "cell_type": "code",
      "metadata": {
        "id": "sbhmTUBtR14n"
      },
      "source": [
        "#exportar modelo\n",
        "%cd /content/models-master/research/object_detection\n",
        "!python export_tflite_graph_tf2.py \\\n",
        " --pipeline_config_path=/content/ssd_mobilenet_v2_fpnlite_320x320_coco17_tpu-8/pipeline.config \\\n",
        " --trained_checkpoint_dir=/content/ssd_mobilenet_v2_fpnlite_320x320_coco17_tpu-8/checkpoint/ \\\n",
        " --output_directory=/content/ssd_mobilenet_v2_fpnlite_320x320_coco17_tpu-8/\n"
      ],
      "execution_count": null,
      "outputs": []
    },
    {
      "cell_type": "code",
      "metadata": {
        "id": "ci8v4vY_BpCY"
      },
      "source": [
        "import tensorflow as tf"
      ],
      "execution_count": null,
      "outputs": []
    },
    {
      "cell_type": "code",
      "metadata": {
        "id": "UdjMYOxnxlE8"
      },
      "source": [
        "model_dir = \"/content/ssd_mobilenet_v2_fpnlite_320x320_coco17_tpu-8/saved_model\"\n",
        "saved_model_dir = '/ssd_mobilenet_v2_fpnlite_320x320_coco17_tpu-8/saved_model'"
      ],
      "execution_count": null,
      "outputs": []
    },
    {
      "cell_type": "code",
      "metadata": {
        "id": "oyguvCNDBmWy"
      },
      "source": [
        "# Convert the model\n",
        "\n",
        "\n",
        "model = tf.saved_model.load(model_dir)\n",
        "concrete_func = model.signatures['serving_default']\n",
        "concrete_func.inputs[0].set_shape([1, 320, 320, 3])\n",
        "tf.saved_model.save(model, model_dir)\n",
        "\n",
        "converter = tf.lite.TFLiteConverter.from_saved_model(saved_model_dir, signature_keys=['serving_default'])\n",
        "converter.experimental_new_converter = True\n",
        "converter.target_spec.supported_ops = [tf.lite.OpsSet.TFLITE_BUILTINS, tf.lite.OpsSet.SELECT_TF_OPS]\n",
        "\n",
        "tflite_model = converter.convert()\n",
        "\n",
        "# Save the model.\n",
        "with open('/content/efficientdet_d0_coco17_tpu-32/saved_model/model.tflite', 'wb') as f:\n",
        "  f.write(tflite_model)"
      ],
      "execution_count": null,
      "outputs": []
    },
    {
      "cell_type": "code",
      "metadata": {
        "id": "2orGkDIhJml7"
      },
      "source": [
        "# Convert the model\n",
        "converter = tf.lite.TFLiteConverter.from_saved_model(model_dir) # path to the SavedModel directory\n",
        "tflite_model = converter.convert()\n",
        "\n",
        "# Save the model.\n",
        "with open('/content/model.tflite', 'wb') as f:\n",
        "  f.write(tflite_model)"
      ],
      "execution_count": null,
      "outputs": []
    }
  ]
}