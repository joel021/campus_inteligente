{
 "cells": [
  {
   "cell_type": "markdown",
   "id": "4008a419",
   "metadata": {},
   "source": [
    "# Configuração dos dados de treino para detecção de objetos para projeto Campus inteligente"
   ]
  },
  {
   "cell_type": "code",
   "execution_count": 7,
   "id": "37e3b5db",
   "metadata": {},
   "outputs": [],
   "source": [
    "from pacote.utils import name_of_image,rename_all,split_data\n",
    "from pacote.edits_image import Edicoes\n",
    "from pacote.annotation_functions import XmlToOther"
   ]
  },
  {
   "cell_type": "code",
   "execution_count": 8,
   "id": "8bed2710",
   "metadata": {},
   "outputs": [],
   "source": [
    "xml_to_other = XmlToOther()\n",
    "label_map = {\n",
    "    \"ANTIGA BIBLIOTECA\":1,\n",
    "    \"BIBLIOTECA UFRB\":2,\n",
    "    \"ESTUFA\":3,\n",
    "    \"LAB\":4,\n",
    "    \"PAV ENG\":5,\n",
    "    \"PAV I\":6,\n",
    "    \"PAV II\":7,\n",
    "    \"PREDIO SOLOS\":8,\n",
    "    \"REITORIA UFRB\":9,\n",
    "    \"CETEC\": 10\n",
    "}"
   ]
  },
  {
   "cell_type": "code",
   "execution_count": null,
   "id": "7c1a6eb9",
   "metadata": {},
   "outputs": [],
   "source": [
    "\"\"\"\n",
    "xml_to_other.xml_to_txt(\"C:/Users/Joelp/OneDrive/Imagens/blocos_ufrb/anotacao-fina/\",\n",
    "    \"C:/Users/Joelp/OneDrive/Imagens/blocos_ufrb/anotacao-fina-txt/\",\n",
    "    [\"ANTIGA BIBLIOTECA\", \"BIBLIOTECA UFRB\", \"ESTUFA\", \"LAB\", \"PAV ENG\", \"PAV I\", \"PAV II\", \"PREDIO SOLOS\", \"REITORIA UFRB\"],\n",
    "    type_image = \"jpg\",\n",
    "    map_labels=label_map, with_images=True)\n",
    "import glob\n",
    "for path in [\"ANTIGA BIBLIOTECA\", \"BIBLIOTECA UFRB\", \"ESTUFA\", \"LAB\", \"PAV ENG\", \"PAV I\", \"PAV II\", \"PREDIO SOLOS\", \"REITORIA UFRB\"]:\n",
    "    for file in glob.glob(\"C:/Users/Joelp/OneDrive/Imagens/blocos_ufrb/anotacao-fina/txt/\"+path+\"/*.xml\"):\n",
    "        os.remove(file)\n",
    "\n",
    "\"\"\"\n",
    "#Após as anotações não dependerem mais do tamanho da imagem, pode-se redimensionar\n",
    "crop_scale = Edicoes(\"C:/Users/Joelp/OneDrive/Imagens/blocos_ufrb/anotacao-fina-txt\", \"../data/images/train\")\n",
    "crop_scale.rescale(512, 512, False, True)\n",
    "\n",
    "#Aplica-se um desfoque\n",
    "edicoes = Edicoes(\"../data/images/train\", \"../data/images/desfocada\")\n",
    "edicoes.blur_image('g', 2)\n"
   ]
  }
 ],
 "metadata": {
  "kernelspec": {
   "display_name": "Python 3",
   "language": "python",
   "name": "python3"
  },
  "language_info": {
   "codemirror_mode": {
    "name": "ipython",
    "version": 3
   },
   "file_extension": ".py",
   "mimetype": "text/x-python",
   "name": "python",
   "nbconvert_exporter": "python",
   "pygments_lexer": "ipython3",
   "version": "3.7.0"
  }
 },
 "nbformat": 4,
 "nbformat_minor": 5
}
